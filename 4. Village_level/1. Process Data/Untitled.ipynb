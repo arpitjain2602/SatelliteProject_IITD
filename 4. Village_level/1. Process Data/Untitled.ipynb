{
 "cells": [
  {
   "cell_type": "code",
   "execution_count": 1,
   "metadata": {},
   "outputs": [],
   "source": [
    "from json import loads\n",
    "import sys\n",
    "import rasterio\n",
    "from rasterio.mask import mask\n",
    "import os\n",
    "import glob\n",
    "from shutil import copyfile\n",
    "import pandas as pd\n",
    "import numpy as np\n",
    "from shutil import copyfile\n",
    "from shutil import move"
   ]
  },
  {
   "cell_type": "code",
   "execution_count": 2,
   "metadata": {},
   "outputs": [],
   "source": [
    "# Variable Paths\n",
    "output_directory = r\"C:\\Users\\AJain7\\OneDrive - Stryker\\Personal\\Projects\\Satellite Project\\PreProcessData\\broken_files\" # The path where village file break hokar aaegi from state level\n",
    "# Go to line 181 or search file_new - Basically in Remove Duplicates\n",
    "image_path=r\"C:\\Users\\AJain7\\OneDrive - Stryker\\Personal\\Projects\\Satellite Project\\PreProcessData\\broken_files_woDupli\" # The link to broken village files with duplicates removed\n",
    "\n",
    "# Final Paths to images - Create these folders\n",
    "direc_1 = r\"C:\\Users\\AJain7\\OneDrive - Stryker\\Personal\\Projects\\Satellite Project\\PreProcessData\\data\\msw\\1\"\n",
    "direc_2 = r\"C:\\Users\\AJain7\\OneDrive - Stryker\\Personal\\Projects\\Satellite Project\\PreProcessData\\data\\msw\\2\"\n",
    "direc_3 = r\"C:\\Users\\AJain7\\OneDrive - Stryker\\Personal\\Projects\\Satellite Project\\PreProcessData\\data\\msw\\3\"\n",
    "direc_null = r\"C:\\Users\\AJain7\\OneDrive - Stryker\\Personal\\Projects\\Satellite Project\\PreProcessData\\data\\msw\\null\"\n",
    "train_path = r\"C:\\Users\\AJain7\\OneDrive - Stryker\\Personal\\Projects\\Satellite Project\\PreProcessData\\data\\msw\\train\"\n",
    "test_path = r\"C:\\Users\\AJain7\\OneDrive - Stryker\\Personal\\Projects\\Satellite Project\\PreProcessData\\data\\msw\\test\"\n",
    "\n",
    "\n",
    "# One time Paths\n",
    "folder_containing_tifffiles = r\"C:\\Users\\AJain7\\OneDrive - Stryker\\Personal\\Projects\\Satellite Project\\PreProcessData\\median_6_states\"\n",
    "# SHAPE FILES********************************************************\n",
    "# States Code - BR GJ KR [in xaa]\n",
    "# States Code - KR, MH KL [in xab]\n",
    "# States Code - MH, OD [in xac]\n",
    "xaa_file = r\"C:\\Users\\AJain7\\OneDrive - Stryker\\Personal\\Projects\\Satellite Project\\village shapefiles\\xaa.json\"\n",
    "xab_file = r\"C:\\Users\\AJain7\\OneDrive - Stryker\\Personal\\Projects\\Satellite Project\\village shapefiles\\xab.json\"\n",
    "xac_file = r\"C:\\Users\\AJain7\\OneDrive - Stryker\\Personal\\Projects\\Satellite Project\\village shapefiles\\xac.json\"\n",
    "\n",
    "# Label Path\n",
    "df=pd.read_csv(r\"C:\\Users\\AJain7\\OneDrive - Stryker\\Personal\\Projects\\Satellite Project\\Labels\\VillageLabels_MSW.csv\")\n",
    "village_code=df[\"Town/Village\"].values\n",
    "emp_label=df[\"Village_HHD_Cluster_MSW\"].values\n",
    "actual_labels= [ int(c) for c in emp_label]\n",
    "s1 = pd.Series(actual_labels,index=list(village_code))\n",
    "s2 = s1.groupby(s1.index).first()"
   ]
  },
  {
   "cell_type": "code",
   "execution_count": 3,
   "metadata": {},
   "outputs": [
    {
     "name": "stdout",
     "output_type": "stream",
     "text": [
      "Total Files: 196348\n",
      "Unique Files  184268\n"
     ]
    },
    {
     "ename": "KeyboardInterrupt",
     "evalue": "",
     "output_type": "error",
     "traceback": [
      "\u001b[1;31m---------------------------------------------------------------------------\u001b[0m",
      "\u001b[1;31mKeyboardInterrupt\u001b[0m                         Traceback (most recent call last)",
      "\u001b[1;32m<ipython-input-3-73fd9a789c3b>\u001b[0m in \u001b[0;36m<module>\u001b[1;34m\u001b[0m\n\u001b[0;32m     28\u001b[0m         \u001b[1;32mcontinue\u001b[0m\u001b[1;33m\u001b[0m\u001b[0m\n\u001b[0;32m     29\u001b[0m     \u001b[1;32melse\u001b[0m\u001b[1;33m:\u001b[0m\u001b[1;33m\u001b[0m\u001b[0m\n\u001b[1;32m---> 30\u001b[1;33m         \u001b[0mdup_list\u001b[0m\u001b[1;33m.\u001b[0m\u001b[0mappend\u001b[0m\u001b[1;33m(\u001b[0m\u001b[0mvc\u001b[0m\u001b[1;33m)\u001b[0m\u001b[1;33m\u001b[0m\u001b[0m\n\u001b[0m\u001b[0;32m     31\u001b[0m         \u001b[0mfinal_vcs\u001b[0m\u001b[1;33m.\u001b[0m\u001b[0mappend\u001b[0m\u001b[1;33m(\u001b[0m\u001b[0mele\u001b[0m\u001b[1;33m)\u001b[0m\u001b[1;33m\u001b[0m\u001b[0m\n\u001b[0;32m     32\u001b[0m     \u001b[0mi\u001b[0m\u001b[1;33m=\u001b[0m\u001b[0mi\u001b[0m\u001b[1;33m+\u001b[0m\u001b[1;36m1\u001b[0m\u001b[1;33m\u001b[0m\u001b[0m\n",
      "\u001b[1;31mKeyboardInterrupt\u001b[0m: "
     ]
    }
   ],
   "source": [
    "# Removing Duplicates     ***********************************************\n",
    "\n",
    "dirs1=os.listdir(output_directory)\n",
    "files1=[]\n",
    "for direc1 in dirs1:\n",
    "       file1=glob.glob(os.path.join(output_directory,direc1))\n",
    "       files1.extend(file1)\n",
    "files=[]\n",
    "files=files1\n",
    "\n",
    "print('Total Files:',len(files))\n",
    "files_code = map(lambda x: x.split('@')[3].split('.')[0].split()[0] , files)\n",
    "uniques = list(set(files_code))\n",
    "print('Unique Files ',len(uniques))\n",
    "\n",
    "wotif = map(lambda x: x.split('.tif')[0], files)\n",
    "list_dict = []\n",
    "for e in wotif:\n",
    "    (a,b) = e[:-6], e[-6:]\n",
    "    list_dict.append((a,b))\n",
    "\n",
    "dup_list = []\n",
    "final_vcs = []\n",
    "i=1\n",
    "for ele in list_dict:\n",
    "    vc = ele[1]\n",
    "    if (vc in dup_list):\n",
    "        continue\n",
    "    else:\n",
    "        dup_list.append(vc)\n",
    "        final_vcs.append(ele)\n",
    "    i=i+1\n",
    "\n",
    "file_paths = []\n",
    "for a,b in final_vcs:\n",
    "    x = a+b+'.tif'\n",
    "    file_paths.append(x)\n",
    "\n"
   ]
  },
  {
   "cell_type": "code",
   "execution_count": null,
   "metadata": {},
   "outputs": [],
   "source": [
    "file_paths"
   ]
  },
  {
   "cell_type": "code",
   "execution_count": null,
   "metadata": {},
   "outputs": [],
   "source": [
    "# Change the folder name accordingly\n",
    "# CHANGE THE BELOW PEICE ACCORDING TO OUTPUT DIRECTORY KI LOCATION\n",
    "file_new = map(lambda x: x.replace('broken_files','broken_files_woDupli'), file_paths)\n",
    "\n",
    "for i in range(len(file_paths)):\n",
    "    copyfile(file_paths[i], file_new[i])"
   ]
  }
 ],
 "metadata": {
  "kernelspec": {
   "display_name": "Python 3",
   "language": "python",
   "name": "python3"
  },
  "language_info": {
   "codemirror_mode": {
    "name": "ipython",
    "version": 3
   },
   "file_extension": ".py",
   "mimetype": "text/x-python",
   "name": "python",
   "nbconvert_exporter": "python",
   "pygments_lexer": "ipython3",
   "version": "3.6.6"
  }
 },
 "nbformat": 4,
 "nbformat_minor": 2
}
