{
 "cells": [
  {
   "cell_type": "code",
   "execution_count": 11,
   "metadata": {},
   "outputs": [
    {
     "name": "stdout",
     "output_type": "stream",
     "text": [
      "read\n",
      "done\n"
     ]
    }
   ],
   "source": [
    "from json import loads\n",
    "import sys\n",
    "import rasterio\n",
    "from rasterio.mask import mask\n",
    "\n",
    "#tiffFileName=r\"C:\\Users\\AJain7\\Downloads\\states\\Bihar_2001-0000000000-0000000000.tif\"\n",
    "jsonFileName=r\"C:\\Users\\AJain7\\OneDrive - Stryker\\Personal\\Projects\\Satellite Project\\village shapefiles\\xac.json\"\n",
    "#startIdStr='BR'\n",
    "#dirName=r\"C:\\Users\\AJain7\\Downloads\\Bihar\"\n",
    "\n",
    "print('read')\n",
    "stateData = loads(open(jsonFileName).read())\n",
    "print('done')"
   ]
  },
  {
   "cell_type": "code",
   "execution_count": 12,
   "metadata": {},
   "outputs": [],
   "source": [
    "list__ = []\n",
    "for currVillageFeature in stateData[\"features\"]:\n",
    "    vId = currVillageFeature[\"properties\"][\"ID\"]\n",
    "    list__.append(vId[:2])"
   ]
  },
  {
   "cell_type": "code",
   "execution_count": 13,
   "metadata": {},
   "outputs": [
    {
     "data": {
      "text/plain": [
       "{'MH', 'OD'}"
      ]
     },
     "execution_count": 13,
     "metadata": {},
     "output_type": "execute_result"
    }
   ],
   "source": [
    "set(list__)"
   ]
  },
  {
   "cell_type": "code",
   "execution_count": null,
   "metadata": {},
   "outputs": [],
   "source": [
    "for currVillageFeature in stateData[\"features\"]:\n",
    "    try:\n",
    "        vCode2011=currVillageFeature[\"properties\"][\"village_code_2011\"]\n",
    "        vCode2001=currVillageFeature[\"properties\"][\"village_code_2001\"]\n",
    "        vId=currVillageFeature[\"properties\"][\"ID\"]\n",
    "        #print(vId[:2])\n",
    "        \n",
    "        if (vId[:2] != startIdStr):\n",
    "            #print('Yes')\n",
    "            continue\n",
    "        \n",
    "        #filename = dirName+\"@\"+str(vCode2001)+\"@\"+vId+\"@\"+str(vCode2011)+\".tif\"\n",
    "        #print(filename)\n",
    "        geoms=currVillageFeature[\"geometry\"]\n",
    "        #print(geoms)\n",
    "        listGeom=[]\n",
    "        listGeom.append(geoms)\n",
    "        geoms=listGeom\n",
    "        #print(geoms)\n",
    "        \n",
    "        with rasterio.open(tiffFileName) as src:\n",
    "            #print('Enter')\n",
    "            out_image, out_transform = mask(src, geoms, crop=True)\n",
    "            #print('Exit')\n",
    "        \n",
    "        #print('Enter2')\n",
    "        out_meta = src.meta.copy()\n",
    "        out_meta.update({\"driver\": \"GTiff\",\"height\": out_image.shape[1],\"width\": out_image.shape[2],\"transform\": out_transform})\n",
    "        suppport_str = \"\\\\\"+ tiffFileName.split('\\\\')[5].split('.')[0]\n",
    "        filename = dirName+suppport_str+\"@\"+str(vCode2001)+\"@\"+vId+\"@\"+str(vCode2011)+\".tif\"\n",
    "        #print(filename)\n",
    "        with rasterio.open(filename, \"w\", **out_meta) as dest:\n",
    "            dest.write(out_image)\n",
    "    except:\n",
    "        continue"
   ]
  },
  {
   "cell_type": "code",
   "execution_count": null,
   "metadata": {},
   "outputs": [],
   "source": []
  }
 ],
 "metadata": {
  "kernelspec": {
   "display_name": "Python 3",
   "language": "python",
   "name": "python3"
  },
  "language_info": {
   "codemirror_mode": {
    "name": "ipython",
    "version": 3
   },
   "file_extension": ".py",
   "mimetype": "text/x-python",
   "name": "python",
   "nbconvert_exporter": "python",
   "pygments_lexer": "ipython3",
   "version": "3.6.6"
  }
 },
 "nbformat": 4,
 "nbformat_minor": 2
}
