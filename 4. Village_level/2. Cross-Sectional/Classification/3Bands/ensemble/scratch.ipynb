{
 "cells": [
  {
   "cell_type": "code",
   "execution_count": 1,
   "metadata": {},
   "outputs": [],
   "source": [
    "import pandas as pd\n",
    "import numpy as np\n",
    "import xlrd"
   ]
  },
  {
   "cell_type": "code",
   "execution_count": 3,
   "metadata": {},
   "outputs": [],
   "source": [
    "df = pd.read_excel(r\"C:\\Users\\AJain7\\Desktop\\result2.xlsx\")"
   ]
  },
  {
   "cell_type": "code",
   "execution_count": 4,
   "metadata": {},
   "outputs": [
    {
     "data": {
      "text/html": [
       "<div>\n",
       "<style scoped>\n",
       "    .dataframe tbody tr th:only-of-type {\n",
       "        vertical-align: middle;\n",
       "    }\n",
       "\n",
       "    .dataframe tbody tr th {\n",
       "        vertical-align: top;\n",
       "    }\n",
       "\n",
       "    .dataframe thead th {\n",
       "        text-align: right;\n",
       "    }\n",
       "</style>\n",
       "<table border=\"1\" class=\"dataframe\">\n",
       "  <thead>\n",
       "    <tr style=\"text-align: right;\">\n",
       "      <th></th>\n",
       "      <th>PARTNUMBER_WTPART</th>\n",
       "      <th>EID_ID_VALUE_ATTRBUTETABLE</th>\n",
       "      <th>EID_QB_REGTABLE</th>\n",
       "      <th>PROD_REG_NUMBER</th>\n",
       "      <th>PARTNUMBER_QB_REGTABLE</th>\n",
       "    </tr>\n",
       "  </thead>\n",
       "  <tbody>\n",
       "    <tr>\n",
       "      <th>0</th>\n",
       "      <td>5610-T-101</td>\n",
       "      <td>1000141</td>\n",
       "      <td>1000141</td>\n",
       "      <td>REG-84473</td>\n",
       "      <td>5610-T-101</td>\n",
       "    </tr>\n",
       "    <tr>\n",
       "      <th>1</th>\n",
       "      <td>5610-T-102</td>\n",
       "      <td>1000142</td>\n",
       "      <td>1000142</td>\n",
       "      <td>REG-84473</td>\n",
       "      <td>5610-T-102</td>\n",
       "    </tr>\n",
       "    <tr>\n",
       "      <th>2</th>\n",
       "      <td>5610-T-201</td>\n",
       "      <td>1000143</td>\n",
       "      <td>1000143</td>\n",
       "      <td>REG-84473</td>\n",
       "      <td>5610-T-201</td>\n",
       "    </tr>\n",
       "    <tr>\n",
       "      <th>3</th>\n",
       "      <td>5610-T-202</td>\n",
       "      <td>1000144</td>\n",
       "      <td>1000144</td>\n",
       "      <td>REG-84473</td>\n",
       "      <td>5610-T-202</td>\n",
       "    </tr>\n",
       "    <tr>\n",
       "      <th>4</th>\n",
       "      <td>5610-T-301</td>\n",
       "      <td>1000145</td>\n",
       "      <td>1000145</td>\n",
       "      <td>REG-84473</td>\n",
       "      <td>5610-T-301</td>\n",
       "    </tr>\n",
       "  </tbody>\n",
       "</table>\n",
       "</div>"
      ],
      "text/plain": [
       "  PARTNUMBER_WTPART  EID_ID_VALUE_ATTRBUTETABLE  EID_QB_REGTABLE  \\\n",
       "0        5610-T-101                     1000141          1000141   \n",
       "1        5610-T-102                     1000142          1000142   \n",
       "2        5610-T-201                     1000143          1000143   \n",
       "3        5610-T-202                     1000144          1000144   \n",
       "4        5610-T-301                     1000145          1000145   \n",
       "\n",
       "  PROD_REG_NUMBER PARTNUMBER_QB_REGTABLE  \n",
       "0       REG-84473             5610-T-101  \n",
       "1       REG-84473             5610-T-102  \n",
       "2       REG-84473             5610-T-201  \n",
       "3       REG-84473             5610-T-202  \n",
       "4       REG-84473             5610-T-301  "
      ]
     },
     "execution_count": 4,
     "metadata": {},
     "output_type": "execute_result"
    }
   ],
   "source": [
    "df.head()"
   ]
  },
  {
   "cell_type": "code",
   "execution_count": 5,
   "metadata": {},
   "outputs": [
    {
     "data": {
      "text/plain": [
       "(15358, 5)"
      ]
     },
     "execution_count": 5,
     "metadata": {},
     "output_type": "execute_result"
    }
   ],
   "source": [
    "df.shape"
   ]
  },
  {
   "cell_type": "code",
   "execution_count": 7,
   "metadata": {},
   "outputs": [],
   "source": [
    "array1 = np.array(df['EID_ID_VALUE_ATTRBUTETABLE'])"
   ]
  },
  {
   "cell_type": "code",
   "execution_count": 10,
   "metadata": {},
   "outputs": [],
   "source": [
    "df.drop_duplicates(subset=['EID_ID_VALUE_ATTRBUTETABLE', 'PARTNUMBER_WTPART'], keep=False, inplace=True)"
   ]
  },
  {
   "cell_type": "code",
   "execution_count": 12,
   "metadata": {},
   "outputs": [
    {
     "data": {
      "text/plain": [
       "(9747, 5)"
      ]
     },
     "execution_count": 12,
     "metadata": {},
     "output_type": "execute_result"
    }
   ],
   "source": []
  },
  {
   "cell_type": "code",
   "execution_count": null,
   "metadata": {},
   "outputs": [],
   "source": []
  }
 ],
 "metadata": {
  "kernelspec": {
   "display_name": "Python 3",
   "language": "python",
   "name": "python3"
  },
  "language_info": {
   "codemirror_mode": {
    "name": "ipython",
    "version": 3
   },
   "file_extension": ".py",
   "mimetype": "text/x-python",
   "name": "python",
   "nbconvert_exporter": "python",
   "pygments_lexer": "ipython3",
   "version": "3.6.6"
  }
 },
 "nbformat": 4,
 "nbformat_minor": 2
}
