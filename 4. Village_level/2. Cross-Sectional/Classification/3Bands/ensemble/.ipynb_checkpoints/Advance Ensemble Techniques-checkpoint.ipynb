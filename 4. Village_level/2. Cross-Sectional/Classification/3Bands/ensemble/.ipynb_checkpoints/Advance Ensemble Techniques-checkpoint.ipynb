{
 "cells": [
  {
   "cell_type": "code",
   "execution_count": 165,
   "metadata": {},
   "outputs": [],
   "source": [
    "# scatter plot of blobs dataset\n",
    "from sklearn.datasets.samples_generator import make_blobs\n",
    "from matplotlib import pyplot\n",
    "%matplotlib inline\n",
    "from pandas import DataFrame\n",
    "from sklearn.model_selection import StratifiedKFold\n",
    "from keras.utils import to_categorical\n",
    "import numpy as np\n",
    "import pandas as pd"
   ]
  },
  {
   "cell_type": "code",
   "execution_count": 143,
   "metadata": {},
   "outputs": [
    {
     "name": "stdout",
     "output_type": "stream",
     "text": [
      "(1000, 2) (1000,)\n",
      "(100, 2) (100,)\n"
     ]
    }
   ],
   "source": [
    "# generate 2d classification dataset\n",
    "X, y = make_blobs(n_samples=1100, centers=3, n_features=2, cluster_std=2, random_state=2)\n",
    "# one hot encode output variable\n",
    "# y = to_categorical(y)\n",
    "# split into train and test\n",
    "n_train = 100\n",
    "x_test, x_train = X[:n_train, :], X[n_train:, :]\n",
    "y_test, y_train = y[:n_train], y[n_train:]\n",
    "print(x_train.shape, y_train.shape)\n",
    "print(x_test.shape, y_test.shape)"
   ]
  },
  {
   "cell_type": "markdown",
   "metadata": {},
   "source": [
    "## 1. Stacking"
   ]
  },
  {
   "cell_type": "code",
   "execution_count": 153,
   "metadata": {},
   "outputs": [],
   "source": [
    "def Stacking(model,train,y,test,n_fold):\n",
    "    \n",
    "    folds=StratifiedKFold(n_splits=n_fold,random_state=1)\n",
    "    \n",
    "    test_pred=np.empty((0,1),float)\n",
    "#     test_pred=np.empty((test.shape[0],1),float)    # returns empty array of shape (number of test examples, 1) and dataype - float\n",
    "    train_pred=np.empty((0,1),float)          # returns empty array of shape 0,1\n",
    "    \n",
    "    for train_indices,val_indices in folds.split(train,y.values):\n",
    "        x_train,x_val=train.iloc[train_indices],train.iloc[val_indices]\n",
    "        y_train,y_val=y.iloc[train_indices],y.iloc[val_indices]\n",
    "\n",
    "        model.fit(X=x_train,y=y_train)\n",
    "        \n",
    "        train_pred=np.append(train_pred,model.predict(x_val))\n",
    "        test_pred=np.append(test_pred,model.predict(test))\n",
    "    return test_pred.reshape(-1,1),train_pred"
   ]
  },
  {
   "cell_type": "code",
   "execution_count": 161,
   "metadata": {},
   "outputs": [],
   "source": [
    "from sklearn.tree import DecisionTreeClassifier\n",
    "from sklearn.neighbors import KNeighborsClassifier"
   ]
  },
  {
   "cell_type": "code",
   "execution_count": 154,
   "metadata": {},
   "outputs": [],
   "source": [
    "model_dt = DecisionTreeClassifier(random_state=1)\n",
    "test_pred_dt ,train_pred_dt = Stacking(model=model_dt, n_fold=10, train=x_train, test=x_test, y=y_train)"
   ]
  },
  {
   "cell_type": "code",
   "execution_count": 158,
   "metadata": {},
   "outputs": [],
   "source": [
    "train_pred_dt = DataFrame(train_pred_dt)\n",
    "test_pred_dt = DataFrame(test_pred_dt)"
   ]
  },
  {
   "cell_type": "code",
   "execution_count": 163,
   "metadata": {},
   "outputs": [
    {
     "name": "stderr",
     "output_type": "stream",
     "text": [
      "c:\\users\\ajain7\\appdata\\local\\programs\\python\\python36\\lib\\site-packages\\ipykernel_launcher.py:13: DataConversionWarning: A column-vector y was passed when a 1d array was expected. Please change the shape of y to (n_samples, ), for example using ravel().\n",
      "  del sys.path[0]\n",
      "c:\\users\\ajain7\\appdata\\local\\programs\\python\\python36\\lib\\site-packages\\ipykernel_launcher.py:13: DataConversionWarning: A column-vector y was passed when a 1d array was expected. Please change the shape of y to (n_samples, ), for example using ravel().\n",
      "  del sys.path[0]\n",
      "c:\\users\\ajain7\\appdata\\local\\programs\\python\\python36\\lib\\site-packages\\ipykernel_launcher.py:13: DataConversionWarning: A column-vector y was passed when a 1d array was expected. Please change the shape of y to (n_samples, ), for example using ravel().\n",
      "  del sys.path[0]\n",
      "c:\\users\\ajain7\\appdata\\local\\programs\\python\\python36\\lib\\site-packages\\ipykernel_launcher.py:13: DataConversionWarning: A column-vector y was passed when a 1d array was expected. Please change the shape of y to (n_samples, ), for example using ravel().\n",
      "  del sys.path[0]\n",
      "c:\\users\\ajain7\\appdata\\local\\programs\\python\\python36\\lib\\site-packages\\ipykernel_launcher.py:13: DataConversionWarning: A column-vector y was passed when a 1d array was expected. Please change the shape of y to (n_samples, ), for example using ravel().\n",
      "  del sys.path[0]\n",
      "c:\\users\\ajain7\\appdata\\local\\programs\\python\\python36\\lib\\site-packages\\ipykernel_launcher.py:13: DataConversionWarning: A column-vector y was passed when a 1d array was expected. Please change the shape of y to (n_samples, ), for example using ravel().\n",
      "  del sys.path[0]\n",
      "c:\\users\\ajain7\\appdata\\local\\programs\\python\\python36\\lib\\site-packages\\ipykernel_launcher.py:13: DataConversionWarning: A column-vector y was passed when a 1d array was expected. Please change the shape of y to (n_samples, ), for example using ravel().\n",
      "  del sys.path[0]\n",
      "c:\\users\\ajain7\\appdata\\local\\programs\\python\\python36\\lib\\site-packages\\ipykernel_launcher.py:13: DataConversionWarning: A column-vector y was passed when a 1d array was expected. Please change the shape of y to (n_samples, ), for example using ravel().\n",
      "  del sys.path[0]\n",
      "c:\\users\\ajain7\\appdata\\local\\programs\\python\\python36\\lib\\site-packages\\ipykernel_launcher.py:13: DataConversionWarning: A column-vector y was passed when a 1d array was expected. Please change the shape of y to (n_samples, ), for example using ravel().\n",
      "  del sys.path[0]\n",
      "c:\\users\\ajain7\\appdata\\local\\programs\\python\\python36\\lib\\site-packages\\ipykernel_launcher.py:13: DataConversionWarning: A column-vector y was passed when a 1d array was expected. Please change the shape of y to (n_samples, ), for example using ravel().\n",
      "  del sys.path[0]\n"
     ]
    }
   ],
   "source": [
    "model_knn = KNeighborsClassifier()\n",
    "test_pred_knn ,train_pred_knn = Stacking(model = model_knn, n_fold=10, train=x_train, test=x_test, y=y_train)\n",
    "\n",
    "train_pred_knn = DataFrame(train_pred_knn)\n",
    "test_pred_knn = DataFrame(test_pred_knn)"
   ]
  },
  {
   "cell_type": "code",
   "execution_count": 166,
   "metadata": {},
   "outputs": [],
   "source": [
    "df = pd.concat([train_pred_dt, train_pred_knn], axis=1)"
   ]
  },
  {
   "cell_type": "code",
   "execution_count": 172,
   "metadata": {},
   "outputs": [
    {
     "name": "stdout",
     "output_type": "stream",
     "text": [
      "(901, 1)\n",
      "(901, 1)\n",
      "(901, 2)\n"
     ]
    }
   ],
   "source": [
    "print(train_pred_dt.shape)\n",
    "print(train_pred_knn.shape)\n",
    "print(df.shape)"
   ]
  },
  {
   "cell_type": "code",
   "execution_count": 173,
   "metadata": {},
   "outputs": [],
   "source": [
    "df_test = pd.concat([test_pred_dt, test_pred_knn], axis=1)"
   ]
  },
  {
   "cell_type": "code",
   "execution_count": 174,
   "metadata": {},
   "outputs": [
    {
     "name": "stdout",
     "output_type": "stream",
     "text": [
      "(1000, 1)\n",
      "(1000, 1)\n",
      "(1000, 2)\n"
     ]
    }
   ],
   "source": [
    "print(test_pred_dt.shape)\n",
    "print(test_pred_knn.shape)\n",
    "print(df_test.shape)"
   ]
  },
  {
   "cell_type": "code",
   "execution_count": 181,
   "metadata": {},
   "outputs": [
    {
     "name": "stdout",
     "output_type": "stream",
     "text": [
      "(100,) (1000, 2)\n"
     ]
    }
   ],
   "source": [
    "print(y_test.shape, df_test.shape)"
   ]
  },
  {
   "cell_type": "code",
   "execution_count": null,
   "metadata": {},
   "outputs": [],
   "source": [
    "model = LogisticRegression(random_state=1)\n",
    "model.fit(df,y_train)\n",
    "model.score(df_test, y_test)"
   ]
  },
  {
   "cell_type": "markdown",
   "metadata": {},
   "source": [
    "### Debug scratch - begin"
   ]
  },
  {
   "cell_type": "code",
   "execution_count": 144,
   "metadata": {},
   "outputs": [],
   "source": [
    "n_fold = 10\n",
    "folds=StratifiedKFold(n_splits=n_fold,random_state=1)"
   ]
  },
  {
   "cell_type": "code",
   "execution_count": 145,
   "metadata": {},
   "outputs": [],
   "source": [
    "x_train = DataFrame(x_train, columns=['a','b'])\n",
    "y_train = DataFrame(y_train, columns=['target'])\n",
    "x_test = DataFrame(x_test, columns=['a','b'])\n",
    "\n",
    "train = x_train\n",
    "y = y_train\n",
    "\n",
    "model = DecisionTreeClassifier(random_state=1)"
   ]
  },
  {
   "cell_type": "code",
   "execution_count": 148,
   "metadata": {},
   "outputs": [
    {
     "name": "stdout",
     "output_type": "stream",
     "text": [
      "(100, 2)\n",
      "(1000, 2) (1000, 1)\n"
     ]
    }
   ],
   "source": [
    "print(x_test.shape)\n",
    "print(x_train.shape, y_train.shape)"
   ]
  },
  {
   "cell_type": "code",
   "execution_count": 149,
   "metadata": {},
   "outputs": [
    {
     "name": "stdout",
     "output_type": "stream",
     "text": [
      "(0, 1)\n",
      "(0, 1)\n"
     ]
    }
   ],
   "source": [
    "test = x_test\n",
    "# test.shape[0]\n",
    "# test_pred=np.empty((test.shape[0],1),float)\n",
    "test_pred=np.empty((0,1),float)\n",
    "print(test_pred.shape)\n",
    "\n",
    "train_pred=np.empty((0,1),float)\n",
    "print(train_pred.shape)"
   ]
  },
  {
   "cell_type": "code",
   "execution_count": 150,
   "metadata": {},
   "outputs": [
    {
     "name": "stdout",
     "output_type": "stream",
     "text": [
      "(898, 2) (102, 2)\n",
      "(102,)\n",
      "(100,)\n",
      "(102,) (100,)\n",
      "-------------\n",
      "(898, 2) (102, 2)\n",
      "(102,)\n",
      "(100,)\n",
      "(204,) (200,)\n",
      "-------------\n",
      "(898, 2) (102, 2)\n",
      "(102,)\n",
      "(100,)\n",
      "(306,) (300,)\n",
      "-------------\n",
      "(900, 2) (100, 2)\n",
      "(100,)\n",
      "(100,)\n",
      "(406,) (400,)\n",
      "-------------\n",
      "(901, 2) (99, 2)\n",
      "(99,)\n",
      "(100,)\n",
      "(505,) (500,)\n",
      "-------------\n",
      "(901, 2) (99, 2)\n",
      "(99,)\n",
      "(100,)\n",
      "(604,) (600,)\n",
      "-------------\n",
      "(901, 2) (99, 2)\n",
      "(99,)\n",
      "(100,)\n",
      "(703,) (700,)\n",
      "-------------\n",
      "(901, 2) (99, 2)\n",
      "(99,)\n",
      "(100,)\n",
      "(802,) (800,)\n",
      "-------------\n",
      "(901, 2) (99, 2)\n",
      "(99,)\n",
      "(100,)\n",
      "(901,) (900,)\n",
      "-------------\n",
      "(901, 2) (99, 2)\n",
      "(99,)\n",
      "(100,)\n",
      "(1000,) (1000,)\n",
      "-------------\n"
     ]
    }
   ],
   "source": [
    "for train_indices,val_indices in folds.split(train, y.values):\n",
    "    x_train, x_val = train.iloc[train_indices],train.iloc[val_indices]\n",
    "    y_train, y_val = y.iloc[train_indices],y.iloc[val_indices]\n",
    "    \n",
    "    print(x_train.shape, x_val.shape)\n",
    "    \n",
    "    model.fit(X=x_train,y=y_train)\n",
    "    \n",
    "    print(model.predict(x_val).shape)\n",
    "    print(model.predict(test).shape)\n",
    "    \n",
    "    \n",
    "\n",
    "    train_pred = np.append( train_pred, model.predict(x_val) )\n",
    "    test_pred = np.append( test_pred, model.predict(test) )\n",
    "    \n",
    "    print(train_pred.shape, test_pred.shape)\n",
    "    print('-------------')"
   ]
  },
  {
   "cell_type": "code",
   "execution_count": 151,
   "metadata": {},
   "outputs": [
    {
     "data": {
      "text/plain": [
       "(1000,)"
      ]
     },
     "execution_count": 151,
     "metadata": {},
     "output_type": "execute_result"
    }
   ],
   "source": [
    "train_pred.shape"
   ]
  },
  {
   "cell_type": "code",
   "execution_count": 152,
   "metadata": {},
   "outputs": [
    {
     "data": {
      "text/plain": [
       "(1000,)"
      ]
     },
     "execution_count": 152,
     "metadata": {},
     "output_type": "execute_result"
    }
   ],
   "source": [
    "test_pred.shape"
   ]
  },
  {
   "cell_type": "code",
   "execution_count": 155,
   "metadata": {},
   "outputs": [],
   "source": [
    "train_pred = DataFrame(train_pred)\n",
    "test_pred = DataFrame(test_pred)"
   ]
  },
  {
   "cell_type": "markdown",
   "metadata": {},
   "source": [
    "### Debug scratch - End"
   ]
  },
  {
   "cell_type": "code",
   "execution_count": null,
   "metadata": {},
   "outputs": [],
   "source": []
  },
  {
   "cell_type": "code",
   "execution_count": null,
   "metadata": {},
   "outputs": [],
   "source": []
  },
  {
   "cell_type": "code",
   "execution_count": null,
   "metadata": {},
   "outputs": [],
   "source": []
  },
  {
   "cell_type": "code",
   "execution_count": null,
   "metadata": {},
   "outputs": [],
   "source": []
  },
  {
   "cell_type": "code",
   "execution_count": null,
   "metadata": {},
   "outputs": [],
   "source": []
  },
  {
   "cell_type": "code",
   "execution_count": null,
   "metadata": {},
   "outputs": [],
   "source": []
  },
  {
   "cell_type": "code",
   "execution_count": null,
   "metadata": {},
   "outputs": [],
   "source": []
  },
  {
   "cell_type": "code",
   "execution_count": null,
   "metadata": {},
   "outputs": [],
   "source": []
  },
  {
   "cell_type": "code",
   "execution_count": null,
   "metadata": {},
   "outputs": [],
   "source": []
  }
 ],
 "metadata": {
  "kernelspec": {
   "display_name": "Python 3",
   "language": "python",
   "name": "python3"
  },
  "language_info": {
   "codemirror_mode": {
    "name": "ipython",
    "version": 3
   },
   "file_extension": ".py",
   "mimetype": "text/x-python",
   "name": "python",
   "nbconvert_exporter": "python",
   "pygments_lexer": "ipython3",
   "version": "3.6.6"
  }
 },
 "nbformat": 4,
 "nbformat_minor": 2
}
