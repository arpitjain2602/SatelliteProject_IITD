{
 "cells": [
  {
   "cell_type": "code",
   "execution_count": 2,
   "metadata": {},
   "outputs": [],
   "source": [
    "import pandas as pd\n",
    "import pickle\n",
    "\n",
    "df = pd.read_pickle(r\"C:\\Users\\AJain7\\Downloads\\village_feature_resnet50.pkl\")\n",
    "\n",
    "inception_train = pd.read_csv(r\"C:\\Users\\AJain7\\OneDrive - Stryker\\Personal\\Projects\\Satellite Project\\4. Village_level\\2. Cross-Sectional\\Classification\\3Bands\\ensemble\\Inception_imbalance\\msw\\Train_Results-04.csv\",delim_whitespace=True, header=None)\n",
    "inception_test = pd.read_csv(r\"C:\\Users\\AJain7\\OneDrive - Stryker\\Personal\\Projects\\Satellite Project\\4. Village_level\\2. Cross-Sectional\\Classification\\3Bands\\ensemble\\Inception_imbalance\\msw\\Test_Results-04.csv\",delim_whitespace=True, header=None)\n",
    "resnet_train = pd.read_csv(r\"C:\\Users\\AJain7\\OneDrive - Stryker\\Personal\\Projects\\Satellite Project\\4. Village_level\\2. Cross-Sectional\\Classification\\3Bands\\ensemble\\Resnet_imbalance\\msw\\Train_Results-04.csv\",delim_whitespace=True, header=None)\n",
    "resnet_test = pd.read_csv(r\"C:\\Users\\AJain7\\OneDrive - Stryker\\Personal\\Projects\\Satellite Project\\4. Village_level\\2. Cross-Sectional\\Classification\\3Bands\\ensemble\\Resnet_imbalance\\msw\\Test_Results-04.csv\",delim_whitespace=True, header=None)"
   ]
  },
  {
   "cell_type": "code",
   "execution_count": 3,
   "metadata": {},
   "outputs": [],
   "source": [
    "cols = ['actual_y', 'predicted_y', 'village_code']\n",
    "\n",
    "inception_train.columns = cols\n",
    "inception_test.columns = cols\n",
    "resnet_train.columns = cols\n",
    "resnet_test.columns = cols\n",
    "\n",
    "inception_train['actual_y'] = inception_train['actual_y'].astype(int)\n",
    "inception_train['predicted_y'] = inception_train['predicted_y'].astype(int)\n",
    "inception_train['village_code'] = inception_train['village_code'].astype(int)\n",
    "\n",
    "inception_test['actual_y'] = inception_test['actual_y'].astype(int)\n",
    "inception_test['predicted_y'] = inception_test['predicted_y'].astype(int)\n",
    "inception_test['village_code'] = inception_test['village_code'].astype(int)\n",
    "\n",
    "resnet_train['actual_y'] = resnet_train['actual_y'].astype(int)\n",
    "resnet_train['predicted_y'] = resnet_train['predicted_y'].astype(int)\n",
    "resnet_train['village_code'] = resnet_train['village_code'].astype(int)\n",
    "\n",
    "resnet_test['actual_y'] = resnet_test['actual_y'].astype(int)\n",
    "resnet_test['predicted_y'] = resnet_test['predicted_y'].astype(int)\n",
    "resnet_test['village_code'] = resnet_test['village_code'].astype(int)"
   ]
  },
  {
   "cell_type": "code",
   "execution_count": 16,
   "metadata": {},
   "outputs": [
    {
     "name": "stdout",
     "output_type": "stream",
     "text": [
      "5000\n",
      "5000\n",
      "5000\n",
      "5000\n",
      "5000\n",
      "5000\n",
      "5000\n",
      "5000\n",
      "5000\n",
      "5000\n",
      "5000\n",
      "5000\n",
      "5000\n",
      "5000\n",
      "5000\n",
      "5000\n",
      "5000\n",
      "5000\n",
      "5000\n",
      "5000\n",
      "5000\n",
      "5000\n",
      "5000\n",
      "5000\n",
      "5000\n",
      "5000\n",
      "5000\n",
      "5000\n",
      "5000\n",
      "5000\n",
      "5000\n",
      "5000\n",
      "5000\n"
     ]
    }
   ],
   "source": [
    "counter = 0\n",
    "df_list = []\n",
    "for key, value in df.items():\n",
    "        temp_df = pd.DataFrame(value).transpose()\n",
    "        temp_df['village_code'] = int(key)\n",
    "        df_list.append(temp_df)\n",
    "        counter = counter+1\n",
    "        \n",
    "        if(counter // 5000):\n",
    "            print(counter)\n",
    "            counter=0"
   ]
  },
  {
   "cell_type": "code",
   "execution_count": 19,
   "metadata": {},
   "outputs": [],
   "source": [
    "final_df = pd.concat(df_list)"
   ]
  },
  {
   "cell_type": "code",
   "execution_count": 23,
   "metadata": {},
   "outputs": [],
   "source": [
    "final_df.to_csv('ensemble_partial_features.csv', index=False)"
   ]
  },
  {
   "cell_type": "code",
   "execution_count": 66,
   "metadata": {},
   "outputs": [],
   "source": [
    "# resnet = pd.concat([resnet_train, resnet_test], axis=0)\n",
    "\n",
    "# inception = pd.concat([inception_train, inception_test], axis=0)\n",
    "\n",
    "# resnet.columns = ['actual_y', 'predicted_y_resnet', 'village_code']\n",
    "\n",
    "# inception.columns = ['actual_y', 'predicted_y_inception', 'village_code']\n",
    "\n",
    "# resnet.to_csv('resnet_msw.csv', index=False)\n",
    "# inception.to_csv('inception_msw.csv', index=False)"
   ]
  },
  {
   "cell_type": "code",
   "execution_count": 56,
   "metadata": {},
   "outputs": [],
   "source": [
    "# resincep = resnet.merge(inception, how='left', on='village_code')\n",
    "\n",
    "# resin = pd.merge(resnet, inception, how='left', on='village_code')\n",
    "\n",
    "# resin.drop_duplicates(subset=['predicted_y_resnet', 'village_code', 'predicted_y_inception'],inplace=True)"
   ]
  },
  {
   "cell_type": "code",
   "execution_count": 73,
   "metadata": {},
   "outputs": [],
   "source": [
    "resin = pd.read_csv('resnet_inception_msw.csv')"
   ]
  },
  {
   "cell_type": "code",
   "execution_count": null,
   "metadata": {},
   "outputs": [],
   "source": []
  },
  {
   "cell_type": "code",
   "execution_count": 79,
   "metadata": {},
   "outputs": [],
   "source": [
    "input_data = resin.merge(final_df, how='left', on='village_code')"
   ]
  },
  {
   "cell_type": "code",
   "execution_count": 80,
   "metadata": {},
   "outputs": [
    {
     "data": {
      "text/plain": [
       "(165504, 2052)"
      ]
     },
     "execution_count": 80,
     "metadata": {},
     "output_type": "execute_result"
    }
   ],
   "source": [
    "input_data.shape"
   ]
  },
  {
   "cell_type": "code",
   "execution_count": null,
   "metadata": {},
   "outputs": [],
   "source": []
  },
  {
   "cell_type": "code",
   "execution_count": 1,
   "metadata": {},
   "outputs": [
    {
     "name": "stderr",
     "output_type": "stream",
     "text": [
      "Using TensorFlow backend.\n"
     ]
    }
   ],
   "source": [
    "import pandas as pd\n",
    "import numpy as np\n",
    "from sklearn.preprocessing import OneHotEncoder\n",
    "from sklearn.model_selection import train_test_split\n",
    "import keras\n",
    "from keras.optimizers import Adam\n",
    "from keras.callbacks import EarlyStopping\n",
    "from keras import backend as K\n",
    "from keras import metrics\n",
    "from sklearn.metrics import f1_score, accuracy_score"
   ]
  },
  {
   "cell_type": "code",
   "execution_count": 2,
   "metadata": {},
   "outputs": [],
   "source": [
    "def F1(y_true, y_pred):\n",
    "    def recall(y_true, y_pred):\n",
    "        #Recall metric: Only computes a batch-wise average of recall.\n",
    "        #Computes the recall, a metric for multi-label classification of how many relevant items are selected\n",
    "        true_positives = K.sum(K.round(K.clip(y_true * y_pred, 0, 1)))\n",
    "        possible_positives = K.sum(K.round(K.clip(y_true, 0, 1)))\n",
    "        recall = true_positives / (possible_positives + K.epsilon())\n",
    "        return recall\n",
    "\n",
    "    def precision(y_true, y_pred):\n",
    "        #Precision metric: Only computes a batch-wise average of precision.\n",
    "        #Computes the precision, a metric for multi-label classification of how many selected items are relevant.\n",
    "        true_positives = K.sum(K.round(K.clip(y_true * y_pred, 0, 1)))\n",
    "        predicted_positives = K.sum(K.round(K.clip(y_pred, 0, 1)))\n",
    "        precision = true_positives / (predicted_positives + K.epsilon())\n",
    "        return precision\n",
    "    precision = precision(y_true, y_pred)\n",
    "    recall = recall(y_true, y_pred)\n",
    "    return 2*((precision*recall)/(precision+recall+K.epsilon()))"
   ]
  },
  {
   "cell_type": "code",
   "execution_count": 3,
   "metadata": {},
   "outputs": [],
   "source": [
    "final_df = pd.read_csv('ensemble_partial_features.csv')\n",
    "\n",
    "resin = pd.read_csv('resnet_inception_msw.csv')\n",
    "\n",
    "resin = resin[['village_code','actual_y', 'predicted_y_resnet', 'predicted_y_inception']]\n",
    "\n",
    "input_data = resin.merge(final_df, how='left', on='village_code')"
   ]
  },
  {
   "cell_type": "code",
   "execution_count": 4,
   "metadata": {},
   "outputs": [],
   "source": [
    "feature_df = input_data[input_data.columns[4:].tolist()] # normal features\n",
    "target_col = 'actual_y'\n",
    "\n",
    "inception = pd.get_dummies(input_data['predicted_y_inception'])\n",
    "inception.columns = ['inception_0','inception_1','inception_2']\n",
    "resnet = pd.get_dummies(input_data['predicted_y_resnet'])\n",
    "resnet.columns = ['resnet_0', 'resnet_1','resnet_2']\n",
    "categorical_df = pd.concat([inception, resnet], axis=1)"
   ]
  },
  {
   "cell_type": "code",
   "execution_count": 5,
   "metadata": {},
   "outputs": [],
   "source": [
    "X = pd.concat([feature_df, categorical_df], axis=1)"
   ]
  },
  {
   "cell_type": "code",
   "execution_count": 6,
   "metadata": {},
   "outputs": [],
   "source": [
    "# Target\n",
    "y = input_data[target_col]\n",
    "y_encoded = keras.utils.to_categorical(y)"
   ]
  },
  {
   "cell_type": "code",
   "execution_count": 7,
   "metadata": {},
   "outputs": [],
   "source": [
    "X_train, X_test, y_train, y_test = train_test_split(X, y_encoded, test_size=0.1, random_state=42)"
   ]
  },
  {
   "cell_type": "code",
   "execution_count": 8,
   "metadata": {},
   "outputs": [
    {
     "name": "stdout",
     "output_type": "stream",
     "text": [
      "WARNING:tensorflow:From c:\\users\\ajain7\\appdata\\local\\programs\\python\\python36\\lib\\site-packages\\tensorflow\\python\\framework\\op_def_library.py:263: colocate_with (from tensorflow.python.framework.ops) is deprecated and will be removed in a future version.\n",
      "Instructions for updating:\n",
      "Colocations handled automatically by placer.\n",
      "WARNING:tensorflow:From c:\\users\\ajain7\\appdata\\local\\programs\\python\\python36\\lib\\site-packages\\keras\\backend\\tensorflow_backend.py:3445: calling dropout (from tensorflow.python.ops.nn_ops) with keep_prob is deprecated and will be removed in a future version.\n",
      "Instructions for updating:\n",
      "Please use `rate` instead of `keep_prob`. Rate should be set to `rate = 1 - keep_prob`.\n"
     ]
    }
   ],
   "source": [
    "model = keras.models.Sequential()\n",
    "model.add(keras.layers.Dense(1024,activation='relu', input_shape=(X.shape[1],)))\n",
    "model.add(keras.layers.Dense(512, activation='relu'))\n",
    "model.add(keras.layers.Dropout(0.2))\n",
    "model.add(keras.layers.Dense(256, activation='relu'))\n",
    "model.add(keras.layers.Dropout(0.2))\n",
    "model.add(keras.layers.Dense(64, activation='relu'))\n",
    "model.add(keras.layers.Dropout(0.2))\n",
    "model.add(keras.layers.Dense(16, activation='relu'))\n",
    "model.add(keras.layers.Dense(3, activation='softmax'))"
   ]
  },
  {
   "cell_type": "code",
   "execution_count": 9,
   "metadata": {},
   "outputs": [
    {
     "name": "stdout",
     "output_type": "stream",
     "text": [
      "_________________________________________________________________\n",
      "Layer (type)                 Output Shape              Param #   \n",
      "=================================================================\n",
      "dense_1 (Dense)              (None, 1024)              2104320   \n",
      "_________________________________________________________________\n",
      "dense_2 (Dense)              (None, 512)               524800    \n",
      "_________________________________________________________________\n",
      "dropout_1 (Dropout)          (None, 512)               0         \n",
      "_________________________________________________________________\n",
      "dense_3 (Dense)              (None, 256)               131328    \n",
      "_________________________________________________________________\n",
      "dropout_2 (Dropout)          (None, 256)               0         \n",
      "_________________________________________________________________\n",
      "dense_4 (Dense)              (None, 64)                16448     \n",
      "_________________________________________________________________\n",
      "dropout_3 (Dropout)          (None, 64)                0         \n",
      "_________________________________________________________________\n",
      "dense_5 (Dense)              (None, 16)                1040      \n",
      "_________________________________________________________________\n",
      "dense_6 (Dense)              (None, 3)                 51        \n",
      "=================================================================\n",
      "Total params: 2,777,987\n",
      "Trainable params: 2,777,987\n",
      "Non-trainable params: 0\n",
      "_________________________________________________________________\n"
     ]
    }
   ],
   "source": [
    "model.summary()"
   ]
  },
  {
   "cell_type": "code",
   "execution_count": 10,
   "metadata": {},
   "outputs": [],
   "source": [
    "optim = Adam(lr=0.001)"
   ]
  },
  {
   "cell_type": "code",
   "execution_count": 11,
   "metadata": {},
   "outputs": [],
   "source": [
    "model.compile(loss='categorical_crossentropy', optimizer=optim, metrics=['accuracy', F1])"
   ]
  },
  {
   "cell_type": "code",
   "execution_count": 12,
   "metadata": {},
   "outputs": [
    {
     "name": "stdout",
     "output_type": "stream",
     "text": [
      "WARNING:tensorflow:From c:\\users\\ajain7\\appdata\\local\\programs\\python\\python36\\lib\\site-packages\\tensorflow\\python\\ops\\math_ops.py:3066: to_int32 (from tensorflow.python.ops.math_ops) is deprecated and will be removed in a future version.\n",
      "Instructions for updating:\n",
      "Use tf.cast instead.\n",
      "Train on 134057 samples, validate on 14896 samples\n",
      "Epoch 1/20\n",
      "134057/134057 [==============================] - 138s 1ms/step - loss: 0.6668 - acc: 0.7216 - F1: 0.7022 - val_loss: 0.6167 - val_acc: 0.7504 - val_F1: 0.7441\n",
      "Epoch 2/20\n",
      "134057/134057 [==============================] - 137s 1ms/step - loss: 0.6229 - acc: 0.7443 - F1: 0.7376 - val_loss: 0.6523 - val_acc: 0.7438 - val_F1: 0.7440\n",
      "Epoch 3/20\n",
      "134057/134057 [==============================] - 133s 989us/step - loss: 0.6191 - acc: 0.7461 - F1: 0.7395 - val_loss: 0.6082 - val_acc: 0.7504 - val_F1: 0.7441\n",
      "Epoch 4/20\n",
      "134057/134057 [==============================] - 128s 955us/step - loss: 0.6179 - acc: 0.7456 - F1: 0.7401 - val_loss: 0.6104 - val_acc: 0.7504 - val_F1: 0.7441\n",
      "Epoch 5/20\n",
      "134057/134057 [==============================] - 134s 1ms/step - loss: 0.6147 - acc: 0.7464 - F1: 0.7410 - val_loss: 0.6106 - val_acc: 0.7504 - val_F1: 0.7441\n",
      "Epoch 6/20\n",
      "134057/134057 [==============================] - 134s 998us/step - loss: 0.6159 - acc: 0.7460 - F1: 0.7402 - val_loss: 0.6099 - val_acc: 0.7504 - val_F1: 0.7441\n",
      "Epoch 7/20\n",
      "134057/134057 [==============================] - 137s 1ms/step - loss: 0.6125 - acc: 0.7464 - F1: 0.7410 - val_loss: 0.6082 - val_acc: 0.7504 - val_F1: 0.7441\n",
      "Epoch 8/20\n",
      "134057/134057 [==============================] - 141s 1ms/step - loss: 0.6127 - acc: 0.7465 - F1: 0.7410 - val_loss: 0.6130 - val_acc: 0.7504 - val_F1: 0.7441\n",
      "Epoch 9/20\n",
      "134057/134057 [==============================] - 138s 1ms/step - loss: 0.6124 - acc: 0.7458 - F1: 0.7405 - val_loss: 0.6083 - val_acc: 0.7504 - val_F1: 0.7441\n",
      "Epoch 10/20\n",
      "134057/134057 [==============================] - 136s 1ms/step - loss: 0.6123 - acc: 0.7455 - F1: 0.7397 - val_loss: 0.6078 - val_acc: 0.7504 - val_F1: 0.7441\n",
      "Epoch 11/20\n",
      "134057/134057 [==============================] - 141s 1ms/step - loss: 0.6112 - acc: 0.7468 - F1: 0.7412 - val_loss: 0.6109 - val_acc: 0.7504 - val_F1: 0.7441\n",
      "Epoch 12/20\n",
      "134057/134057 [==============================] - 148s 1ms/step - loss: 0.6116 - acc: 0.7466 - F1: 0.7409 - val_loss: 0.6077 - val_acc: 0.7504 - val_F1: 0.7441\n",
      "Epoch 13/20\n",
      "134057/134057 [==============================] - 154s 1ms/step - loss: 0.6112 - acc: 0.7466 - F1: 0.7408 - val_loss: 0.6081 - val_acc: 0.7504 - val_F1: 0.7441\n",
      "Epoch 14/20\n",
      "134057/134057 [==============================] - 144s 1ms/step - loss: 0.6107 - acc: 0.7465 - F1: 0.7406 - val_loss: 0.6417 - val_acc: 0.7452 - val_F1: 0.6649\n",
      "Epoch 15/20\n",
      "134057/134057 [==============================] - 142s 1ms/step - loss: 0.6113 - acc: 0.7463 - F1: 0.7408 - val_loss: 0.6077 - val_acc: 0.7504 - val_F1: 0.7441\n",
      "Epoch 16/20\n",
      "134057/134057 [==============================] - 138s 1ms/step - loss: 0.6110 - acc: 0.7469 - F1: 0.7408 - val_loss: 0.6091 - val_acc: 0.7504 - val_F1: 0.7441\n",
      "Epoch 17/20\n",
      "134057/134057 [==============================] - 141s 1ms/step - loss: 0.6133 - acc: 0.7446 - F1: 0.7394 - val_loss: 0.6084 - val_acc: 0.7504 - val_F1: 0.7441\n",
      "Epoch 18/20\n",
      "134057/134057 [==============================] - 152s 1ms/step - loss: 0.6102 - acc: 0.7467 - F1: 0.7411 - val_loss: 0.6078 - val_acc: 0.7504 - val_F1: 0.7441\n",
      "Epoch 19/20\n",
      "134057/134057 [==============================] - 158s 1ms/step - loss: 0.6105 - acc: 0.7464 - F1: 0.7407 - val_loss: 0.6074 - val_acc: 0.7504 - val_F1: 0.7441\n",
      "Epoch 20/20\n",
      "134057/134057 [==============================] - 157s 1ms/step - loss: 0.6124 - acc: 0.7449 - F1: 0.7396 - val_loss: 0.6351 - val_acc: 0.7250 - val_F1: 0.7441\n"
     ]
    },
    {
     "data": {
      "text/plain": [
       "<keras.callbacks.History at 0x25b443155c0>"
      ]
     },
     "execution_count": 12,
     "metadata": {},
     "output_type": "execute_result"
    }
   ],
   "source": [
    "model.fit(x=X_train, y=y_train,validation_split=0.1,batch_size=128,epochs=20, verbose=1, callbacks=[EarlyStopping(monitor='val_loss', patience=4)])"
   ]
  },
  {
   "cell_type": "code",
   "execution_count": 13,
   "metadata": {},
   "outputs": [
    {
     "name": "stdout",
     "output_type": "stream",
     "text": [
      "16551/16551 [==============================] - 5s 311us/step\n"
     ]
    },
    {
     "data": {
      "text/plain": [
       "[0.6365862235037065, 0.7213461422288564, 0.7390158618838324]"
      ]
     },
     "execution_count": 13,
     "metadata": {},
     "output_type": "execute_result"
    }
   ],
   "source": [
    "model.evaluate(x=X_test, y=y_test)"
   ]
  },
  {
   "cell_type": "code",
   "execution_count": 14,
   "metadata": {},
   "outputs": [],
   "source": [
    "predictions = model.predict_classes(X_test)"
   ]
  },
  {
   "cell_type": "code",
   "execution_count": 15,
   "metadata": {},
   "outputs": [],
   "source": [
    "inverse_y_test = np.array([np.argmax(i) for i in y_test])"
   ]
  },
  {
   "cell_type": "code",
   "execution_count": 16,
   "metadata": {},
   "outputs": [
    {
     "name": "stdout",
     "output_type": "stream",
     "text": [
      "0.7327138686624244\n",
      "0.7213461422270557\n",
      "0.7039288958570759\n"
     ]
    }
   ],
   "source": [
    "print(f1_score(inverse_y_test, predictions,  average='weighted'))\n",
    "print(f1_score(inverse_y_test, predictions,  average='micro'))\n",
    "print(f1_score(inverse_y_test, predictions,  average='macro'))"
   ]
  },
  {
   "cell_type": "code",
   "execution_count": null,
   "metadata": {},
   "outputs": [],
   "source": []
  },
  {
   "cell_type": "code",
   "execution_count": null,
   "metadata": {},
   "outputs": [],
   "source": []
  }
 ],
 "metadata": {
  "kernelspec": {
   "display_name": "Python 3",
   "language": "python",
   "name": "python3"
  },
  "language_info": {
   "codemirror_mode": {
    "name": "ipython",
    "version": 3
   },
   "file_extension": ".py",
   "mimetype": "text/x-python",
   "name": "python",
   "nbconvert_exporter": "python",
   "pygments_lexer": "ipython3",
   "version": "3.6.6"
  }
 },
 "nbformat": 4,
 "nbformat_minor": 2
}
