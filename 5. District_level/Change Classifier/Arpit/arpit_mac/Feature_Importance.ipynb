{
 "cells": [
  {
   "cell_type": "code",
   "execution_count": 167,
   "metadata": {},
   "outputs": [],
   "source": [
    "from xgboost import XGBClassifier\n",
    "import pprint\n",
    "import operator\n",
    "import collections\n",
    "from sklearn.model_selection import KFold\n",
    "from imblearn.over_sampling import SMOTE\n",
    "from sklearn.metrics import f1_score, accuracy_score"
   ]
  },
  {
   "cell_type": "code",
   "execution_count": 185,
   "metadata": {},
   "outputs": [
    {
     "name": "stdout",
     "output_type": "stream",
     "text": [
      "val_f1_score  [0.8540932093662523, 0.8520029408227838, 0.8465108307765462, 0.8441194466567913, 0.8199608726553729]\n",
      "train_f1_score  [0.947472865749536, 0.9412138251691206, 0.9407693351684697, 0.9464269731695962, 0.9482139391350202]\n"
     ]
    }
   ],
   "source": [
    "file = '/Users/arpitjain/Desktop/changeClassifierResult/MSW_change_CC_FormalEMP&Lit_XGB_WO_2001.pkl'\n",
    "tss = pickle.load(open(file,'rb'))\n",
    "print('val_f1_score ',tss['xgBoost']['val_scores'])\n",
    "print('train_f1_score ',tss['xgBoost']['train_scores'])"
   ]
  },
  {
   "cell_type": "code",
   "execution_count": 179,
   "metadata": {},
   "outputs": [],
   "source": [
    "# tss['xgBoost']['specs'][0]"
   ]
  },
  {
   "cell_type": "code",
   "execution_count": 176,
   "metadata": {},
   "outputs": [
    {
     "name": "stdout",
     "output_type": "stream",
     "text": [
      "                 \n",
      "Re-Training again for calculating f1 and train scores\n"
     ]
    }
   ],
   "source": [
    "n_estimators = tss['xgBoost']['specs'][0]['n_estimators']\n",
    "max_depth = tss['xgBoost']['specs'][0]['max_depth']\n",
    "learning_rate = tss['xgBoost']['specs'][0]['learning_rate']\n",
    "objective = tss['xgBoost']['specs'][0]['objective']\n",
    "booster = tss['xgBoost']['specs'][0]['booster']\n",
    "gamma = tss['xgBoost']['specs'][0]['gamma']\n",
    "min_child_weight = tss['xgBoost']['specs'][0]['min_child_weight']\n",
    "max_delta_step = tss['xgBoost']['specs'][0]['max_delta_step']\n",
    "subsample = tss['xgBoost']['specs'][0]['subsample']\n",
    "colsample_bytree = tss['xgBoost']['specs'][0]['colsample_bytree']\n",
    "colsample_bylevel = tss['xgBoost']['specs'][0]['colsample_bylevel']\n",
    "colsample_bynode = tss['xgBoost']['specs'][0]['colsample_bynode']\n",
    "reg_alpha = tss['xgBoost']['specs'][0]['reg_alpha']\n",
    "reg_lambda = tss['xgBoost']['specs'][0]['reg_lambda']\n",
    "scale_pos_weight = tss['xgBoost']['specs'][0]['scale_pos_weight']\n",
    "base_score = tss['xgBoost']['specs'][0]['base_score']\n",
    "\n",
    "n_splits = tss['xgBoost']['specs'][0]['kFold_splits']\n",
    "\n",
    "print('                 ')\n",
    "print('Re-Training again for calculating f1 and train scores')\n",
    "\n",
    "xgbc = XGBClassifier(n_estimators=n_estimators, \n",
    "         max_depth=max_depth, learning_rate=learning_rate, \n",
    "         objective=objective, booster=booster,n_jobs=-1, \n",
    "         gamma=gamma, min_child_weight=min_child_weight, \n",
    "         max_delta_step=max_delta_step, subsample=subsample, \n",
    "         colsample_bytree=colsample_bytree, \n",
    "         colsample_bylevel=colsample_bylevel, colsample_bynode=colsample_bynode, \n",
    "         reg_alpha=reg_alpha, reg_lambda=reg_lambda, \n",
    "         scale_pos_weight=scale_pos_weight, base_score=base_score, random_state=0)\n",
    "\n",
    "cv = KFold(n_splits=n_splits, shuffle=True)"
   ]
  },
  {
   "cell_type": "markdown",
   "metadata": {},
   "source": [
    "## Data "
   ]
  },
  {
   "cell_type": "code",
   "execution_count": 177,
   "metadata": {},
   "outputs": [
    {
     "data": {
      "text/html": [
       "<div>\n",
       "<style scoped>\n",
       "    .dataframe tbody tr th:only-of-type {\n",
       "        vertical-align: middle;\n",
       "    }\n",
       "\n",
       "    .dataframe tbody tr th {\n",
       "        vertical-align: top;\n",
       "    }\n",
       "\n",
       "    .dataframe thead th {\n",
       "        text-align: right;\n",
       "    }\n",
       "</style>\n",
       "<table border=\"1\" class=\"dataframe\">\n",
       "  <thead>\n",
       "    <tr style=\"text-align: right;\">\n",
       "      <th></th>\n",
       "      <th>census_code</th>\n",
       "      <th>MSW_change</th>\n",
       "      <th>MSW_2001</th>\n",
       "      <th>BF_change</th>\n",
       "      <th>BF_2001</th>\n",
       "      <th>CHH_change</th>\n",
       "      <th>CHH_2001</th>\n",
       "      <th>EMP_change</th>\n",
       "      <th>EMP_2001</th>\n",
       "      <th>MSL_change</th>\n",
       "      <th>MSL_2001</th>\n",
       "      <th>FC_change</th>\n",
       "      <th>FC_2001</th>\n",
       "      <th>ASSET_change</th>\n",
       "      <th>ASSET_2001</th>\n",
       "      <th>Formal_EMP_2001</th>\n",
       "      <th>LIT_2001</th>\n",
       "    </tr>\n",
       "  </thead>\n",
       "  <tbody>\n",
       "    <tr>\n",
       "      <th>0</th>\n",
       "      <td>1</td>\n",
       "      <td>0</td>\n",
       "      <td>1</td>\n",
       "      <td>0</td>\n",
       "      <td>2</td>\n",
       "      <td>0</td>\n",
       "      <td>1</td>\n",
       "      <td>0</td>\n",
       "      <td>1</td>\n",
       "      <td>1</td>\n",
       "      <td>2</td>\n",
       "      <td>0</td>\n",
       "      <td>1</td>\n",
       "      <td>0</td>\n",
       "      <td>1</td>\n",
       "      <td>2</td>\n",
       "      <td>1</td>\n",
       "    </tr>\n",
       "    <tr>\n",
       "      <th>1</th>\n",
       "      <td>2</td>\n",
       "      <td>0</td>\n",
       "      <td>3</td>\n",
       "      <td>0</td>\n",
       "      <td>2</td>\n",
       "      <td>1</td>\n",
       "      <td>1</td>\n",
       "      <td>0</td>\n",
       "      <td>1</td>\n",
       "      <td>0</td>\n",
       "      <td>3</td>\n",
       "      <td>0</td>\n",
       "      <td>2</td>\n",
       "      <td>1</td>\n",
       "      <td>1</td>\n",
       "      <td>2</td>\n",
       "      <td>1</td>\n",
       "    </tr>\n",
       "  </tbody>\n",
       "</table>\n",
       "</div>"
      ],
      "text/plain": [
       "   census_code  MSW_change  MSW_2001  ...  ASSET_2001  Formal_EMP_2001  LIT_2001\n",
       "0            1           0         1  ...           1                2         1\n",
       "1            2           0         3  ...           1                2         1\n",
       "\n",
       "[2 rows x 17 columns]"
      ]
     },
     "execution_count": 177,
     "metadata": {},
     "output_type": "execute_result"
    }
   ],
   "source": [
    "ground_truth.head(2)"
   ]
  },
  {
   "cell_type": "code",
   "execution_count": 180,
   "metadata": {},
   "outputs": [],
   "source": [
    "ground_truth = pd.read_csv(\"/Users/arpitjain/Downloads/SatPRo/2001_L7_data/ChangeClassifier/GroundTruth_ChangeClassifier.csv\")\n",
    "df = pd.read_csv(\"/Users/arpitjain/Downloads/SatPRo/2001_L7_data/ChangeClassifier/input_data/MSW_CC.csv\")\n",
    "data = ground_truth.merge(df, on='census_code', how='left')\n",
    "data.dropna(inplace=True)\n",
    "target = 'MSW_change'\n",
    "feature_cols = ['Formal_EMP_2001','LIT_2001','MSW_2001','predictions_2003','predictions_2005', 'predictions_2007', 'predictions_2009','predictions_2011']"
   ]
  },
  {
   "cell_type": "code",
   "execution_count": 181,
   "metadata": {},
   "outputs": [],
   "source": [
    "X = data[feature_cols].values\n",
    "y = data[target].values"
   ]
  },
  {
   "cell_type": "code",
   "execution_count": 182,
   "metadata": {},
   "outputs": [
    {
     "data": {
      "text/plain": [
       "(580, 8)"
      ]
     },
     "execution_count": 182,
     "metadata": {},
     "output_type": "execute_result"
    }
   ],
   "source": [
    "X.shape"
   ]
  },
  {
   "cell_type": "code",
   "execution_count": 183,
   "metadata": {},
   "outputs": [
    {
     "data": {
      "text/plain": [
       "(580,)"
      ]
     },
     "execution_count": 183,
     "metadata": {},
     "output_type": "execute_result"
    }
   ],
   "source": [
    "y.shape"
   ]
  },
  {
   "cell_type": "code",
   "execution_count": 184,
   "metadata": {},
   "outputs": [
    {
     "name": "stdout",
     "output_type": "stream",
     "text": [
      "0\n",
      "1\n",
      "2\n",
      "3\n",
      "4\n",
      "0.8410762151737936 0.9459092103492267 0.8396551724137931 0.9459205249806137\n"
     ]
    }
   ],
   "source": [
    "val_f1score = []\n",
    "val_accscore = []\n",
    "train_f1score = []\n",
    "train_accscore = []\n",
    "# f1score = []\n",
    "# accscore = []\n",
    "counter=0\n",
    "for train_index, test_index in cv.split(X):\n",
    "    print(counter)\n",
    "    counter=counter+1\n",
    "    X_train, X_test, y_train, y_test = X[train_index], X[test_index], y[train_index], y[test_index]\n",
    "    \n",
    "    sm = SMOTE(random_state=42)\n",
    "    X_train, y_train = sm.fit_resample(X_train, y_train)\n",
    "    \n",
    "    best_xgb = xgbc.fit(X_train, y_train)\n",
    "    \n",
    "#     prediction_2011 = best_xgb.predict(X_2011)\n",
    "#     f1_weight = f1_score(y_2011, prediction_2011, average='weighted')\n",
    "#     acc = accuracy_score(y_2011, prediction_2011)\n",
    "\n",
    "#     f1score.append(f1_weight)\n",
    "#     accscore.append(acc)\n",
    "\n",
    "    predictions = best_xgb.predict(X_test)\n",
    "    predictions_train = best_xgb.predict(X_train)\n",
    "\n",
    "    f1_weight = f1_score(y_test, predictions, average='weighted')\n",
    "    f1_weight_train = f1_score(y_train, predictions_train, average='weighted')\n",
    "    acc = accuracy_score(y_test, predictions)\n",
    "    acc_train = accuracy_score(y_train, predictions_train)\n",
    "\n",
    "    val_f1score.append(f1_weight)\n",
    "    train_f1score.append(f1_weight_train)\n",
    "    val_accscore.append(acc)\n",
    "    train_accscore.append(acc_train)\n",
    "\n",
    "val_f1score = np.array(val_f1score).mean()\n",
    "train_f1score = np.array(train_f1score).mean()\n",
    "val_accscore = np.array(val_accscore).mean()\n",
    "train_accscore = np.array(train_accscore).mean()\n",
    "# f1score = np.array(f1score).mean()\n",
    "# accscore = np.array(accscore).mean()\n",
    "# print(f1score, accscore)\n",
    "print(val_f1score, train_f1score, val_accscore, train_accscore)"
   ]
  },
  {
   "cell_type": "code",
   "execution_count": 163,
   "metadata": {},
   "outputs": [],
   "source": [
    "from xgboost import plot_importance\n",
    "from matplotlib import pyplot\n",
    "import matplotlib.pyplot as plt"
   ]
  },
  {
   "cell_type": "code",
   "execution_count": 164,
   "metadata": {},
   "outputs": [],
   "source": [
    "# plot_importance(best_xgb,title='Asset-Gain',importance_type='gain',show_values=False, grid=False,height=0.3)\n",
    "# plot_importance(best_xgb,title='Asset-Weight',importance_type='weight',show_values=False, grid=False,height=0.3)\n",
    "# plot_importance(best_xgb,title='Asset-Total_Gain',importance_type='total_gain',show_values=False, grid=False,height=0.3)\n",
    "# plot_importance(best_xgb,title='Asset-Cover',importance_type='cover',show_values=False, grid=False,height=0.3)\n",
    "# plot_importance(best_xgb,title='Asset-Total_Cover',importance_type='total_cover',show_values=False, grid=False,height=0.3)\n",
    "# pyplot.show()"
   ]
  },
  {
   "cell_type": "code",
   "execution_count": 165,
   "metadata": {},
   "outputs": [],
   "source": [
    "# print('Gain')\n",
    "# pprint.pprint(best_xgb.get_booster().get_score(importance_type= 'gain'))\n",
    "# print('weight')\n",
    "# pprint.pprint(best_xgb.get_booster().get_score(importance_type= 'weight'))\n",
    "# print('cover')\n",
    "# pprint.pprint(best_xgb.get_booster().get_score(importance_type= 'cover'))\n",
    "# print('total_gain')\n",
    "# pprint.pprint(best_xgb.get_booster().get_score(importance_type= 'total_gain'))\n",
    "# print('total_cover')\n",
    "# pprint.pprint(best_xgb.get_booster().get_score(importance_type= 'total_cover'))"
   ]
  },
  {
   "cell_type": "code",
   "execution_count": 166,
   "metadata": {},
   "outputs": [
    {
     "data": {
      "text/plain": [
       "Text(0.5, 1.0, 'MSW-Gain  -  Using FEMP & LIT')"
      ]
     },
     "execution_count": 166,
     "metadata": {},
     "output_type": "execute_result"
    },
    {
     "data": {
      "image/png": "[encoded data removed]",
      "text/plain": [
       "<Figure size 432x288 with 1 Axes>"
      ]
     },
     "metadata": {
      "needs_background": "light"
     },
     "output_type": "display_data"
    }
   ],
   "source": [
    "fcols = feature_cols\n",
    "fi = best_xgb.get_booster().get_score(importance_type= 'gain')\n",
    "fi_new = {}\n",
    "for i in range(len(fcols)):\n",
    "    key='f'+str(i)\n",
    "    fi_new[fcols[i]] = fi[key]\n",
    "sorted_x = sorted(fi_new.items(), key=operator.itemgetter(1))\n",
    "sorted_dict = collections.OrderedDict(sorted_x)\n",
    "\n",
    "plt.barh(range(len(sorted_dict)), list(sorted_dict.values()), align='center')\n",
    "plt.yticks(range(len(sorted_dict)), list(sorted_dict.keys()))\n",
    "plt.title('MSW-Gain  -  Using FEMP & LIT')\n",
    "# plt.savefig('MSL-Gain.jpg')"
   ]
  },
  {
   "cell_type": "markdown",
   "metadata": {},
   "source": [
    "## \n",
    "The Gain implies the relative contribution of the corresponding \n",
    "feature to the model calculated by taking each feature’s contribution \n",
    "for each tree in the model. A higher value of this metric when compared to \n",
    "another feature implies it is more important for generating a prediction\n",
    "-- The Gain is the most relevant attribute to interpret the relative importance of each feature\n",
    "\n",
    "‘Gain’ is the improvement in accuracy brought by a feature to the branches it is on. \n",
    "The idea is that before adding a new split on a feature X to the branch there was some \n",
    "wrongly classified elements, after adding the split on this feature, there are two new branches, \n",
    "and each of these branch is more accurate (one branch saying if your observation is on this branch \n",
    "then it should be classified as 1, and the other branch saying the exact opposite).\n",
    "\n",
    "https://arxiv.org/abs/1706.06060\n",
    "\n",
    "\n",
    "https://towardsdatascience.com/be-careful-when-interpreting-your-features-importance-in-xgboost-6e16132588e7"
   ]
  },
  {
   "cell_type": "code",
   "execution_count": 152,
   "metadata": {},
   "outputs": [
    {
     "data": {
      "text/plain": [
       "Text(0.5, 1.0, 'MSL-Weight  -  Using FEMP & LIT')"
      ]
     },
     "execution_count": 152,
     "metadata": {},
     "output_type": "execute_result"
    },
    {
     "data": {
      "image/png": "[encoded data removed]",
      "text/plain": [
       "<Figure size 432x288 with 1 Axes>"
      ]
     },
     "metadata": {
      "needs_background": "light"
     },
     "output_type": "display_data"
    }
   ],
   "source": [
    "fcols = feature_cols\n",
    "fi = best_xgb.get_booster().get_score(importance_type= 'weight')\n",
    "fi_new = {}\n",
    "for i in range(len(fcols)):\n",
    "    key='f'+str(i)\n",
    "    fi_new[fcols[i]] = fi[key]\n",
    "sorted_x = sorted(fi_new.items(), key=operator.itemgetter(1))\n",
    "sorted_dict = collections.OrderedDict(sorted_x)\n",
    "\n",
    "plt.barh(range(len(sorted_dict)), list(sorted_dict.values()), align='center')\n",
    "plt.yticks(range(len(sorted_dict)), list(sorted_dict.keys()))\n",
    "plt.title('MSL-Weight  -  Using FEMP & LIT')"
   ]
  },
  {
   "cell_type": "markdown",
   "metadata": {},
   "source": [
    "##\n",
    "weight, --> how many times a feature appears in a tree. \n",
    "\n",
    "\n",
    "Given that gender is well-populated and gives some clear indication of survival, \n",
    "it might not appear in many of the boosting rounds, thus driving it's weight lower.\n"
   ]
  },
  {
   "cell_type": "code",
   "execution_count": null,
   "metadata": {},
   "outputs": [],
   "source": []
  },
  {
   "cell_type": "code",
   "execution_count": null,
   "metadata": {},
   "outputs": [],
   "source": []
  }
 ],
 "metadata": {
  "kernelspec": {
   "display_name": "Python 3",
   "language": "python",
   "name": "python3"
  },
  "language_info": {
   "codemirror_mode": {
    "name": "ipython",
    "version": 3
   },
   "file_extension": ".py",
   "mimetype": "text/x-python",
   "name": "python",
   "nbconvert_exporter": "python",
   "pygments_lexer": "ipython3",
   "version": "3.6.6"
  }
 },
 "nbformat": 4,
 "nbformat_minor": 2
}
