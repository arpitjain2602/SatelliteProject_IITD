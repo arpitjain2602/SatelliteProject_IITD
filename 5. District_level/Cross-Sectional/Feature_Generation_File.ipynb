{
 "cells": [
  {
   "cell_type": "code",
   "execution_count": 1,
   "metadata": {},
   "outputs": [],
   "source": [
    "import pandas as pd\n",
    "import csv\n",
    "import numpy as np\n",
    "import sklearn\n",
    "from sklearn.model_selection import train_test_split\n",
    "from sklearn.ensemble import RandomForestClassifier\n",
    "from sklearn.metrics import accuracy_score, f1_score, classification_report, confusion_matrix"
   ]
  },
  {
   "cell_type": "code",
   "execution_count": 136,
   "metadata": {},
   "outputs": [],
   "source": [
    "district_ground_truth = r\"C:\\Users\\AJain7\\OneDrive - Stryker\\Personal\\Projects\\Satellite Project\\5. District_level\\District_Master.csv\"\n",
    "ground_truth = pd.read_csv(district_ground_truth)"
   ]
  },
  {
   "cell_type": "code",
   "execution_count": 137,
   "metadata": {},
   "outputs": [
    {
     "data": {
      "text/plain": [
       "Index(['Unnamed: 0', 'district name', 'district code', '1. Under-Developed_BF',\n",
       "       '2. Moderately-Developed_BF', '3. Developed_BF',\n",
       "       '1. Under-Developed_FC', '2. Moderately-Developed_FC',\n",
       "       '3. Developed_FC', '0',\n",
       "       ...\n",
       "       'LIT%', 'MSL', 'MSW', 'CHH', 'FC', 'BF', 'EMP_AG_NONAG', 'Asset',\n",
       "       'EMP_FEMALE', 'LIT'],\n",
       "      dtype='object', length=125)"
      ]
     },
     "execution_count": 137,
     "metadata": {},
     "output_type": "execute_result"
    }
   ],
   "source": [
    "ground_truth.columns"
   ]
  },
  {
   "cell_type": "code",
   "execution_count": 4,
   "metadata": {},
   "outputs": [],
   "source": [
    "cols = ['district code', 'Asset']\n",
    "ground_truth = ground_truth[cols]"
   ]
  },
  {
   "cell_type": "code",
   "execution_count": 5,
   "metadata": {},
   "outputs": [],
   "source": [
    "ground_truth['Asset'] = ground_truth['Asset'].apply(lambda x: int(x[:1]))"
   ]
  },
  {
   "cell_type": "code",
   "execution_count": 6,
   "metadata": {},
   "outputs": [
    {
     "data": {
      "text/plain": [
       "(640, 2)"
      ]
     },
     "execution_count": 6,
     "metadata": {},
     "output_type": "execute_result"
    }
   ],
   "source": [
    "ground_truth.shape"
   ]
  },
  {
   "cell_type": "code",
   "execution_count": 7,
   "metadata": {},
   "outputs": [],
   "source": [
    "input_file = 'district_500m_feature_1.csv'\n",
    "features = pd.read_csv(input_file, header=None)"
   ]
  },
  {
   "cell_type": "code",
   "execution_count": 8,
   "metadata": {},
   "outputs": [],
   "source": [
    "features[0] = features[0].astype(int)\n",
    "features=features.rename(columns = {0:'district code'})"
   ]
  },
  {
   "cell_type": "code",
   "execution_count": 9,
   "metadata": {},
   "outputs": [],
   "source": [
    "df = features.merge(ground_truth, how='left',on='district code')"
   ]
  },
  {
   "cell_type": "code",
   "execution_count": 10,
   "metadata": {},
   "outputs": [],
   "source": [
    "df.dropna(inplace=True)\n",
    "df['Asset'] = df['Asset'].astype(int)"
   ]
  },
  {
   "cell_type": "code",
   "execution_count": 11,
   "metadata": {},
   "outputs": [
    {
     "data": {
      "text/plain": [
       "Index(['district code',               1,               2,               3,\n",
       "                     4,               5,               6,               7,\n",
       "                     8,               9,\n",
       "       ...\n",
       "                 12022,           12023,           12024,           12025,\n",
       "                 12026,           12027,           12028,           12029,\n",
       "                 12030,         'Asset'],\n",
       "      dtype='object', length=12032)"
      ]
     },
     "execution_count": 11,
     "metadata": {},
     "output_type": "execute_result"
    }
   ],
   "source": [
    "df.columns"
   ]
  },
  {
   "cell_type": "code",
   "execution_count": 55,
   "metadata": {},
   "outputs": [],
   "source": [
    "feature_cols = df.columns[1:df.shape[1]-1]\n",
    "target_col = df.columns[-1:]"
   ]
  },
  {
   "cell_type": "code",
   "execution_count": 62,
   "metadata": {},
   "outputs": [],
   "source": [
    "X_train, X_test, y_train, y_test = train_test_split(df[feature_cols], df[target_col], test_size=0.2, random_state=42)"
   ]
  },
  {
   "cell_type": "code",
   "execution_count": 65,
   "metadata": {},
   "outputs": [
    {
     "name": "stdout",
     "output_type": "stream",
     "text": [
      "(512, 12030) (128, 12030)\n",
      "(512, 1) (128, 1)\n"
     ]
    }
   ],
   "source": [
    "print(X_train.shape, X_test.shape)\n",
    "print(y_train.shape, y_test.shape)"
   ]
  },
  {
   "cell_type": "code",
   "execution_count": 67,
   "metadata": {},
   "outputs": [],
   "source": [
    "clf = RandomForestClassifier(random_state=0)\n",
    "clf.fit(X_train, y_train)"
   ]
  },
  {
   "cell_type": "code",
   "execution_count": 69,
   "metadata": {},
   "outputs": [
    {
     "name": "stderr",
     "output_type": "stream",
     "text": [
      "C:\\Users\\AJain7\\AppData\\Local\\Continuum\\anaconda3\\lib\\site-packages\\numpy\\core\\_methods.py:32: RuntimeWarning: overflow encountered in reduce\n",
      "  return umr_sum(a, axis, dtype, out, keepdims)\n"
     ]
    }
   ],
   "source": [
    "predictions = clf.predict(X_test)\n",
    "print('Macro ',f1_score(y_test, predictions, average='macro'))\n",
    "print('Weighted ',f1_score(y_test, predictions, average='weighted'))"
   ]
  },
  {
   "cell_type": "code",
   "execution_count": 81,
   "metadata": {},
   "outputs": [],
   "source": [
    "df.to_csv('asset_image_feature.csv',index=False)"
   ]
  },
  {
   "cell_type": "markdown",
   "metadata": {},
   "source": [
    "## PCA Reduction then scaling"
   ]
  },
  {
   "cell_type": "code",
   "execution_count": 78,
   "metadata": {},
   "outputs": [],
   "source": [
    "from sklearn.decomposition import PCA\n",
    "import numpy as np\n",
    "import pandas as pd\n",
    "from sklearn.preprocessing import MinMaxScaler"
   ]
  },
  {
   "cell_type": "code",
   "execution_count": 14,
   "metadata": {},
   "outputs": [],
   "source": [
    "feature_cols = df.columns[1:-1]\n",
    "X = df[feature_cols]\n",
    "\n",
    "n_components=30\n",
    "# X_pca = PCA(n_components=n_components).fit_transform(X)\n",
    "pca = PCA(n_components=n_components)\n",
    "X_pca = pca.fit_transform(X)"
   ]
  },
  {
   "cell_type": "code",
   "execution_count": 68,
   "metadata": {},
   "outputs": [
    {
     "data": {
      "text/plain": [
       "(640, 30)"
      ]
     },
     "execution_count": 68,
     "metadata": {},
     "output_type": "execute_result"
    }
   ],
   "source": [
    "X_pca.shape"
   ]
  },
  {
   "cell_type": "code",
   "execution_count": 69,
   "metadata": {},
   "outputs": [
    {
     "name": "stdout",
     "output_type": "stream",
     "text": [
      "[0.86456793 0.90654853 0.94094082 0.95247211 0.96016277 0.96621627\n",
      " 0.97127543 0.97500391 0.97869022 0.98149052 0.98388007 0.98600266\n",
      " 0.98796308 0.98973302 0.9911569  0.99231073 0.99332801 0.99427927\n",
      " 0.99508742 0.99575391 0.99626086 0.99675235 0.997213   0.99765516\n",
      " 0.99801123 0.99830775 0.9985937  0.99883433 0.9990489  0.99921258]\n"
     ]
    }
   ],
   "source": [
    "# pca.explained_variance_\n",
    "# pca.explained_variance_ratio_\n",
    "print(pca.explained_variance_ratio_.cumsum())"
   ]
  },
  {
   "cell_type": "markdown",
   "metadata": {},
   "source": [
    "## Taking 30 as feature vectors, because they are providing reasonable variance when you run pca for n_components = 640"
   ]
  },
  {
   "cell_type": "code",
   "execution_count": 116,
   "metadata": {},
   "outputs": [],
   "source": [
    "X_scaled = MinMaxScaler().fit_transform(X_pca)\n",
    "feature_df = pd.DataFrame(X_scaled)"
   ]
  },
  {
   "cell_type": "code",
   "execution_count": 126,
   "metadata": {},
   "outputs": [
    {
     "name": "stdout",
     "output_type": "stream",
     "text": [
      "(640, 1)\n"
     ]
    }
   ],
   "source": [
    "district_df = pd.DataFrame(df['district code'])\n",
    "print(district_df.shape)\n",
    "district_df.reset_index(inplace=True)\n",
    "del district_df['index']"
   ]
  },
  {
   "cell_type": "code",
   "execution_count": 131,
   "metadata": {},
   "outputs": [],
   "source": [
    "final_df = pd.concat([feature_df, district_df],axis=1)"
   ]
  },
  {
   "cell_type": "code",
   "execution_count": 132,
   "metadata": {},
   "outputs": [
    {
     "data": {
      "text/plain": [
       "(640, 31)"
      ]
     },
     "execution_count": 132,
     "metadata": {},
     "output_type": "execute_result"
    }
   ],
   "source": [
    "final_df.shape"
   ]
  },
  {
   "cell_type": "code",
   "execution_count": 134,
   "metadata": {},
   "outputs": [
    {
     "data": {
      "text/plain": [
       "Index([              0,               1,               2,               3,\n",
       "                     4,               5,               6,               7,\n",
       "                     8,               9,              10,              11,\n",
       "                    12,              13,              14,              15,\n",
       "                    16,              17,              18,              19,\n",
       "                    20,              21,              22,              23,\n",
       "                    24,              25,              26,              27,\n",
       "                    28,              29, 'district code'],\n",
       "      dtype='object')"
      ]
     },
     "execution_count": 134,
     "metadata": {},
     "output_type": "execute_result"
    }
   ],
   "source": [
    "final_df.columns"
   ]
  },
  {
   "cell_type": "code",
   "execution_count": 139,
   "metadata": {},
   "outputs": [],
   "source": [
    "cols = ['district code', 'MSL', 'MSW', 'CHH', 'FC', 'BF', 'Asset', 'EMP_FEMALE', 'LIT', 'EMP_AG_NONAG']\n",
    "ground_truth = ground_truth[cols]"
   ]
  },
  {
   "cell_type": "code",
   "execution_count": 140,
   "metadata": {},
   "outputs": [],
   "source": [
    "district_feature_file_2 = final_df.merge(ground_truth, on='district code',how='left')"
   ]
  },
  {
   "cell_type": "code",
   "execution_count": 142,
   "metadata": {},
   "outputs": [
    {
     "data": {
      "text/plain": [
       "Index([              0,               1,               2,               3,\n",
       "                     4,               5,               6,               7,\n",
       "                     8,               9,              10,              11,\n",
       "                    12,              13,              14,              15,\n",
       "                    16,              17,              18,              19,\n",
       "                    20,              21,              22,              23,\n",
       "                    24,              25,              26,              27,\n",
       "                    28,              29, 'district code',           'MSL',\n",
       "                 'MSW',           'CHH',            'FC',            'BF',\n",
       "               'Asset',    'EMP_FEMALE',           'LIT',  'EMP_AG_NONAG'],\n",
       "      dtype='object')"
      ]
     },
     "execution_count": 142,
     "metadata": {},
     "output_type": "execute_result"
    }
   ],
   "source": [
    "district_feature_file_2.columns"
   ]
  },
  {
   "cell_type": "code",
   "execution_count": 156,
   "metadata": {},
   "outputs": [],
   "source": [
    "district_feature_file_2['MSL'] = district_feature_file_2['MSL'].apply(lambda x: int(x[:1]))\n",
    "district_feature_file_2['MSW'] = district_feature_file_2['MSW'].apply(lambda x: int(x[:1]))\n",
    "district_feature_file_2['CHH'] = district_feature_file_2['CHH'].apply(lambda x: int(x[:1]))\n",
    "district_feature_file_2['FC'] = district_feature_file_2['FC'].apply(lambda x: int(x[:1]))\n",
    "district_feature_file_2['BF'] = district_feature_file_2['BF'].apply(lambda x: int(x[:1]))\n",
    "district_feature_file_2['Asset'] = district_feature_file_2['Asset'].apply(lambda x: int(x[:1]))\n",
    "district_feature_file_2['EMP_FEMALE'] = district_feature_file_2['EMP_FEMALE'].apply(lambda x: int(x[:1]))\n",
    "district_feature_file_2['LIT'] = district_feature_file_2['LIT'].apply(lambda x: int(x[:1]))\n",
    "district_feature_file_2['EMP_AG_NONAG'] = district_feature_file_2['EMP_AG_NONAG'].apply(lambda x: int(x[:1]))"
   ]
  },
  {
   "cell_type": "code",
   "execution_count": 168,
   "metadata": {},
   "outputs": [
    {
     "data": {
      "text/plain": [
       "1    259\n",
       "2    218\n",
       "3    163\n",
       "Name: EMP_AG_NONAG, dtype: int64"
      ]
     },
     "execution_count": 168,
     "metadata": {},
     "output_type": "execute_result"
    }
   ],
   "source": [
    "district_feature_file_2['EMP_AG_NONAG'].value_counts()"
   ]
  },
  {
   "cell_type": "code",
   "execution_count": 169,
   "metadata": {},
   "outputs": [],
   "source": [
    "district_feature_file_2.to_csv('district_feature_file_2.csv', index=False)"
   ]
  },
  {
   "cell_type": "code",
   "execution_count": null,
   "metadata": {},
   "outputs": [],
   "source": []
  }
 ],
 "metadata": {
  "kernelspec": {
   "display_name": "Python 3",
   "language": "python",
   "name": "python3"
  },
  "language_info": {
   "codemirror_mode": {
    "name": "ipython",
    "version": 3
   },
   "file_extension": ".py",
   "mimetype": "text/x-python",
   "name": "python",
   "nbconvert_exporter": "python",
   "pygments_lexer": "ipython3",
   "version": "3.6.6"
  }
 },
 "nbformat": 4,
 "nbformat_minor": 2
}
