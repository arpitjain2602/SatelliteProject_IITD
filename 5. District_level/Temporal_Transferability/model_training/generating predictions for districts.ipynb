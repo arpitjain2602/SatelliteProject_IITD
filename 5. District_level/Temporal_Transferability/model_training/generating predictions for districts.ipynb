{
 "cells": [
  {
   "cell_type": "code",
   "execution_count": 1,
   "metadata": {},
   "outputs": [
    {
     "name": "stderr",
     "output_type": "stream",
     "text": [
      "Using TensorFlow backend.\n"
     ]
    }
   ],
   "source": [
    "from xgboost import XGBClassifier\n",
    "import pprint\n",
    "import operator\n",
    "import collections\n",
    "from sklearn.model_selection import KFold\n",
    "from imblearn.over_sampling import SMOTE\n",
    "from sklearn.metrics import f1_score, accuracy_score"
   ]
  },
  {
   "cell_type": "code",
   "execution_count": 242,
   "metadata": {},
   "outputs": [
    {
     "name": "stdout",
     "output_type": "stream",
     "text": [
      "val_f1_score  [0.7481875244188912, 0.7428176612907225, 0.7311546249964802, 0.7143782299395331, 0.7049173928782612]\n",
      "train_f1_score  [0.7937083809252552, 0.7885771678454196, 0.7984200753961589, 0.788575695719303, 0.7903365189203497]\n"
     ]
    }
   ],
   "source": [
    "file = '/Users/arpitjain/Desktop/changeClassifierResult/ASSET_change_CC_FormalEMP&Lit_XGB_WO_2001.pkl'\n",
    "tss = pickle.load(open(file,'rb'))\n",
    "print('val_f1_score ',tss['xgBoost']['val_scores'])\n",
    "print('train_f1_score ',tss['xgBoost']['train_scores'])"
   ]
  },
  {
   "cell_type": "code",
   "execution_count": 243,
   "metadata": {},
   "outputs": [
    {
     "name": "stdout",
     "output_type": "stream",
     "text": [
      "                 \n",
      "Re-Training again for calculating f1 and train scores\n"
     ]
    }
   ],
   "source": [
    "n_estimators = tss['xgBoost']['specs'][0]['n_estimators']\n",
    "max_depth = tss['xgBoost']['specs'][0]['max_depth']\n",
    "learning_rate = tss['xgBoost']['specs'][0]['learning_rate']\n",
    "objective = tss['xgBoost']['specs'][0]['objective']\n",
    "booster = tss['xgBoost']['specs'][0]['booster']\n",
    "gamma = tss['xgBoost']['specs'][0]['gamma']\n",
    "min_child_weight = tss['xgBoost']['specs'][0]['min_child_weight']\n",
    "max_delta_step = tss['xgBoost']['specs'][0]['max_delta_step']\n",
    "subsample = tss['xgBoost']['specs'][0]['subsample']\n",
    "colsample_bytree = tss['xgBoost']['specs'][0]['colsample_bytree']\n",
    "colsample_bylevel = tss['xgBoost']['specs'][0]['colsample_bylevel']\n",
    "colsample_bynode = tss['xgBoost']['specs'][0]['colsample_bynode']\n",
    "reg_alpha = tss['xgBoost']['specs'][0]['reg_alpha']\n",
    "reg_lambda = tss['xgBoost']['specs'][0]['reg_lambda']\n",
    "scale_pos_weight = tss['xgBoost']['specs'][0]['scale_pos_weight']\n",
    "base_score = tss['xgBoost']['specs'][0]['base_score']\n",
    "\n",
    "n_splits = tss['xgBoost']['specs'][0]['kFold_splits']\n",
    "\n",
    "print('                 ')\n",
    "print('Re-Training again for calculating f1 and train scores')\n",
    "\n",
    "xgbc = XGBClassifier(n_estimators=n_estimators, \n",
    "         max_depth=max_depth, learning_rate=learning_rate, \n",
    "         objective=objective, booster=booster,n_jobs=-1, \n",
    "         gamma=gamma, min_child_weight=min_child_weight, \n",
    "         max_delta_step=max_delta_step, subsample=subsample, \n",
    "         colsample_bytree=colsample_bytree, \n",
    "         colsample_bylevel=colsample_bylevel, colsample_bynode=colsample_bynode, \n",
    "         reg_alpha=reg_alpha, reg_lambda=reg_lambda, \n",
    "         scale_pos_weight=scale_pos_weight, base_score=base_score, random_state=0)\n",
    "\n",
    "cv = KFold(n_splits=n_splits, shuffle=True)"
   ]
  },
  {
   "cell_type": "markdown",
   "metadata": {},
   "source": [
    "## Data "
   ]
  },
  {
   "cell_type": "code",
   "execution_count": 244,
   "metadata": {},
   "outputs": [],
   "source": [
    "ground_truth = pd.read_csv(\"/Users/arpitjain/Downloads/SatPRo/2001_L7_data/ChangeClassifier/GroundTruth_ChangeClassifier.csv\")\n",
    "df = pd.read_csv(\"/Users/arpitjain/Downloads/SatPRo/2001_L7_data/ChangeClassifier/input_data/ASSET_CC.csv\")\n",
    "data = ground_truth.merge(df, on='census_code', how='left')\n",
    "data.dropna(inplace=True)\n",
    "target = 'ASSET_change'\n",
    "feature_cols = ['Formal_EMP_2001','ASSET_2001','FC_2001','predictions_2003','predictions_2005', 'predictions_2007', 'predictions_2009','predictions_2011']"
   ]
  },
  {
   "cell_type": "code",
   "execution_count": 245,
   "metadata": {},
   "outputs": [
    {
     "data": {
      "text/html": [
       "<div>\n",
       "<style scoped>\n",
       "    .dataframe tbody tr th:only-of-type {\n",
       "        vertical-align: middle;\n",
       "    }\n",
       "\n",
       "    .dataframe tbody tr th {\n",
       "        vertical-align: top;\n",
       "    }\n",
       "\n",
       "    .dataframe thead th {\n",
       "        text-align: right;\n",
       "    }\n",
       "</style>\n",
       "<table border=\"1\" class=\"dataframe\">\n",
       "  <thead>\n",
       "    <tr style=\"text-align: right;\">\n",
       "      <th></th>\n",
       "      <th>census_code</th>\n",
       "      <th>MSW_change</th>\n",
       "      <th>MSW_2001</th>\n",
       "      <th>BF_change</th>\n",
       "      <th>BF_2001</th>\n",
       "      <th>CHH_change</th>\n",
       "      <th>CHH_2001</th>\n",
       "      <th>EMP_change</th>\n",
       "      <th>EMP_2001</th>\n",
       "      <th>MSL_change</th>\n",
       "      <th>MSL_2001</th>\n",
       "      <th>FC_change</th>\n",
       "      <th>FC_2001</th>\n",
       "      <th>ASSET_change</th>\n",
       "      <th>ASSET_2001</th>\n",
       "      <th>Formal_EMP_2001</th>\n",
       "      <th>LIT_2001</th>\n",
       "    </tr>\n",
       "  </thead>\n",
       "  <tbody>\n",
       "    <tr>\n",
       "      <th>0</th>\n",
       "      <td>1</td>\n",
       "      <td>0</td>\n",
       "      <td>1</td>\n",
       "      <td>0</td>\n",
       "      <td>2</td>\n",
       "      <td>0</td>\n",
       "      <td>1</td>\n",
       "      <td>0</td>\n",
       "      <td>1</td>\n",
       "      <td>1</td>\n",
       "      <td>2</td>\n",
       "      <td>0</td>\n",
       "      <td>1</td>\n",
       "      <td>0</td>\n",
       "      <td>1</td>\n",
       "      <td>2</td>\n",
       "      <td>1</td>\n",
       "    </tr>\n",
       "    <tr>\n",
       "      <th>1</th>\n",
       "      <td>2</td>\n",
       "      <td>0</td>\n",
       "      <td>3</td>\n",
       "      <td>0</td>\n",
       "      <td>2</td>\n",
       "      <td>1</td>\n",
       "      <td>1</td>\n",
       "      <td>0</td>\n",
       "      <td>1</td>\n",
       "      <td>0</td>\n",
       "      <td>3</td>\n",
       "      <td>0</td>\n",
       "      <td>2</td>\n",
       "      <td>1</td>\n",
       "      <td>1</td>\n",
       "      <td>2</td>\n",
       "      <td>1</td>\n",
       "    </tr>\n",
       "  </tbody>\n",
       "</table>\n",
       "</div>"
      ],
      "text/plain": [
       "   census_code  MSW_change  MSW_2001  BF_change  BF_2001  CHH_change  \\\n",
       "0            1           0         1          0        2           0   \n",
       "1            2           0         3          0        2           1   \n",
       "\n",
       "   CHH_2001  EMP_change  EMP_2001  MSL_change  MSL_2001  FC_change  FC_2001  \\\n",
       "0         1           0         1           1         2          0        1   \n",
       "1         1           0         1           0         3          0        2   \n",
       "\n",
       "   ASSET_change  ASSET_2001  Formal_EMP_2001  LIT_2001  \n",
       "0             0           1                2         1  \n",
       "1             1           1                2         1  "
      ]
     },
     "execution_count": 245,
     "metadata": {},
     "output_type": "execute_result"
    }
   ],
   "source": [
    "ground_truth.head(2)"
   ]
  },
  {
   "cell_type": "code",
   "execution_count": 246,
   "metadata": {},
   "outputs": [],
   "source": [
    "X = data[feature_cols].values\n",
    "y = data[target].values"
   ]
  },
  {
   "cell_type": "code",
   "execution_count": 247,
   "metadata": {},
   "outputs": [
    {
     "data": {
      "text/plain": [
       "(580, 8)"
      ]
     },
     "execution_count": 247,
     "metadata": {},
     "output_type": "execute_result"
    }
   ],
   "source": [
    "X.shape"
   ]
  },
  {
   "cell_type": "code",
   "execution_count": 248,
   "metadata": {},
   "outputs": [
    {
     "data": {
      "text/plain": [
       "(580,)"
      ]
     },
     "execution_count": 248,
     "metadata": {},
     "output_type": "execute_result"
    }
   ],
   "source": [
    "y.shape"
   ]
  },
  {
   "cell_type": "code",
   "execution_count": 249,
   "metadata": {},
   "outputs": [
    {
     "name": "stdout",
     "output_type": "stream",
     "text": [
      "0\n",
      "1\n",
      "2\n",
      "3\n",
      "4\n",
      "0.7568516733285029 0.789690577151252 0.7603448275862069 0.7916026322844253\n"
     ]
    }
   ],
   "source": [
    "val_f1score = []\n",
    "val_accscore = []\n",
    "train_f1score = []\n",
    "train_accscore = []\n",
    "\n",
    "test_prediction_list = []\n",
    "index_list = []\n",
    "# f1score = []\n",
    "# accscore = []\n",
    "counter=0\n",
    "for train_index, test_index in cv.split(X):\n",
    "    print(counter)\n",
    "    counter=counter+1\n",
    "    X_train, X_test, y_train, y_test = X[train_index], X[test_index], y[train_index], y[test_index]\n",
    "    \n",
    "    sm = SMOTE(random_state=42)\n",
    "    X_train, y_train = sm.fit_resample(X_train, y_train)\n",
    "    \n",
    "    best_xgb = xgbc.fit(X_train, y_train)\n",
    "    \n",
    "#     prediction_2011 = best_xgb.predict(X_2011)\n",
    "#     f1_weight = f1_score(y_2011, prediction_2011, average='weighted')\n",
    "#     acc = accuracy_score(y_2011, prediction_2011)\n",
    "\n",
    "#     f1score.append(f1_weight)\n",
    "#     accscore.append(acc)\n",
    "\n",
    "    predictions = best_xgb.predict(X_test)\n",
    "    predictions_train = best_xgb.predict(X_train)\n",
    "    \n",
    "    test_prediction_list.append(predictions)\n",
    "    index_list.append(test_index)\n",
    "\n",
    "    f1_weight = f1_score(y_test, predictions, average='weighted')\n",
    "    f1_weight_train = f1_score(y_train, predictions_train, average='weighted')\n",
    "    acc = accuracy_score(y_test, predictions)\n",
    "    acc_train = accuracy_score(y_train, predictions_train)\n",
    "\n",
    "    val_f1score.append(f1_weight)\n",
    "    train_f1score.append(f1_weight_train)\n",
    "    val_accscore.append(acc)\n",
    "    train_accscore.append(acc_train)\n",
    "\n",
    "val_f1score = np.array(val_f1score).mean()\n",
    "train_f1score = np.array(train_f1score).mean()\n",
    "val_accscore = np.array(val_accscore).mean()\n",
    "train_accscore = np.array(train_accscore).mean()\n",
    "# f1score = np.array(f1score).mean()\n",
    "# accscore = np.array(accscore).mean()\n",
    "# print(f1score, accscore)\n",
    "print(val_f1score, train_f1score, val_accscore, train_accscore)"
   ]
  },
  {
   "cell_type": "code",
   "execution_count": 250,
   "metadata": {},
   "outputs": [],
   "source": [
    "census_codes = data['census_code'].values"
   ]
  },
  {
   "cell_type": "code",
   "execution_count": 251,
   "metadata": {},
   "outputs": [],
   "source": [
    "df_list = []\n",
    "for i in range(len(index_list)):\n",
    "    a = census_codes[index_list[i]]\n",
    "    b = test_prediction_list[i]\n",
    "    c = np.vstack((a,b))\n",
    "    df = pd.DataFrame(c).transpose()\n",
    "    df_list.append(df)"
   ]
  },
  {
   "cell_type": "code",
   "execution_count": 252,
   "metadata": {},
   "outputs": [],
   "source": [
    "final_df = pd.concat(df_list, axis=0)"
   ]
  },
  {
   "cell_type": "code",
   "execution_count": 253,
   "metadata": {},
   "outputs": [],
   "source": [
    "final_df.columns = ['census_code', 'change']"
   ]
  },
  {
   "cell_type": "code",
   "execution_count": 254,
   "metadata": {},
   "outputs": [
    {
     "data": {
      "text/plain": [
       "(580, 2)"
      ]
     },
     "execution_count": 254,
     "metadata": {},
     "output_type": "execute_result"
    }
   ],
   "source": [
    "final_df.shape"
   ]
  },
  {
   "cell_type": "code",
   "execution_count": 255,
   "metadata": {},
   "outputs": [
    {
     "data": {
      "text/html": [
       "<div>\n",
       "<style scoped>\n",
       "    .dataframe tbody tr th:only-of-type {\n",
       "        vertical-align: middle;\n",
       "    }\n",
       "\n",
       "    .dataframe tbody tr th {\n",
       "        vertical-align: top;\n",
       "    }\n",
       "\n",
       "    .dataframe thead th {\n",
       "        text-align: right;\n",
       "    }\n",
       "</style>\n",
       "<table border=\"1\" class=\"dataframe\">\n",
       "  <thead>\n",
       "    <tr style=\"text-align: right;\">\n",
       "      <th></th>\n",
       "      <th>census_code</th>\n",
       "      <th>change</th>\n",
       "    </tr>\n",
       "  </thead>\n",
       "  <tbody>\n",
       "    <tr>\n",
       "      <th>0</th>\n",
       "      <td>4</td>\n",
       "      <td>1</td>\n",
       "    </tr>\n",
       "    <tr>\n",
       "      <th>1</th>\n",
       "      <td>10</td>\n",
       "      <td>1</td>\n",
       "    </tr>\n",
       "    <tr>\n",
       "      <th>2</th>\n",
       "      <td>14</td>\n",
       "      <td>1</td>\n",
       "    </tr>\n",
       "    <tr>\n",
       "      <th>3</th>\n",
       "      <td>24</td>\n",
       "      <td>1</td>\n",
       "    </tr>\n",
       "    <tr>\n",
       "      <th>4</th>\n",
       "      <td>27</td>\n",
       "      <td>1</td>\n",
       "    </tr>\n",
       "  </tbody>\n",
       "</table>\n",
       "</div>"
      ],
      "text/plain": [
       "   census_code  change\n",
       "0            4       1\n",
       "1           10       1\n",
       "2           14       1\n",
       "3           24       1\n",
       "4           27       1"
      ]
     },
     "execution_count": 255,
     "metadata": {},
     "output_type": "execute_result"
    }
   ],
   "source": [
    "final_df.head()"
   ]
  },
  {
   "cell_type": "code",
   "execution_count": 256,
   "metadata": {},
   "outputs": [],
   "source": [
    "final_df.drop_duplicates(subset='census_code',inplace=True)"
   ]
  },
  {
   "cell_type": "code",
   "execution_count": 257,
   "metadata": {},
   "outputs": [
    {
     "data": {
      "text/plain": [
       "(576, 2)"
      ]
     },
     "execution_count": 257,
     "metadata": {},
     "output_type": "execute_result"
    }
   ],
   "source": [
    "final_df.shape"
   ]
  },
  {
   "cell_type": "code",
   "execution_count": 258,
   "metadata": {},
   "outputs": [],
   "source": [
    "final_df.to_csv('ASSET_Change.csv')"
   ]
  },
  {
   "cell_type": "code",
   "execution_count": null,
   "metadata": {},
   "outputs": [],
   "source": []
  }
 ],
 "metadata": {
  "kernelspec": {
   "display_name": "Python 3",
   "language": "python",
   "name": "python3"
  },
  "language_info": {
   "codemirror_mode": {
    "name": "ipython",
    "version": 3
   },
   "file_extension": ".py",
   "mimetype": "text/x-python",
   "name": "python",
   "nbconvert_exporter": "python",
   "pygments_lexer": "ipython3",
   "version": "3.6.6"
  }
 },
 "nbformat": 4,
 "nbformat_minor": 2
}
