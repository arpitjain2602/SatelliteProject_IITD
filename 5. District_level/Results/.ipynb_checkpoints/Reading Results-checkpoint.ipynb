{
 "cells": [
  {
   "cell_type": "code",
   "execution_count": 28,
   "metadata": {},
   "outputs": [],
   "source": [
    "import pickle\n",
    "import pandas as pd"
   ]
  },
  {
   "cell_type": "code",
   "execution_count": 29,
   "metadata": {},
   "outputs": [
    {
     "data": {
      "text/plain": [
       "'1.0.3'"
      ]
     },
     "execution_count": 29,
     "metadata": {},
     "output_type": "execute_result"
    }
   ],
   "source": [
    "pd.__version__"
   ]
  },
  {
   "cell_type": "code",
   "execution_count": 30,
   "metadata": {},
   "outputs": [],
   "source": [
    "# note\n",
    "# in case pickle gives an error, use this pandas version"
   ]
  },
  {
   "cell_type": "markdown",
   "metadata": {},
   "source": [
    "### 2 ways of saving models\n",
    "\n",
    "- store the model itself (not saved this way, takes space)\n",
    "- store the information around what parameters was used (saved this way)\n",
    "\n",
    "\n",
    "All the model results are stored in .pkl files which contain the information around which parameters were best, which columns were used etc. as explained below"
   ]
  },
  {
   "cell_type": "code",
   "execution_count": 35,
   "metadata": {},
   "outputs": [],
   "source": [
    "file = 'ChangeClassifier/ASSET_change_CC_FormalEMP%LIT_XGB.pkl'"
   ]
  },
  {
   "cell_type": "code",
   "execution_count": 36,
   "metadata": {},
   "outputs": [],
   "source": [
    "result = pickle.load(open(file, 'rb'))"
   ]
  },
  {
   "cell_type": "code",
   "execution_count": 33,
   "metadata": {},
   "outputs": [
    {
     "data": {
      "text/plain": [
       "dict_keys(['xgBoost'])"
      ]
     },
     "execution_count": 33,
     "metadata": {},
     "output_type": "execute_result"
    }
   ],
   "source": [
    "result.keys() # results for model xgBoost"
   ]
  },
  {
   "cell_type": "code",
   "execution_count": 11,
   "metadata": {},
   "outputs": [
    {
     "data": {
      "text/plain": [
       "dict_keys(['specs', 'val_scores', 'train_scores'])"
      ]
     },
     "execution_count": 11,
     "metadata": {},
     "output_type": "execute_result"
    }
   ],
   "source": [
    "result['xgBoost'].keys() # specs, validation scores and training scores for model xgBoost"
   ]
  },
  {
   "cell_type": "code",
   "execution_count": 14,
   "metadata": {},
   "outputs": [
    {
     "data": {
      "text/plain": [
       "5"
      ]
     },
     "execution_count": 14,
     "metadata": {},
     "output_type": "execute_result"
    }
   ],
   "source": [
    "len(result['xgBoost']['specs']) # indicates 5 models"
   ]
  },
  {
   "cell_type": "code",
   "execution_count": 17,
   "metadata": {},
   "outputs": [
    {
     "name": "stdout",
     "output_type": "stream",
     "text": [
      "[0.7905777366941248, 0.7805324862349694, 0.7809445441387186, 0.8031349477223276, 0.783008040271078]\n",
      "Best train score -  0.7905777366941248\n",
      "[0.7538480476787831, 0.7482311215318239, 0.7366269513735005, 0.730683609984229, 0.7213735520959694]\n",
      "Best val score -  0.7538480476787831\n"
     ]
    }
   ],
   "source": [
    "print(result['xgBoost']['train_scores'])\n",
    "print('Best train score - ', result['xgBoost']['train_scores'][0])\n",
    "print(result['xgBoost']['val_scores'])\n",
    "print('Best val score - ', result['xgBoost']['val_scores'][0])"
   ]
  },
  {
   "cell_type": "code",
   "execution_count": 18,
   "metadata": {},
   "outputs": [
    {
     "data": {
      "text/plain": [
       "{'n_estimators': 500,\n",
       " 'max_depth': 9,\n",
       " 'learning_rate': 0.05,\n",
       " 'verbosity': 1,\n",
       " 'objective': 'binary:hinge',\n",
       " 'booster': 'dart',\n",
       " 'n_jobs': -1,\n",
       " 'gamma': 2,\n",
       " 'min_child_weight': 0,\n",
       " 'max_delta_step': 0,\n",
       " 'subsample': 0.9,\n",
       " 'colsample_bytree': 1,\n",
       " 'colsample_bylevel': 0.5,\n",
       " 'colsample_bynode': 0.5,\n",
       " 'reg_alpha': 0,\n",
       " 'reg_lambda': 1,\n",
       " 'scale_pos_weight': 1,\n",
       " 'base_score': 0.5,\n",
       " 'random_state': 0,\n",
       " 'importance_type': 'gain',\n",
       " 'n_randomized_search': 200,\n",
       " 'run_type': 'train-test',\n",
       " 'trail': 0,\n",
       " 'trail_type': 'sales',\n",
       " 'train_ratio': 0.9,\n",
       " 'val_train_loss': 'f1_weighted',\n",
       " 'top_n_models_drill': 5,\n",
       " 'top_n_models_pred': 5,\n",
       " 'n_drill_search': [100],\n",
       " 'test_ratio': 0.0,\n",
       " 'y_col': 'ASSET_change',\n",
       " 'cols_to_drop': [],\n",
       " 'ensemble': False,\n",
       " 'n_cols_dropped': 0,\n",
       " 'current_date_col': 'FC_2001',\n",
       " 'no_steps_ahead': 0,\n",
       " 'apply_smote': True,\n",
       " 'time_cols': [],\n",
       " 'cross_validation': ['KFold'],\n",
       " 'kFold_splits': 5,\n",
       " 'pFold_splits': 3,\n",
       " 'feature_cols': ['Formal_EMP_2001',\n",
       "  'LIT_2001',\n",
       "  'ASSET_2001',\n",
       "  'predictions_2001',\n",
       "  'predictions_2003',\n",
       "  'predictions_2005',\n",
       "  'predictions_2007',\n",
       "  'predictions_2009',\n",
       "  'predictions_2011'],\n",
       " 'input_order': Index(['census_code', 'MSW_change', 'MSW_2001', 'BF_change', 'BF_2001',\n",
       "        'CHH_change', 'CHH_2001', 'EMP_change', 'EMP_2001', 'MSL_change',\n",
       "        'MSL_2001', 'FC_change', 'ASSET_change', 'ASSET_2001',\n",
       "        'Formal_EMP_2001', 'LIT_2001', 'predictions_2001', 'predictions_2003',\n",
       "        'predictions_2005', 'predictions_2007', 'predictions_2009',\n",
       "        'predictions_2011'],\n",
       "       dtype='object')}"
      ]
     },
     "execution_count": 18,
     "metadata": {},
     "output_type": "execute_result"
    }
   ],
   "source": [
    "# getting specs for best model, i.e. model 1 (0.75). Note that scores are arranged in descending order\n",
    "result['xgBoost']['specs'][0]"
   ]
  },
  {
   "cell_type": "code",
   "execution_count": 24,
   "metadata": {},
   "outputs": [
    {
     "data": {
      "text/plain": [
       "500"
      ]
     },
     "execution_count": 24,
     "metadata": {},
     "output_type": "execute_result"
    }
   ],
   "source": [
    "# the parameters for xgboost\n",
    "result['xgBoost']['specs'][0]['n_estimators'] # "
   ]
  },
  {
   "cell_type": "code",
   "execution_count": 25,
   "metadata": {},
   "outputs": [
    {
     "data": {
      "text/plain": [
       "0.9"
      ]
     },
     "execution_count": 25,
     "metadata": {},
     "output_type": "execute_result"
    }
   ],
   "source": [
    "# train-test ratio\n",
    "result['xgBoost']['specs'][0]['train_ratio']"
   ]
  },
  {
   "cell_type": "code",
   "execution_count": 27,
   "metadata": {},
   "outputs": [
    {
     "data": {
      "text/plain": [
       "'f1_weighted'"
      ]
     },
     "execution_count": 27,
     "metadata": {},
     "output_type": "execute_result"
    }
   ],
   "source": [
    "# metric used to optimize, in this case it was weighted f1_score - refer sklearn\n",
    "result['xgBoost']['specs'][0]['val_train_loss']"
   ]
  },
  {
   "cell_type": "code",
   "execution_count": 20,
   "metadata": {},
   "outputs": [
    {
     "data": {
      "text/plain": [
       "'ASSET_change'"
      ]
     },
     "execution_count": 20,
     "metadata": {},
     "output_type": "execute_result"
    }
   ],
   "source": [
    "# the target column\n",
    "result['xgBoost']['specs'][0]['y_col']"
   ]
  },
  {
   "cell_type": "code",
   "execution_count": 22,
   "metadata": {},
   "outputs": [
    {
     "data": {
      "text/plain": [
       "['Formal_EMP_2001',\n",
       " 'LIT_2001',\n",
       " 'ASSET_2001',\n",
       " 'predictions_2001',\n",
       " 'predictions_2003',\n",
       " 'predictions_2005',\n",
       " 'predictions_2007',\n",
       " 'predictions_2009',\n",
       " 'predictions_2011']"
      ]
     },
     "execution_count": 22,
     "metadata": {},
     "output_type": "execute_result"
    }
   ],
   "source": [
    "# the feature columnn used in model training\n",
    "# here used formal_emp_2001, Lit_2001, Asset_2001, predictions_2001, 2003...2011 for asset\n",
    "result['xgBoost']['specs'][0]['feature_cols']"
   ]
  },
  {
   "cell_type": "code",
   "execution_count": 23,
   "metadata": {},
   "outputs": [
    {
     "data": {
      "text/plain": [
       "Index(['census_code', 'MSW_change', 'MSW_2001', 'BF_change', 'BF_2001',\n",
       "       'CHH_change', 'CHH_2001', 'EMP_change', 'EMP_2001', 'MSL_change',\n",
       "       'MSL_2001', 'FC_change', 'ASSET_change', 'ASSET_2001',\n",
       "       'Formal_EMP_2001', 'LIT_2001', 'predictions_2001', 'predictions_2003',\n",
       "       'predictions_2005', 'predictions_2007', 'predictions_2009',\n",
       "       'predictions_2011'],\n",
       "      dtype='object')"
      ]
     },
     "execution_count": 23,
     "metadata": {},
     "output_type": "execute_result"
    }
   ],
   "source": [
    "# the input dataframe, out which 1 column was target column, few were feature column and rest were not used\n",
    "# can use to get an idea which dataframe was used\n",
    "result['xgBoost']['specs'][0]['input_order']"
   ]
  },
  {
   "cell_type": "code",
   "execution_count": null,
   "metadata": {},
   "outputs": [],
   "source": []
  }
 ],
 "metadata": {
  "kernelspec": {
   "display_name": "Python 3",
   "language": "python",
   "name": "python3"
  },
  "language_info": {
   "codemirror_mode": {
    "name": "ipython",
    "version": 3
   },
   "file_extension": ".py",
   "mimetype": "text/x-python",
   "name": "python",
   "nbconvert_exporter": "python",
   "pygments_lexer": "ipython3",
   "version": "3.6.6"
  }
 },
 "nbformat": 4,
 "nbformat_minor": 2
}
