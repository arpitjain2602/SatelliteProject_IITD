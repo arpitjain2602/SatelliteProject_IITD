{
 "cells": [
  {
   "cell_type": "code",
   "execution_count": 2,
   "metadata": {},
   "outputs": [],
   "source": [
    "from sklearn.utils import class_weight\n",
    "import numpy as np"
   ]
  },
  {
   "cell_type": "code",
   "execution_count": 3,
   "metadata": {},
   "outputs": [],
   "source": [
    "import os\n",
    "import pandas as pd"
   ]
  },
  {
   "cell_type": "code",
   "execution_count": 4,
   "metadata": {},
   "outputs": [],
   "source": [
    "bihar = map(lambda x: x.split('@')[3].split('.')[0],os.listdir('/home/ictd/Desktop/Arpit/Satellite project/data/landsat/croppedImagesBihar'))\n",
    "gujrat = map(lambda x: x.split('@')[3].split('.')[0],os.listdir('/home/ictd/Desktop/Arpit/Satellite project/data/landsat/croppedImagesGuj'))\n",
    "karnataka = map(lambda x: x.split('@')[3].split('.')[0],os.listdir('/home/ictd/Desktop/Arpit/Satellite project/data/landsat/croppedImagesKarnataka'))\n",
    "kerala = map(lambda x: x.split('@')[3].split('.')[0],os.listdir('/home/ictd/Desktop/Arpit/Satellite project/data/landsat/croppedImagesKerela'))\n",
    "maha = map(lambda x: x.split('@')[3].split('.')[0],os.listdir('/home/ictd/Desktop/Arpit/Satellite project/data/landsat/croppedImagesMaha'))\n",
    "odisa = map(lambda x: x.split('@')[3].split('.')[0],os.listdir('/home/ictd/Desktop/Arpit/Satellite project/data/landsat/croppedImagesOddisa'))"
   ]
  },
  {
   "cell_type": "code",
   "execution_count": 5,
   "metadata": {},
   "outputs": [],
   "source": [
    "states = bihar + gujrat + karnataka + kerala + maha + odisa"
   ]
  },
  {
   "cell_type": "code",
   "execution_count": 6,
   "metadata": {},
   "outputs": [
    {
     "data": {
      "text/plain": [
       "178760"
      ]
     },
     "execution_count": 6,
     "metadata": {},
     "output_type": "execute_result"
    }
   ],
   "source": [
    "len(states)"
   ]
  },
  {
   "cell_type": "markdown",
   "metadata": {},
   "source": [
    "## **EMP**"
   ]
  },
  {
   "cell_type": "code",
   "execution_count": 7,
   "metadata": {},
   "outputs": [],
   "source": [
    "df=pd.read_csv('/home/ictd/Desktop/Arpit/Satellite project/Village Label Files/Labels/VillageLabels_EMP.csv')\n",
    "village_code=df[\"Town/Village\"].values\n",
    "emp_label=df[\"Village_HHD_Cluster_EMP\"].values\n",
    "actual_labels= [ int(c) for c in emp_label]\n",
    "s1 = pd.Series(actual_labels,index=list(village_code))"
   ]
  },
  {
   "cell_type": "code",
   "execution_count": 8,
   "metadata": {},
   "outputs": [],
   "source": [
    "def inset(x,s1):\n",
    "    try:\n",
    "        label = s1[int(x)]\n",
    "        return label\n",
    "    except KeyError:\n",
    "        return 90"
   ]
  },
  {
   "cell_type": "code",
   "execution_count": 9,
   "metadata": {},
   "outputs": [],
   "source": [
    "labels = [inset(x,s1) for x in states]\n",
    "y_train = np.array([x for x in labels if x!=90])\n",
    "class_weights = class_weight.compute_class_weight('balanced', np.unique(y_train), y_train)\n",
    "cw =dict(zip(np.unique(y_train),class_weights))"
   ]
  },
  {
   "cell_type": "code",
   "execution_count": 10,
   "metadata": {},
   "outputs": [
    {
     "name": "stdout",
     "output_type": "stream",
     "text": [
      "('Class weights Dict:  ', {1: 0.7277169689545712, 2: 0.7373907240573907, 3: 3.707737735722435})\n",
      "('Class weights List:  ', array([0.72771697, 0.73739072, 3.70773774]))\n",
      "('Instances Class wise:  ', (array([1, 2, 3]), array([75921, 74925, 14901])))\n"
     ]
    }
   ],
   "source": [
    "print('Class weights Dict:  ',cw)\n",
    "print('Class weights List:  ',class_weights)\n",
    "print('Instances Class wise:  ',np.unique(y_train, return_counts=True))"
   ]
  },
  {
   "cell_type": "code",
   "execution_count": null,
   "metadata": {},
   "outputs": [],
   "source": []
  },
  {
   "cell_type": "markdown",
   "metadata": {},
   "source": [
    "## **BF**"
   ]
  },
  {
   "cell_type": "code",
   "execution_count": 11,
   "metadata": {},
   "outputs": [],
   "source": [
    "df=pd.read_csv('/home/ictd/Desktop/Arpit/Satellite project/Village Label Files/Labels/VillageLabels_BF.csv')\n",
    "village_code=df[\"Town/Village\"].values\n",
    "emp_label=df[\"Village_HHD_Cluster_BF\"].values\n",
    "actual_labels= [ int(c) for c in emp_label]\n",
    "s1 = pd.Series(actual_labels,index=list(village_code))"
   ]
  },
  {
   "cell_type": "code",
   "execution_count": 12,
   "metadata": {},
   "outputs": [],
   "source": [
    "def inset(x,s1):\n",
    "    try:\n",
    "        label = s1[int(x)]\n",
    "        return label\n",
    "    except KeyError:\n",
    "        return 90"
   ]
  },
  {
   "cell_type": "code",
   "execution_count": 13,
   "metadata": {},
   "outputs": [],
   "source": [
    "labels = [inset(x,s1) for x in states]\n",
    "y_train = np.array([x for x in labels if x!=90])\n",
    "class_weights = class_weight.compute_class_weight('balanced', np.unique(y_train), y_train)\n",
    "cw =dict(zip(np.unique(y_train),class_weights))"
   ]
  },
  {
   "cell_type": "code",
   "execution_count": 14,
   "metadata": {},
   "outputs": [
    {
     "name": "stdout",
     "output_type": "stream",
     "text": [
      "('Class weights Dict:  ', {1: 0.40896103511576953, 2: 3.940446473147422, 3: 3.3222489476849066})\n",
      "('Class weights List:  ', array([0.40896104, 3.94044647, 3.32224895]))\n",
      "('Instances Class wise:  ', (array([1, 2, 3]), array([135096,  14021,  16630])))\n"
     ]
    }
   ],
   "source": [
    "print('Class weights Dict:  ',cw)\n",
    "print('Class weights List:  ',class_weights)\n",
    "print('Instances Class wise:  ',np.unique(y_train, return_counts=True))"
   ]
  },
  {
   "cell_type": "code",
   "execution_count": null,
   "metadata": {},
   "outputs": [],
   "source": []
  },
  {
   "cell_type": "markdown",
   "metadata": {},
   "source": [
    "## **CHH**"
   ]
  },
  {
   "cell_type": "code",
   "execution_count": 15,
   "metadata": {},
   "outputs": [],
   "source": [
    "df=pd.read_csv('/home/ictd/Desktop/Arpit/Satellite project/Village Label Files/Labels/VillageLabels_CHH.csv')\n",
    "village_code=df[\"Town/Village\"].values\n",
    "emp_label=df[\"Village_HHD_Cluster_CHH\"].values\n",
    "actual_labels= [ int(c) for c in emp_label]\n",
    "s1 = pd.Series(actual_labels,index=list(village_code))"
   ]
  },
  {
   "cell_type": "code",
   "execution_count": 16,
   "metadata": {},
   "outputs": [],
   "source": [
    "def inset(x,s1):\n",
    "    try:\n",
    "        label = s1[int(x)]\n",
    "        return label\n",
    "    except KeyError:\n",
    "        return 90"
   ]
  },
  {
   "cell_type": "code",
   "execution_count": 17,
   "metadata": {},
   "outputs": [],
   "source": [
    "labels = [inset(x,s1) for x in states]\n",
    "y_train = np.array([x for x in labels if x!=90])\n",
    "class_weights = class_weight.compute_class_weight('balanced', np.unique(y_train), y_train)\n",
    "cw =dict(zip(np.unique(y_train),class_weights))"
   ]
  },
  {
   "cell_type": "code",
   "execution_count": 18,
   "metadata": {},
   "outputs": [
    {
     "name": "stdout",
     "output_type": "stream",
     "text": [
      "('Class weights Dict:  ', {1: 1.0130491650979145, 2: 0.733445730671198, 3: 0.7443816692415478, 4: 3.267367134521369})\n",
      "('Class weights List:  ', array([1.01304917, 0.73344573, 0.74438167, 3.26736713]))\n",
      "('Instances Class wise:  ', (array([1, 2, 3, 4]), array([40903, 56496, 55666, 12682])))\n"
     ]
    }
   ],
   "source": [
    "print('Class weights Dict:  ',cw)\n",
    "print('Class weights List:  ',class_weights)\n",
    "print('Instances Class wise:  ',np.unique(y_train, return_counts=True))"
   ]
  },
  {
   "cell_type": "code",
   "execution_count": null,
   "metadata": {},
   "outputs": [],
   "source": []
  },
  {
   "cell_type": "markdown",
   "metadata": {},
   "source": [
    "## **FC**"
   ]
  },
  {
   "cell_type": "code",
   "execution_count": 19,
   "metadata": {},
   "outputs": [],
   "source": [
    "df=pd.read_csv('/home/ictd/Desktop/Arpit/Satellite project/Village Label Files/Labels/VillageLabels_FC.csv')\n",
    "village_code=df[\"Town/Village\"].values\n",
    "emp_label=df[\"Village_HHD_Cluster_FC\"].values\n",
    "actual_labels= [ int(c) for c in emp_label]\n",
    "s1 = pd.Series(actual_labels,index=list(village_code))"
   ]
  },
  {
   "cell_type": "code",
   "execution_count": 20,
   "metadata": {},
   "outputs": [],
   "source": [
    "def inset(x,s1):\n",
    "    try:\n",
    "        label = s1[int(x)]\n",
    "        return label\n",
    "    except KeyError:\n",
    "        return 90"
   ]
  },
  {
   "cell_type": "code",
   "execution_count": 21,
   "metadata": {},
   "outputs": [],
   "source": [
    "labels = [inset(x,s1) for x in states]\n",
    "y_train = np.array([x for x in labels if x!=90])\n",
    "class_weights = class_weight.compute_class_weight('balanced', np.unique(y_train), y_train)\n",
    "cw =dict(zip(np.unique(y_train),class_weights))"
   ]
  },
  {
   "cell_type": "code",
   "execution_count": 22,
   "metadata": {},
   "outputs": [
    {
     "name": "stdout",
     "output_type": "stream",
     "text": [
      "('Class weights Dict:  ', {1: 0.4834317714485716, 2: 1.2898097350297655, 3: 6.404196128433986})\n",
      "('Class weights List:  ', array([0.48343177, 1.28980974, 6.40419613]))\n",
      "('Instances Class wise:  ', (array([1, 2, 3]), array([114285,  42835,   8627])))\n"
     ]
    }
   ],
   "source": [
    "print('Class weights Dict:  ',cw)\n",
    "print('Class weights List:  ',class_weights)\n",
    "print('Instances Class wise:  ',np.unique(y_train, return_counts=True))"
   ]
  },
  {
   "cell_type": "code",
   "execution_count": null,
   "metadata": {},
   "outputs": [],
   "source": []
  },
  {
   "cell_type": "code",
   "execution_count": null,
   "metadata": {},
   "outputs": [],
   "source": []
  },
  {
   "cell_type": "markdown",
   "metadata": {},
   "source": [
    "## **MSL**"
   ]
  },
  {
   "cell_type": "code",
   "execution_count": 23,
   "metadata": {},
   "outputs": [],
   "source": [
    "df=pd.read_csv('/home/ictd/Desktop/Arpit/Satellite project/Village Label Files/Labels/VillageLabels_MSL.csv')\n",
    "village_code=df[\"Town/Village\"].values\n",
    "emp_label=df[\"Village_HHD_Cluster_MSL\"].values\n",
    "actual_labels= [ int(c) for c in emp_label]\n",
    "s1 = pd.Series(actual_labels,index=list(village_code))"
   ]
  },
  {
   "cell_type": "code",
   "execution_count": 24,
   "metadata": {},
   "outputs": [],
   "source": [
    "def inset(x,s1):\n",
    "    try:\n",
    "        label = s1[int(x)]\n",
    "        return label\n",
    "    except KeyError:\n",
    "        return 90"
   ]
  },
  {
   "cell_type": "code",
   "execution_count": 25,
   "metadata": {},
   "outputs": [],
   "source": [
    "labels = [inset(x,s1) for x in states]\n",
    "y_train = np.array([x for x in labels if x!=90])\n",
    "class_weights = class_weight.compute_class_weight('balanced', np.unique(y_train), y_train)\n",
    "cw =dict(zip(np.unique(y_train),class_weights))"
   ]
  },
  {
   "cell_type": "code",
   "execution_count": 26,
   "metadata": {},
   "outputs": [
    {
     "name": "stdout",
     "output_type": "stream",
     "text": [
      "('Class weights Dict:  ', {1: 0.9087156038750638, 2: 1.5245729738679323, 3: 0.8041013549898849})\n",
      "('Class weights List:  ', array([0.9087156 , 1.52457297, 0.80410135]))\n",
      "('Instances Class wise:  ', (array([1, 2, 3]), array([60799, 36239, 68709])))\n"
     ]
    }
   ],
   "source": [
    "print('Class weights Dict:  ',cw)\n",
    "print('Class weights List:  ',class_weights)\n",
    "print('Instances Class wise:  ',np.unique(y_train, return_counts=True))"
   ]
  },
  {
   "cell_type": "code",
   "execution_count": null,
   "metadata": {},
   "outputs": [],
   "source": []
  },
  {
   "cell_type": "markdown",
   "metadata": {},
   "source": [
    "## **MSW**"
   ]
  },
  {
   "cell_type": "code",
   "execution_count": 27,
   "metadata": {},
   "outputs": [],
   "source": [
    "df=pd.read_csv('/home/ictd/Desktop/Arpit/Satellite project/Village Label Files/Labels/VillageLabels_MSW.csv')\n",
    "village_code=df[\"Town/Village\"].values\n",
    "emp_label=df[\"Village_HHD_Cluster_MSW\"].values\n",
    "actual_labels= [ int(c) for c in emp_label]\n",
    "s1 = pd.Series(actual_labels,index=list(village_code))"
   ]
  },
  {
   "cell_type": "code",
   "execution_count": 28,
   "metadata": {},
   "outputs": [],
   "source": [
    "def inset(x,s1):\n",
    "    try:\n",
    "        label = s1[int(x)]\n",
    "        return label\n",
    "    except KeyError:\n",
    "        return 90"
   ]
  },
  {
   "cell_type": "code",
   "execution_count": 29,
   "metadata": {},
   "outputs": [],
   "source": [
    "labels = [inset(x,s1) for x in states]\n",
    "y_train = np.array([x for x in labels if x!=90])\n",
    "class_weights = class_weight.compute_class_weight('balanced', np.unique(y_train), y_train)\n",
    "cw =dict(zip(np.unique(y_train),class_weights))"
   ]
  },
  {
   "cell_type": "code",
   "execution_count": 30,
   "metadata": {},
   "outputs": [
    {
     "name": "stdout",
     "output_type": "stream",
     "text": [
      "('Class weights Dict:  ', {1: 1.6051889944507394, 2: 0.632646284209321, 3: 1.2557161689167688})\n",
      "('Class weights List:  ', array([1.60518899, 0.63264628, 1.25571617]))\n",
      "('Instances Class wise:  ', (array([1, 2, 3]), array([34419, 87330, 43998])))\n"
     ]
    }
   ],
   "source": [
    "print('Class weights Dict:  ',cw)\n",
    "print('Class weights List:  ',class_weights)\n",
    "print('Instances Class wise:  ',np.unique(y_train, return_counts=True))"
   ]
  },
  {
   "cell_type": "code",
   "execution_count": null,
   "metadata": {},
   "outputs": [],
   "source": []
  },
  {
   "cell_type": "code",
   "execution_count": 31,
   "metadata": {},
   "outputs": [],
   "source": [
    "bf_weights = {1: 0.40896103511576953, 2: 3.940446473147422, 3: 3.3222489476849066}\n",
    "chh_weights = {1: 1.0130491650979145, 2: 0.733445730671198, 3: 0.7443816692415478, 4: 3.267367134521369}\n",
    "emp_weights = {1: 0.7277169689545712, 2: 0.7373907240573907, 3: 3.707737735722435}\n",
    "fc_weights = {1: 0.4834317714485716, 2: 1.2898097350297655, 3: 6.404196128433986}\n",
    "msl_weights = {1: 0.9087156038750638, 2: 1.5245729738679323, 3: 0.8041013549898849}\n",
    "msw_weights = {1: 1.6051889944507394, 2: 0.632646284209321, 3: 1.2557161689167688}"
   ]
  },
  {
   "cell_type": "code",
   "execution_count": null,
   "metadata": {},
   "outputs": [],
   "source": []
  }
 ],
 "metadata": {
  "kernelspec": {
   "display_name": "Python 3",
   "language": "python",
   "name": "python3"
  },
  "language_info": {
   "codemirror_mode": {
    "name": "ipython",
    "version": 3
   },
   "file_extension": ".py",
   "mimetype": "text/x-python",
   "name": "python",
   "nbconvert_exporter": "python",
   "pygments_lexer": "ipython3",
   "version": "3.6.6"
  }
 },
 "nbformat": 4,
 "nbformat_minor": 2
}
