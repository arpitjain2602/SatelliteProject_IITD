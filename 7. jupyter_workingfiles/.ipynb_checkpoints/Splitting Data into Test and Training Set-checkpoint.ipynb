{
 "cells": [
  {
   "cell_type": "code",
   "execution_count": 1,
   "metadata": {},
   "outputs": [],
   "source": [
    "import os\n",
    "import glob\n",
    "import pandas as pd\n",
    "import numpy as np\n",
    "from shutil import copyfile\n",
    "from shutil import move"
   ]
  },
  {
   "cell_type": "code",
   "execution_count": null,
   "metadata": {},
   "outputs": [],
   "source": [
    "copyfile()\n",
    "move()"
   ]
  },
  {
   "cell_type": "code",
   "execution_count": 2,
   "metadata": {},
   "outputs": [],
   "source": [
    "image_pathOrissa=\"/home/ictd/Desktop/Arpit/Satellite project/tifSentinel/croppedImagesOdisha\"\n",
    "image_pathMaha=\"/home/ictd/Desktop/Arpit/Satellite project/tifSentinel/croppedImagesMaha\"\n",
    "image_pathKer=\"/home/ictd/Desktop/Arpit/Satellite project/tifSentinel/croppedImagesKerela\"\n",
    "image_pathKar=\"/home/ictd/Desktop/Arpit/Satellite project/tifSentinel/croppedImagesKarnataka\"\n",
    "image_pathGuj=\"/home/ictd/Desktop/Arpit/Satellite project/tifSentinel/croppedImagesGujrat\"\n",
    "image_pathBihar=\"/home/ictd/Desktop/Arpit/Satellite project/tifSentinel/croppedImagesBihar\"\n",
    "dirs1=os.listdir(image_pathOrissa)\n",
    "dirs2=os.listdir(image_pathMaha)\n",
    "dirs3=os.listdir(image_pathKer)\n",
    "dirs4=os.listdir(image_pathKar)\n",
    "dirs5=os.listdir(image_pathGuj)\n",
    "dirs6=os.listdir(image_pathBihar)\n",
    "files1=[]\n",
    "files2=[]\n",
    "files3=[]\n",
    "files4=[]\n",
    "files5=[]\n",
    "files6=[]\n",
    "for direc1 in dirs1:\n",
    "       file1=glob.glob(os.path.join(image_pathOrissa,direc1))\n",
    "       files1.extend(file1)\n",
    "for direc2 in dirs2:\n",
    "       file2=glob.glob(os.path.join(image_pathMaha,direc2))\n",
    "       files2.extend(file2)\n",
    "for direc3 in dirs3:\n",
    "       file3=glob.glob(os.path.join(image_pathKer,direc3))\n",
    "       files3.extend(file3)\n",
    "for direc4 in dirs4:\n",
    "       file4=glob.glob(os.path.join(image_pathKar,direc4))\n",
    "       files4.extend(file4)\n",
    "for direc5 in dirs5:\n",
    "       file5=glob.glob(os.path.join(image_pathGuj,direc5))\n",
    "       files5.extend(file5)\n",
    "for direc6 in dirs6:\n",
    "       file6=glob.glob(os.path.join(image_pathBihar,direc6))\n",
    "       files6.extend(file6)\n",
    "files=[]\n",
    "files=files1+files2+files3+files4+files5+files6"
   ]
  },
  {
   "cell_type": "code",
   "execution_count": 11,
   "metadata": {},
   "outputs": [
    {
     "name": "stdout",
     "output_type": "stream",
     "text": [
      "185746\n",
      "388216\n"
     ]
    }
   ],
   "source": [
    "print(len(files))\n",
    "print(files[0].split('@')[3].split('.')[0])"
   ]
  },
  {
   "cell_type": "code",
   "execution_count": 17,
   "metadata": {},
   "outputs": [],
   "source": [
    "files_code = map(lambda x: x.split('@')[3].split('.')[0] , files)"
   ]
  },
  {
   "cell_type": "markdown",
   "metadata": {},
   "source": [
    "## **BF**"
   ]
  },
  {
   "cell_type": "code",
   "execution_count": 21,
   "metadata": {},
   "outputs": [],
   "source": [
    "df=pd.read_csv('/home/ictd/Desktop/Arpit/Satellite project/Vill.csv')\n",
    "village_code=df[\"Town/Village\"].values\n",
    "emp_label=df[\"Village_HHD_Cluster_BF\"].values\n",
    "actual_labels= [ int(c) for c in emp_label]\n",
    "s1 = pd.Series(actual_labels,index=list(village_code))"
   ]
  },
  {
   "cell_type": "code",
   "execution_count": 64,
   "metadata": {},
   "outputs": [],
   "source": [
    "s2 = s1.groupby(s1.index).first()"
   ]
  },
  {
   "cell_type": "code",
   "execution_count": 29,
   "metadata": {},
   "outputs": [],
   "source": [
    "wotif = map(lambda x: x.split('.tif')[0], files)"
   ]
  },
  {
   "cell_type": "code",
   "execution_count": 34,
   "metadata": {},
   "outputs": [],
   "source": [
    "list_dict = []\n",
    "for e in wotif:\n",
    "    (a,b) = e[:-6], e[-6:]\n",
    "    list_dict.append((a,b))\n",
    "    "
   ]
  },
  {
   "cell_type": "code",
   "execution_count": 94,
   "metadata": {},
   "outputs": [],
   "source": [
    "new_file_paths = []\n",
    "for a,b in list_dict:\n",
    "    try:\n",
    "        label = s2[int(b)]\n",
    "        x = a + b + '@label_' + str(label) #+ '.tif'\n",
    "        new_file_paths.append(x)\n",
    "    except KeyError:\n",
    "        x = a + b + '@label_' + 'NULL' #+ '.tif'\n",
    "        new_file_paths.append(x)        "
   ]
  },
  {
   "cell_type": "code",
   "execution_count": 80,
   "metadata": {},
   "outputs": [],
   "source": [
    "ll = map(lambda x: x.split('@label_')[1], new_file_paths)"
   ]
  },
  {
   "cell_type": "code",
   "execution_count": 83,
   "metadata": {},
   "outputs": [],
   "source": [
    "anp = np.array(ll)"
   ]
  },
  {
   "cell_type": "code",
   "execution_count": 86,
   "metadata": {},
   "outputs": [
    {
     "data": {
      "text/plain": [
       "(array(['1', '2', '3', 'NULL'], dtype='|S4'),\n",
       " array([140136,  14760,  17415,  13435]))"
      ]
     },
     "execution_count": 86,
     "metadata": {},
     "output_type": "execute_result"
    }
   ],
   "source": [
    "np.unique(anp,return_counts=True)"
   ]
  },
  {
   "cell_type": "code",
   "execution_count": 87,
   "metadata": {},
   "outputs": [
    {
     "data": {
      "text/plain": [
       "185746"
      ]
     },
     "execution_count": 87,
     "metadata": {},
     "output_type": "execute_result"
    }
   ],
   "source": [
    "140136+14760+  17415+ 13435"
   ]
  },
  {
   "cell_type": "code",
   "execution_count": 97,
   "metadata": {},
   "outputs": [
    {
     "data": {
      "text/plain": [
       "'2'"
      ]
     },
     "execution_count": 97,
     "metadata": {},
     "output_type": "execute_result"
    }
   ],
   "source": [
    "new_file_paths[0].split('@label_')[1]"
   ]
  },
  {
   "cell_type": "code",
   "execution_count": 96,
   "metadata": {},
   "outputs": [],
   "source": []
  },
  {
   "cell_type": "code",
   "execution_count": 120,
   "metadata": {},
   "outputs": [],
   "source": [
    "bf_1 = []\n",
    "bf_2 = []\n",
    "bf_3 = []\n",
    "bf_null = []\n",
    "for e in new_file_paths:\n",
    "    if(str(e.split('@label_')[1]) == '1'):\n",
    "        bf_1.append(e)\n",
    "    elif(str(e.split('@label_')[1]) == '2'):\n",
    "        bf_2.append(e)\n",
    "    elif(str(e.split('@label_')[1]) == '3'):\n",
    "        bf_3.append(e)\n",
    "    else:\n",
    "        bf_null.append(e)"
   ]
  },
  {
   "cell_type": "code",
   "execution_count": 112,
   "metadata": {},
   "outputs": [],
   "source": [
    "#Check\n",
    "labelsss = map(lambda x:x.split('@label_')[1], bf_null)"
   ]
  },
  {
   "cell_type": "code",
   "execution_count": 113,
   "metadata": {},
   "outputs": [
    {
     "data": {
      "text/plain": [
       "array(['NULL.tif'], dtype='|S8')"
      ]
     },
     "execution_count": 113,
     "metadata": {},
     "output_type": "execute_result"
    }
   ],
   "source": [
    "#Check\n",
    "pp = np.array(labelsss)\n",
    "np.unique(pp)"
   ]
  },
  {
   "cell_type": "code",
   "execution_count": 119,
   "metadata": {},
   "outputs": [
    {
     "data": {
      "text/plain": [
       "185746"
      ]
     },
     "execution_count": 119,
     "metadata": {},
     "output_type": "execute_result"
    }
   ],
   "source": [
    "#Check\n",
    "len(bf_null) + len(bf_1)+ len(bf_2)+ len(bf_3)"
   ]
  },
  {
   "cell_type": "code",
   "execution_count": 130,
   "metadata": {},
   "outputs": [
    {
     "data": {
      "text/plain": [
       "'/home/ictd/Desktop/Arpit/Satellite project/tifSentinel/croppedImagesOdisha/CIOD@3752300.0@OD-30160@417309'"
      ]
     },
     "execution_count": 130,
     "metadata": {},
     "output_type": "execute_result"
    }
   ],
   "source": [
    "bf_1[0].split('@label_')[0]"
   ]
  },
  {
   "cell_type": "code",
   "execution_count": 165,
   "metadata": {},
   "outputs": [],
   "source": [
    "bf_1_tif = map(lambda x:x.split('@label_')[0]+'.tif', bf_1)\n",
    "bf_2_tif = map(lambda x:x.split('@label_')[0]+'.tif', bf_2)\n",
    "bf_3_tif = map(lambda x:x.split('@label_')[0]+'.tif', bf_3)\n",
    "bf_null_tif = map(lambda x:x.split('@label_')[0]+'.tif', bf_null)\n",
    "direc_1 = '/home/ictd/Desktop/Arpit/Satellite project/data/bf/1'\n",
    "direc_2 = '/home/ictd/Desktop/Arpit/Satellite project/data/bf/2'\n",
    "direc_3 = '/home/ictd/Desktop/Arpit/Satellite project/data/bf/3'\n",
    "direc_null = '/home/ictd/Desktop/Arpit/Satellite project/data/bf/null'"
   ]
  },
  {
   "cell_type": "code",
   "execution_count": 160,
   "metadata": {},
   "outputs": [],
   "source": [
    "bf_1_path = []\n",
    "for e in bf_1_tif:\n",
    "    a,b = os.path.split(e)\n",
    "    x = os.path.join(direc_1,b)\n",
    "    bf_1_path.append(x)\n",
    "for i in range(len(bf_1_tif)):\n",
    "    print(i)\n",
    "    copyfile(bf_1_tif[i], bf_1_path[i])"
   ]
  },
  {
   "cell_type": "code",
   "execution_count": 166,
   "metadata": {},
   "outputs": [],
   "source": [
    "bf_3_path = []\n",
    "for e in bf_3_tif:\n",
    "    a,b = os.path.split(e)\n",
    "    x = os.path.join(direc_3,b)\n",
    "    bf_3_path.append(x)"
   ]
  },
  {
   "cell_type": "code",
   "execution_count": null,
   "metadata": {},
   "outputs": [],
   "source": [
    "for i in range(len(bf_3_tif)):\n",
    "    print(i)\n",
    "    copyfile(bf_3_tif[i], bf_3_path[i])"
   ]
  },
  {
   "cell_type": "code",
   "execution_count": null,
   "metadata": {},
   "outputs": [],
   "source": [
    "bf_2_path = []\n",
    "for e in bf_2_tif:\n",
    "    a,b = os.path.split(e)\n",
    "    x = os.path.join(direc_2,b)\n",
    "    bf_2_path.append(x)\n",
    "for i in range(len(bf_2_tif)):\n",
    "    print(i)\n",
    "    copyfile(bf_2_tif[i], bf_2_path[i])"
   ]
  },
  {
   "cell_type": "code",
   "execution_count": null,
   "metadata": {},
   "outputs": [],
   "source": [
    "bf_null_path = []\n",
    "for e in bf_null_tif:\n",
    "    a,b = os.path.split(e)\n",
    "    x = os.path.join(direc_null,b)\n",
    "    bf_null_path.append(x)\n",
    "for i in range(len(bf_null_tif)):\n",
    "    print(i)\n",
    "    copyfile(bf_null_tif[i], bf_null_path[i])"
   ]
  },
  {
   "cell_type": "code",
   "execution_count": null,
   "metadata": {},
   "outputs": [],
   "source": []
  },
  {
   "cell_type": "code",
   "execution_count": null,
   "metadata": {},
   "outputs": [],
   "source": []
  },
  {
   "cell_type": "code",
   "execution_count": null,
   "metadata": {},
   "outputs": [],
   "source": []
  },
  {
   "cell_type": "code",
   "execution_count": null,
   "metadata": {},
   "outputs": [],
   "source": []
  },
  {
   "cell_type": "markdown",
   "metadata": {},
   "source": [
    "## **EMP**"
   ]
  },
  {
   "cell_type": "code",
   "execution_count": null,
   "metadata": {},
   "outputs": [],
   "source": [
    "df=pd.read_csv('/home/ictd/Desktop/Arpit/Satellite project/Vill.csv')\n",
    "village_code=df[\"Town/Village\"].values\n",
    "#label to be taken\n",
    "emp_label=df[\"Village_HHD_Cluster_EMP\"].values\n",
    "actual_labels= [ int(c) for c in emp_label]\n",
    "s1 = pd.Series(actual_labels,index=list(village_code))\n",
    "s2 = s1.groupby(s1.index).first()\n",
    "\n",
    "wotif = map(lambda x: x.split('.tif')[0], files)\n",
    "\n",
    "list_dict = []\n",
    "for e in wotif:\n",
    "    (a,b) = e[:-6], e[-6:]\n",
    "    list_dict.append((a,b))\n",
    "\n",
    "#Adding labels to file paths name\n",
    "new_file_paths = []\n",
    "for a,b in list_dict:\n",
    "    try:\n",
    "        label = s2[int(b)]\n",
    "        x = a + b + '@label_' + str(label) #+ '.tif'\n",
    "        new_file_paths.append(x)\n",
    "    except KeyError:\n",
    "        x = a + b + '@label_' + 'NULL' #+ '.tif'\n",
    "        new_file_paths.append(x)\n",
    "\n",
    "#Splitting the file after added the labels to each file name\n",
    "emp_1 = []\n",
    "emp_2 = []\n",
    "emp_3 = []\n",
    "emp_null = []\n",
    "for e in new_file_paths:\n",
    "    if(str(e.split('@label_')[1]) == '1'):\n",
    "        emp_1.append(e)\n",
    "    elif(str(e.split('@label_')[1]) == '2'):\n",
    "        emp_2.append(e)\n",
    "    elif(str(e.split('@label_')[1]) == '3'):\n",
    "        emp_3.append(e)\n",
    "    else:\n",
    "        emp_null.append(e)\n",
    "print('Total Files', len(emp_null) + len(emp_1)+ len(emp_2)+ len(emp_3))\n",
    "emp_1_tif = map(lambda x:x.split('@label_')[0]+'.tif', emp_1)\n",
    "emp_2_tif = map(lambda x:x.split('@label_')[0]+'.tif', emp_2)\n",
    "emp_3_tif = map(lambda x:x.split('@label_')[0]+'.tif', emp_3)\n",
    "emp_null_tif = map(lambda x:x.split('@label_')[0]+'.tif', emp_null)\n",
    "\n",
    "#Defining the path to which we have to write\n",
    "direc_1 = '/home/ictd/Desktop/Arpit/Satellite project/data/emp/1'\n",
    "direc_2 = '/home/ictd/Desktop/Arpit/Satellite project/data/emp/2'\n",
    "direc_3 = '/home/ictd/Desktop/Arpit/Satellite project/data/emp/3'\n",
    "direc_null = '/home/ictd/Desktop/Arpit/Satellite project/data/emp/null'\n",
    "\n",
    "print('#####################################################################################')\n",
    "print('starting for 1')\n",
    "#Writing for Label 1\n",
    "emp_1_path = []\n",
    "for e in emp_1_tif:\n",
    "    a,b = os.path.split(e)\n",
    "    x = os.path.join(direc_1,b)\n",
    "    emp_1_path.append(x)\n",
    "for i in range(len(emp_1_tif)):\n",
    "    print(i)\n",
    "    copyfile(emp_1_tif[i], emp_1_path[i])\n",
    "\n",
    "print('#####################################################################################')\n",
    "print('starting for 3')\n",
    "#Writing for Label 3\n",
    "emp_3_path = []\n",
    "for e in emp_3_tif:\n",
    "    a,b = os.path.split(e)\n",
    "    x = os.path.join(direc_3,b)\n",
    "    emp_3_path.append(x)\n",
    "for i in range(len(emp_3_tif)):\n",
    "    print(i)\n",
    "    copyfile(emp_3_tif[i], emp_3_path[i])\n",
    "\n",
    "print('#####################################################################################')\n",
    "print('starting for 2')\n",
    "#Writing for label 2\n",
    "emp_2_path = []\n",
    "for e in emp_2_tif:\n",
    "    a,b = os.path.split(e)\n",
    "    x = os.path.join(direc_2,b)\n",
    "    emp_2_path.append(x)\n",
    "for i in range(len(emp_2_tif)):\n",
    "    print(i)\n",
    "    copyfile(emp_2_tif[i], emp_2_path[i])\n",
    "\n",
    "    \n",
    "print('#####################################################################################')\n",
    "print('starting for null')\n",
    "#Writing for label null\n",
    "emp_null_path = []\n",
    "for e in emp_null_tif:\n",
    "    a,b = os.path.split(e)\n",
    "    x = os.path.join(direc_null,b)\n",
    "    emp_null_path.append(x)\n",
    "for i in range(len(emp_null_tif)):\n",
    "    print(i)\n",
    "    copyfile(emp_null_tif[i], emp_null_path[i])"
   ]
  },
  {
   "cell_type": "code",
   "execution_count": null,
   "metadata": {},
   "outputs": [],
   "source": []
  },
  {
   "cell_type": "code",
   "execution_count": null,
   "metadata": {},
   "outputs": [],
   "source": []
  },
  {
   "cell_type": "markdown",
   "metadata": {},
   "source": [
    "## **MSL**"
   ]
  },
  {
   "cell_type": "code",
   "execution_count": null,
   "metadata": {},
   "outputs": [],
   "source": [
    "df=pd.read_csv('/home/ictd/Desktop/Arpit/Satellite project/Vill.csv')\n",
    "village_code=df[\"Town/Village\"].values\n",
    "#label to be taken\n",
    "msl_label=df[\"Village_HHD_Cluster_MSL\"].values\n",
    "actual_labels= [ int(c) for c in msl_label]\n",
    "s1 = pd.Series(actual_labels,index=list(village_code))\n",
    "s2 = s1.groupby(s1.index).first()\n",
    "\n",
    "wotif = map(lambda x: x.split('.tif')[0], files)\n",
    "\n",
    "list_dict = []\n",
    "for e in wotif:\n",
    "    (a,b) = e[:-6], e[-6:]\n",
    "    list_dict.append((a,b))\n",
    "\n",
    "#Adding labels to file paths name\n",
    "new_file_paths = []\n",
    "for a,b in list_dict:\n",
    "    try:\n",
    "        label = s2[int(b)]\n",
    "        x = a + b + '@label_' + str(label) #+ '.tif'\n",
    "        new_file_paths.append(x)\n",
    "    except KeyError:\n",
    "        x = a + b + '@label_' + 'NULL' #+ '.tif'\n",
    "        new_file_paths.append(x)\n",
    "\n",
    "#Splitting the file after added the labels to each file name\n",
    "msl_1 = []\n",
    "msl_2 = []\n",
    "msl_3 = []\n",
    "msl_null = []\n",
    "for e in new_file_paths:\n",
    "    if(str(e.split('@label_')[1]) == '1'):\n",
    "        msl_1.append(e)\n",
    "    elif(str(e.split('@label_')[1]) == '2'):\n",
    "        msl_2.append(e)\n",
    "    elif(str(e.split('@label_')[1]) == '3'):\n",
    "        msl_3.append(e)\n",
    "    else:\n",
    "        msl_null.append(e)\n",
    "print('Total Files', len(msl_null) + len(msl_1)+ len(msl_2)+ len(msl_3))\n",
    "msl_1_tif = map(lambda x:x.split('@label_')[0]+'.tif', msl_1)\n",
    "msl_2_tif = map(lambda x:x.split('@label_')[0]+'.tif', msl_2)\n",
    "msl_3_tif = map(lambda x:x.split('@label_')[0]+'.tif', msl_3)\n",
    "msl_null_tif = map(lambda x:x.split('@label_')[0]+'.tif', msl_null)\n",
    "\n",
    "#Defining the path to which we have to write\n",
    "direc_1 = '/home/ictd/Desktop/Arpit/Satellite project/data/msl/1'\n",
    "direc_2 = '/home/ictd/Desktop/Arpit/Satellite project/data/msl/2'\n",
    "direc_3 = '/home/ictd/Desktop/Arpit/Satellite project/data/msl/3'\n",
    "direc_null = '/home/ictd/Desktop/Arpit/Satellite project/data/msl/null'\n",
    "\n",
    "print('#####################################################################################')\n",
    "print('starting for 1')\n",
    "#Writing for Label 1\n",
    "msl_1_path = []\n",
    "for e in msl_1_tif:\n",
    "    a,b = os.path.split(e)\n",
    "    x = os.path.join(direc_1,b)\n",
    "    msl_1_path.append(x)\n",
    "for i in range(len(msl_1_tif)):\n",
    "    print(i)\n",
    "    copyfile(msl_1_tif[i], msl_1_path[i])\n",
    "\n",
    "print('#####################################################################################')\n",
    "print('starting for 3')\n",
    "#Writing for Label 3\n",
    "msl_3_path = []\n",
    "for e in msl_3_tif:\n",
    "    a,b = os.path.split(e)\n",
    "    x = os.path.join(direc_3,b)\n",
    "    msl_3_path.append(x)\n",
    "for i in range(len(msl_3_tif)):\n",
    "    print(i)\n",
    "    copyfile(msl_3_tif[i], msl_3_path[i])\n",
    "\n",
    "print('#####################################################################################')\n",
    "print('starting for 2')\n",
    "#Writing for label 2\n",
    "msl_2_path = []\n",
    "for e in msl_2_tif:\n",
    "    a,b = os.path.split(e)\n",
    "    x = os.path.join(direc_2,b)\n",
    "    msl_2_path.append(x)\n",
    "for i in range(len(msl_2_tif)):\n",
    "    print(i)\n",
    "    copyfile(msl_2_tif[i], msl_2_path[i])\n",
    "\n",
    "print('#####################################################################################')\n",
    "print('starting for null')\n",
    "#Writing for label null\n",
    "msl_null_path = []\n",
    "for e in msl_null_tif:\n",
    "    a,b = os.path.split(e)\n",
    "    x = os.path.join(direc_null,b)\n",
    "    msl_null_path.append(x)\n",
    "for i in range(len(msl_null_tif)):\n",
    "    print(i)\n",
    "    copyfile(msl_null_tif[i], msl_null_path[i])"
   ]
  },
  {
   "cell_type": "markdown",
   "metadata": {},
   "source": [
    "## **MSW**"
   ]
  },
  {
   "cell_type": "code",
   "execution_count": null,
   "metadata": {},
   "outputs": [],
   "source": [
    "df=pd.read_csv('/home/ictd/Desktop/Arpit/Satellite project/Vill.csv')\n",
    "village_code=df[\"Town/Village\"].values\n",
    "#label to be taken\n",
    "msw_label=df[\"Village_HHD_Cluster_MSW\"].values\n",
    "actual_labels= [ int(c) for c in msw_label]\n",
    "s1 = pd.Series(actual_labels,index=list(village_code))\n",
    "s2 = s1.groupby(s1.index).first()\n",
    "\n",
    "wotif = map(lambda x: x.split('.tif')[0], files)\n",
    "\n",
    "list_dict = []\n",
    "for e in wotif:\n",
    "    (a,b) = e[:-6], e[-6:]\n",
    "    list_dict.append((a,b))\n",
    "\n",
    "#Adding labels to file paths name\n",
    "new_file_paths = []\n",
    "for a,b in list_dict:\n",
    "    try:\n",
    "        label = s2[int(b)]\n",
    "        x = a + b + '@label_' + str(label) #+ '.tif'\n",
    "        new_file_paths.append(x)\n",
    "    except KeyError:\n",
    "        x = a + b + '@label_' + 'NULL' #+ '.tif'\n",
    "        new_file_paths.append(x)\n",
    "\n",
    "#Splitting the file after added the labels to each file name\n",
    "msw_1 = []\n",
    "msw_2 = []\n",
    "msw_3 = []\n",
    "msw_null = []\n",
    "for e in new_file_paths:\n",
    "    if(str(e.split('@label_')[1]) == '1'):\n",
    "        msw_1.append(e)\n",
    "    elif(str(e.split('@label_')[1]) == '2'):\n",
    "        msw_2.append(e)\n",
    "    elif(str(e.split('@label_')[1]) == '3'):\n",
    "        msw_3.append(e)\n",
    "    else:\n",
    "        msw_null.append(e)\n",
    "print('Total Files', len(msw_null) + len(msw_1)+ len(msw_2)+ len(msw_3))\n",
    "msw_1_tif = map(lambda x:x.split('@label_')[0]+'.tif', msw_1)\n",
    "msw_2_tif = map(lambda x:x.split('@label_')[0]+'.tif', msw_2)\n",
    "msw_3_tif = map(lambda x:x.split('@label_')[0]+'.tif', msw_3)\n",
    "msw_null_tif = map(lambda x:x.split('@label_')[0]+'.tif', msw_null)\n",
    "\n",
    "#Defining the path to which we have to write\n",
    "direc_1 = '/home/ictd/Desktop/Arpit/Satellite project/data/msw/1'\n",
    "direc_2 = '/home/ictd/Desktop/Arpit/Satellite project/data/msw/2'\n",
    "direc_3 = '/home/ictd/Desktop/Arpit/Satellite project/data/msw/3'\n",
    "direc_null = '/home/ictd/Desktop/Arpit/Satellite project/data/msw/null'\n",
    "\n",
    "print('#####################################################################################')\n",
    "print('starting for 1')\n",
    "#Writing for Label 1\n",
    "msw_1_path = []\n",
    "for e in msw_1_tif:\n",
    "    a,b = os.path.split(e)\n",
    "    x = os.path.join(direc_1,b)\n",
    "    msw_1_path.append(x)\n",
    "for i in range(len(msw_1_tif)):\n",
    "    print(i)\n",
    "    copyfile(msw_1_tif[i], msw_1_path[i])\n",
    "\n",
    "print('#####################################################################################')\n",
    "print('starting for 3')\n",
    "#Writing for Label 3\n",
    "msw_3_path = []\n",
    "for e in msw_3_tif:\n",
    "    a,b = os.path.split(e)\n",
    "    x = os.path.join(direc_3,b)\n",
    "    msw_3_path.append(x)\n",
    "for i in range(len(msw_3_tif)):\n",
    "    print(i)\n",
    "    copyfile(msw_3_tif[i], msw_3_path[i])\n",
    "\n",
    "print('#####################################################################################')\n",
    "print('starting for 2')\n",
    "#Writing for label 2\n",
    "msw_2_path = []\n",
    "for e in msw_2_tif:\n",
    "    a,b = os.path.split(e)\n",
    "    x = os.path.join(direc_2,b)\n",
    "    msw_2_path.append(x)\n",
    "for i in range(len(msw_2_tif)):\n",
    "    print(i)\n",
    "    copyfile(msw_2_tif[i], msw_2_path[i])\n",
    "    \n",
    "print('#####################################################################################')\n",
    "print('starting for null')\n",
    "#Writing for label null\n",
    "msw_null_path = []\n",
    "for e in msw_null_tif:\n",
    "    a,b = os.path.split(e)\n",
    "    x = os.path.join(direc_null,b)\n",
    "    msw_null_path.append(x)\n",
    "for i in range(len(msw_null_tif)):\n",
    "    print(i)\n",
    "    copyfile(msw_null_tif[i], msw_null_path[i])"
   ]
  },
  {
   "cell_type": "markdown",
   "metadata": {},
   "source": [
    "## **FC**"
   ]
  },
  {
   "cell_type": "code",
   "execution_count": null,
   "metadata": {},
   "outputs": [],
   "source": [
    "df=pd.read_csv('/home/ictd/Desktop/Arpit/Satellite project/Vill.csv')\n",
    "village_code=df[\"Town/Village\"].values\n",
    "#label to be taken\n",
    "fc_label=df[\"Village_HHD_Cluster_FC\"].values\n",
    "actual_labels= [ int(c) for c in fc_label]\n",
    "s1 = pd.Series(actual_labels,index=list(village_code))\n",
    "s2 = s1.groupby(s1.index).first()\n",
    "\n",
    "wotif = map(lambda x: x.split('.tif')[0], files)\n",
    "\n",
    "list_dict = []\n",
    "for e in wotif:\n",
    "    (a,b) = e[:-6], e[-6:]\n",
    "    list_dict.append((a,b))\n",
    "\n",
    "#Adding labels to file paths name\n",
    "new_file_paths = []\n",
    "for a,b in list_dict:\n",
    "    try:\n",
    "        label = s2[int(b)]\n",
    "        x = a + b + '@label_' + str(label) #+ '.tif'\n",
    "        new_file_paths.append(x)\n",
    "    except KeyError:\n",
    "        x = a + b + '@label_' + 'NULL' #+ '.tif'\n",
    "        new_file_paths.append(x)\n",
    "\n",
    "#Splitting the file after added the labels to each file name\n",
    "fc_1 = []\n",
    "fc_2 = []\n",
    "fc_3 = []\n",
    "fc_null = []\n",
    "for e in new_file_paths:\n",
    "    if(str(e.split('@label_')[1]) == '1'):\n",
    "        fc_1.append(e)\n",
    "    elif(str(e.split('@label_')[1]) == '2'):\n",
    "        fc_2.append(e)\n",
    "    elif(str(e.split('@label_')[1]) == '3'):\n",
    "        fc_3.append(e)\n",
    "    else:\n",
    "        fc_null.append(e)\n",
    "print('Total Files', len(fc_null) + len(fc_1)+ len(fc_2)+ len(fc_3))\n",
    "fc_1_tif = map(lambda x:x.split('@label_')[0]+'.tif', fc_1)\n",
    "fc_2_tif = map(lambda x:x.split('@label_')[0]+'.tif', fc_2)\n",
    "fc_3_tif = map(lambda x:x.split('@label_')[0]+'.tif', fc_3)\n",
    "fc_null_tif = map(lambda x:x.split('@label_')[0]+'.tif', fc_null)\n",
    "\n",
    "#Defining the path to which we have to write\n",
    "direc_1 = '/home/ictd/Desktop/Arpit/Satellite project/data/fc/1'\n",
    "direc_2 = '/home/ictd/Desktop/Arpit/Satellite project/data/fc/2'\n",
    "direc_3 = '/home/ictd/Desktop/Arpit/Satellite project/data/fc/3'\n",
    "direc_null = '/home/ictd/Desktop/Arpit/Satellite project/data/fc/null'\n",
    "\n",
    "print('#####################################################################################')\n",
    "print('starting for 1')\n",
    "#Writing for Label 1\n",
    "fc_1_path = []\n",
    "for e in fc_1_tif:\n",
    "    a,b = os.path.split(e)\n",
    "    x = os.path.join(direc_1,b)\n",
    "    fc_1_path.append(x)\n",
    "for i in range(len(fc_1_tif)):\n",
    "    print(i)\n",
    "    copyfile(fc_1_tif[i], fc_1_path[i])\n",
    "\n",
    "print('#####################################################################################')\n",
    "print('starting for 3')\n",
    "#Writing for Label 3\n",
    "fc_3_path = []\n",
    "for e in fc_3_tif:\n",
    "    a,b = os.path.split(e)\n",
    "    x = os.path.join(direc_3,b)\n",
    "    fc_3_path.append(x)\n",
    "for i in range(len(fc_3_tif)):\n",
    "    print(i)\n",
    "    copyfile(fc_3_tif[i], fc_3_path[i])\n",
    "\n",
    "print('#####################################################################################')\n",
    "print('starting for 2')\n",
    "#Writing for label 2\n",
    "fc_2_path = []\n",
    "for e in fc_2_tif:\n",
    "    a,b = os.path.split(e)\n",
    "    x = os.path.join(direc_2,b)\n",
    "    fc_2_path.append(x)\n",
    "for i in range(len(fc_2_tif)):\n",
    "    print(i)\n",
    "    copyfile(fc_2_tif[i], fc_2_path[i])\n",
    "    \n",
    "print('#####################################################################################')\n",
    "print('starting for null')\n",
    "#Writing for label null\n",
    "fc_null_path = []\n",
    "for e in fc_null_tif:\n",
    "    a,b = os.path.split(e)\n",
    "    x = os.path.join(direc_null,b)\n",
    "    fc_null_path.append(x)\n",
    "for i in range(len(fc_null_tif)):\n",
    "    print(i)\n",
    "    copyfile(fc_null_tif[i], fc_null_path[i])"
   ]
  },
  {
   "cell_type": "markdown",
   "metadata": {},
   "source": [
    "## **BF**"
   ]
  },
  {
   "cell_type": "code",
   "execution_count": null,
   "metadata": {},
   "outputs": [],
   "source": [
    "df=pd.read_csv('/home/ictd/Desktop/Arpit/Satellite project/Vill.csv')\n",
    "village_code=df[\"Town/Village\"].values\n",
    "#label to be taken\n",
    "bf_label=df[\"Village_HHD_Cluster_BF\"].values\n",
    "actual_labels= [ int(c) for c in bf_label]\n",
    "s1 = pd.Series(actual_labels,index=list(village_code))\n",
    "s2 = s1.groupby(s1.index).first()\n",
    "\n",
    "wotif = map(lambda x: x.split('.tif')[0], files)\n",
    "\n",
    "list_dict = []\n",
    "for e in wotif:\n",
    "    (a,b) = e[:-6], e[-6:]\n",
    "    list_dict.append((a,b))\n",
    "\n",
    "#Adding labels to file paths name\n",
    "new_file_paths = []\n",
    "for a,b in list_dict:\n",
    "    try:\n",
    "        label = s2[int(b)]\n",
    "        x = a + b + '@label_' + str(label) #+ '.tif'\n",
    "        new_file_paths.append(x)\n",
    "    except KeyError:\n",
    "        x = a + b + '@label_' + 'NULL' #+ '.tif'\n",
    "        new_file_paths.append(x)\n",
    "\n",
    "#Splitting the file after added the labels to each file name\n",
    "bf_1 = []\n",
    "bf_2 = []\n",
    "bf_3 = []\n",
    "bf_null = []\n",
    "for e in new_file_paths:\n",
    "    if(str(e.split('@label_')[1]) == '1'):\n",
    "        bf_1.append(e)\n",
    "    elif(str(e.split('@label_')[1]) == '2'):\n",
    "        bf_2.append(e)\n",
    "    elif(str(e.split('@label_')[1]) == '3'):\n",
    "        bf_3.append(e)\n",
    "    else:\n",
    "        bf_null.append(e)\n",
    "print('Total Files', len(bf_null) + len(bf_1)+ len(bf_2)+ len(bf_3))\n",
    "bf_1_tif = map(lambda x:x.split('@label_')[0]+'.tif', bf_1)\n",
    "bf_2_tif = map(lambda x:x.split('@label_')[0]+'.tif', bf_2)\n",
    "bf_3_tif = map(lambda x:x.split('@label_')[0]+'.tif', bf_3)\n",
    "bf_null_tif = map(lambda x:x.split('@label_')[0]+'.tif', bf_null)\n",
    "\n",
    "#Defining the path to which we have to write\n",
    "direc_1 = '/home/ictd/Desktop/Arpit/Satellite project/data/bf/1'\n",
    "direc_2 = '/home/ictd/Desktop/Arpit/Satellite project/data/bf/2'\n",
    "direc_3 = '/home/ictd/Desktop/Arpit/Satellite project/data/bf/3'\n",
    "direc_null = '/home/ictd/Desktop/Arpit/Satellite project/data/bf/null'\n",
    "\n",
    "print('#####################################################################################')\n",
    "print('starting for 1')\n",
    "#Writing for Label 1\n",
    "bf_1_path = []\n",
    "for e in bf_1_tif:\n",
    "    a,b = os.path.split(e)\n",
    "    x = os.path.join(direc_1,b)\n",
    "    bf_1_path.append(x)\n",
    "for i in range(len(bf_1_tif)):\n",
    "    print(i)\n",
    "    copyfile(bf_1_tif[i], bf_1_path[i])\n",
    "\n",
    "print('#####################################################################################')\n",
    "print('starting for 3')\n",
    "#Writing for Label 3\n",
    "bf_3_path = []\n",
    "for e in bf_3_tif:\n",
    "    a,b = os.path.split(e)\n",
    "    x = os.path.join(direc_3,b)\n",
    "    bf_3_path.append(x)\n",
    "for i in range(len(bf_3_tif)):\n",
    "    print(i)\n",
    "    copyfile(bf_3_tif[i], bf_3_path[i])\n",
    "\n",
    "print('#####################################################################################')\n",
    "print('starting for 2')\n",
    "#Writing for label 2\n",
    "bf_2_path = []\n",
    "for e in bf_2_tif:\n",
    "    a,b = os.path.split(e)\n",
    "    x = os.path.join(direc_2,b)\n",
    "    bf_2_path.append(x)\n",
    "for i in range(len(bf_2_tif)):\n",
    "    print(i)\n",
    "    copyfile(bf_2_tif[i], bf_2_path[i])\n",
    "    \n",
    "print('#####################################################################################')\n",
    "print('starting for null')\n",
    "#Writing for label null\n",
    "bf_null_path = []\n",
    "for e in bf_null_tif:\n",
    "    a,b = os.path.split(e)\n",
    "    x = os.path.join(direc_null,b)\n",
    "    bf_null_path.append(x)\n",
    "for i in range(len(bf_null_tif)):\n",
    "    print(i)\n",
    "    copyfile(bf_null_tif[i], bf_null_path[i])"
   ]
  },
  {
   "cell_type": "markdown",
   "metadata": {},
   "source": [
    "## **CHH**"
   ]
  },
  {
   "cell_type": "code",
   "execution_count": null,
   "metadata": {},
   "outputs": [],
   "source": [
    "df=pd.read_csv('/home/ictd/Desktop/Arpit/Satellite project/Vill.csv')\n",
    "village_code=df[\"Town/Village\"].values\n",
    "#label to be taken\n",
    "chh_label=df[\"Village_HHD_Cluster_CHH\"].values\n",
    "actual_labels= [ int(c) for c in chh_label]\n",
    "s1 = pd.Series(actual_labels,index=list(village_code))\n",
    "s2 = s1.groupby(s1.index).first()\n",
    "\n",
    "wotif = map(lambda x: x.split('.tif')[0], files)\n",
    "\n",
    "list_dict = []\n",
    "for e in wotif:\n",
    "    (a,b) = e[:-6], e[-6:]\n",
    "    list_dict.append((a,b))\n",
    "\n",
    "#Adding labels to file paths name\n",
    "new_file_paths = []\n",
    "for a,b in list_dict:\n",
    "    try:\n",
    "        label = s2[int(b)]\n",
    "        x = a + b + '@label_' + str(label) #+ '.tif'\n",
    "        new_file_paths.append(x)\n",
    "    except KeyError:\n",
    "        x = a + b + '@label_' + 'NULL' #+ '.tif'\n",
    "        new_file_paths.append(x)\n",
    "\n",
    "#Splitting the file after added the labels to each file name\n",
    "chh_1 = []\n",
    "chh_2 = []\n",
    "chh_3 = []\n",
    "chh_4 = []\n",
    "chh_null = []\n",
    "for e in new_file_paths:\n",
    "    if(str(e.split('@label_')[1]) == '1'):\n",
    "        chh_1.append(e)\n",
    "    elif(str(e.split('@label_')[1]) == '2'):\n",
    "        chh_2.append(e)\n",
    "    elif(str(e.split('@label_')[1]) == '3'):\n",
    "        chh_3.append(e)\n",
    "    elif(str(e.split('@label_')[1]) == '4'):\n",
    "        chh_4.append(e)\n",
    "    else:\n",
    "        chh_null.append(e)\n",
    "print('Total Files', len(chh_null) + len(chh_1)+ len(chh_2)+ len(chh_3) + len(chh_4))\n",
    "chh_1_tif = map(lambda x:x.split('@label_')[0]+'.tif', chh_1)\n",
    "chh_2_tif = map(lambda x:x.split('@label_')[0]+'.tif', chh_2)\n",
    "chh_3_tif = map(lambda x:x.split('@label_')[0]+'.tif', chh_3)\n",
    "chh_4_tif = map(lambda x:x.split('@label_')[0]+'.tif', chh_4)\n",
    "chh_null_tif = map(lambda x:x.split('@label_')[0]+'.tif', chh_null)\n",
    "\n",
    "#Defining the path to which we have to write\n",
    "direc_1 = '/home/ictd/Desktop/Arpit/Satellite project/data/chh/1'\n",
    "direc_2 = '/home/ictd/Desktop/Arpit/Satellite project/data/chh/2'\n",
    "direc_3 = '/home/ictd/Desktop/Arpit/Satellite project/data/chh/3'\n",
    "direc_4= '/home/ictd/Desktop/Arpit/Satellite project/data/chh/4'\n",
    "direc_null = '/home/ictd/Desktop/Arpit/Satellite project/data/chh/null'\n",
    "\n",
    "print('#####################################################################################')\n",
    "print('starting for 1')\n",
    "#Writing for Label 1\n",
    "chh_1_path = []\n",
    "for e in chh_1_tif:\n",
    "    a,b = os.path.split(e)\n",
    "    x = os.path.join(direc_1,b)\n",
    "    chh_1_path.append(x)\n",
    "for i in range(len(chh_1_tif)):\n",
    "    print(i)\n",
    "    copyfile(chh_1_tif[i], chh_1_path[i])\n",
    "\n",
    "print('#####################################################################################')\n",
    "print('starting for 3')\n",
    "#Writing for Label 3\n",
    "chh_3_path = []\n",
    "for e in chh_3_tif:\n",
    "    a,b = os.path.split(e)\n",
    "    x = os.path.join(direc_3,b)\n",
    "    chh_3_path.append(x)\n",
    "for i in range(len(chh_3_tif)):\n",
    "    print(i)\n",
    "    copyfile(chh_3_tif[i], chh_3_path[i])\n",
    "\n",
    "print('#####################################################################################')\n",
    "print('starting for 2')\n",
    "#Writing for label 2\n",
    "chh_2_path = []\n",
    "for e in chh_2_tif:\n",
    "    a,b = os.path.split(e)\n",
    "    x = os.path.join(direc_2,b)\n",
    "    chh_2_path.append(x)\n",
    "for i in range(len(chh_2_tif)):\n",
    "    print(i)\n",
    "    copyfile(chh_2_tif[i], chh_2_path[i])\n",
    "    \n",
    "print('#####################################################################################')\n",
    "print('starting for null')\n",
    "#Writing for label null\n",
    "chh_null_path = []\n",
    "for e in chh_null_tif:\n",
    "    a,b = os.path.split(e)\n",
    "    x = os.path.join(direc_null,b)\n",
    "    chh_null_path.append(x)\n",
    "for i in range(len(chh_null_tif)):\n",
    "    print(i)\n",
    "    copyfile(chh_null_tif[i], chh_null_path[i])\n",
    "\n",
    "    \n",
    "print('#####################################################################################')\n",
    "print('starting for 4')\n",
    "#Writing for label 4\n",
    "chh_4_path = []\n",
    "for e in chh_4_tif:\n",
    "    a,b = os.path.split(e)\n",
    "    x = os.path.join(direc_4,b)\n",
    "    chh_4_path.append(x)\n",
    "for i in range(len(chh_4_tif)):\n",
    "    print(i)\n",
    "    copyfile(chh_4_tif[i], chh_4_path[i])"
   ]
  },
  {
   "cell_type": "markdown",
   "metadata": {},
   "source": [
    "## **Spliting into Training and Test Set**"
   ]
  },
  {
   "cell_type": "code",
   "execution_count": 282,
   "metadata": {},
   "outputs": [
    {
     "name": "stdout",
     "output_type": "stream",
     "text": [
      "('No. of Class 1 sample:', 35919)\n",
      "('No. of Class 2 sample:', 89787)\n",
      "('No. of Class 3 sample:', 46605)\n",
      "('Total Samples:', 172311)\n"
     ]
    }
   ],
   "source": [
    "path1 = '/home/ictd/Desktop/Arpit/Satellite project/data/msw/1'\n",
    "path2 = '/home/ictd/Desktop/Arpit/Satellite project/data/msw/2'\n",
    "path3 = '/home/ictd/Desktop/Arpit/Satellite project/data/msw/3'\n",
    "paths1 = os.listdir(path1)\n",
    "paths2 = os.listdir(path2)\n",
    "paths3 = os.listdir(path3)\n",
    "lp1 =[]\n",
    "for direc1 in paths1:\n",
    "    x=glob.glob(os.path.join(path1,direc1))\n",
    "    lp1.extend(x)\n",
    "lp2 =[]\n",
    "for direc1 in paths2:\n",
    "    x=glob.glob(os.path.join(path2,direc1))\n",
    "    lp2.extend(x)\n",
    "lp3 =[]\n",
    "for direc1 in paths3:\n",
    "    x=glob.glob(os.path.join(path3,direc1))\n",
    "    lp3.extend(x)\n",
    "print('No. of Class 1 sample:',len(lp1))\n",
    "print('No. of Class 2 sample:',len(lp2))\n",
    "print('No. of Class 3 sample:',len(lp3))\n",
    "print('Total Samples:', len(lp1) + len(lp2) + len(lp3))"
   ]
  },
  {
   "cell_type": "code",
   "execution_count": 283,
   "metadata": {},
   "outputs": [],
   "source": [
    "import random"
   ]
  },
  {
   "cell_type": "code",
   "execution_count": 284,
   "metadata": {},
   "outputs": [],
   "source": [
    "n1 = len(lp1)\n",
    "n2 = len(lp2)\n",
    "n3 = len(lp3)\n",
    "\n",
    "ir1 = np.arange(n1)\n",
    "ir1 = np.asarray(ir1,dtype=np.int32)\n",
    "random.shuffle(ir1)\n",
    "tl1 = int(0.8*n1)\n",
    "tf1 = ir1[:tl1]  #Trainging indexes\n",
    "test1 = ir1[tl1:]   #Test Indexes\n",
    "\n",
    "ir2 = np.arange(n2)\n",
    "ir2 = np.asarray(ir2,dtype=np.int32)\n",
    "random.shuffle(ir2)\n",
    "tl2 = int(0.8*n2)\n",
    "tf2 = ir2[:tl2]  #Training Indexes\n",
    "test2 = ir2[tl2:]    #Test Indexes\n",
    "\n",
    "ir3 = np.arange(n3)\n",
    "ir3 = np.asarray(ir3,dtype=np.int32)\n",
    "random.shuffle(ir3)\n",
    "tl3 = int(0.8*n3)\n",
    "tf3 = ir3[:tl3]     #Training Indexes\n",
    "test3 = ir3[tl3:]     #Test Indexes"
   ]
  },
  {
   "cell_type": "code",
   "execution_count": 285,
   "metadata": {},
   "outputs": [
    {
     "name": "stdout",
     "output_type": "stream",
     "text": [
      "For Class 1:\n",
      "('Training Files are:', 28735)\n",
      "('Testing Files are:', 7184)\n",
      "---------------------------------\n",
      "For Class 2:\n",
      "('Training Files are:', 71829)\n",
      "('Testing Files are:', 17958)\n",
      "---------------------------------\n",
      "For Class 3:\n",
      "('Training Files are:', 37284)\n",
      "('Testing Files are:', 9321)\n"
     ]
    }
   ],
   "source": [
    "print('For Class 1:')\n",
    "print('Training Files are:', len(tf1))\n",
    "print('Testing Files are:', len(test1))\n",
    "print('---------------------------------')\n",
    "print('For Class 2:')\n",
    "print('Training Files are:', len(tf2))\n",
    "print('Testing Files are:', len(test2))\n",
    "print('---------------------------------')\n",
    "print('For Class 3:')\n",
    "print('Training Files are:', len(tf3))\n",
    "print('Testing Files are:', len(test3))"
   ]
  },
  {
   "cell_type": "code",
   "execution_count": 286,
   "metadata": {},
   "outputs": [],
   "source": [
    "tfs1 = []\n",
    "for i in tf1:\n",
    "    x = lp1[i]\n",
    "    tfs1.append(x)\n",
    "\n",
    "tfs2 = []\n",
    "for i in tf2:\n",
    "    x = lp2[i]\n",
    "    tfs2.append(x)\n",
    "\n",
    "tfs3 = []\n",
    "for i in tf3:\n",
    "    x = lp3[i]\n",
    "    tfs3.append(x)\n",
    "    \n",
    "\n",
    "    \n",
    "testf1 = []\n",
    "for i in test1:\n",
    "    x = lp1[i]\n",
    "    testf1.append(x)   \n",
    "\n",
    "testf2 = []\n",
    "for i in test2:\n",
    "    x = lp2[i]\n",
    "    testf2.append(x)   \n",
    "    \n",
    "testf3 = []\n",
    "for i in test3:\n",
    "    x = lp3[i]\n",
    "    testf3.append(x)    "
   ]
  },
  {
   "cell_type": "code",
   "execution_count": 287,
   "metadata": {},
   "outputs": [
    {
     "name": "stdout",
     "output_type": "stream",
     "text": [
      "('Total Training Files:', 137848)\n",
      "('Total Test Files:', 34463)\n",
      "('Total Files:', 172311)\n"
     ]
    }
   ],
   "source": [
    "print('Total Training Files:', len(tfs1) + len(tfs2) + len(tfs3))\n",
    "print('Total Test Files:', len(testf1) + len(testf2) + len(testf3))\n",
    "print('Total Files:',len(tfs1) + len(tfs2) + len(tfs3) + len(testf1) + len(testf2) + len(testf3))"
   ]
  },
  {
   "cell_type": "code",
   "execution_count": 288,
   "metadata": {},
   "outputs": [],
   "source": [
    "train_path = '/home/ictd/Desktop/Arpit/Satellite project/data/msw/train'\n",
    "test_path = '/home/ictd/Desktop/Arpit/Satellite project/data/msw/test'"
   ]
  },
  {
   "cell_type": "code",
   "execution_count": 227,
   "metadata": {},
   "outputs": [],
   "source": [
    "a,b = os.path.split(tfs1[0])"
   ]
  },
  {
   "cell_type": "code",
   "execution_count": 289,
   "metadata": {},
   "outputs": [
    {
     "name": "stdout",
     "output_type": "stream",
     "text": [
      "Done for 1\n",
      "Done for 2\n",
      "Done for 3\n",
      "Train files moved\n",
      "('Total train files:', 137848)\n"
     ]
    }
   ],
   "source": [
    "for e in tfs1:\n",
    "    a,b = os.path.split(e)\n",
    "    x = os.path.join(train_path,b)\n",
    "    move(e,x)\n",
    "\n",
    "print('Done for 1')\n",
    "    \n",
    "for e in tfs2:\n",
    "    a,b = os.path.split(e)\n",
    "    x = os.path.join(train_path,b)\n",
    "    move(e,x)\n",
    "    \n",
    "print('Done for 2')\n",
    "    \n",
    "for e in tfs3:\n",
    "    a,b = os.path.split(e)\n",
    "    x = os.path.join(train_path,b)\n",
    "    move(e,x)\n",
    "\n",
    "print('Done for 3')\n",
    "    \n",
    "print('Train files moved')\n",
    "print('Total train files:', len(os.listdir(train_path)) ) "
   ]
  },
  {
   "cell_type": "code",
   "execution_count": 290,
   "metadata": {},
   "outputs": [
    {
     "name": "stdout",
     "output_type": "stream",
     "text": [
      "Test Files Copied\n",
      "('Total Test Files:', 34463)\n"
     ]
    }
   ],
   "source": [
    "for e in testf1:\n",
    "    a,b = os.path.split(e)\n",
    "    x = os.path.join(test_path,b)\n",
    "    move(e,x)\n",
    "\n",
    "for e in testf2:\n",
    "    a,b = os.path.split(e)\n",
    "    x = os.path.join(test_path,b)\n",
    "    move(e,x)\n",
    "    \n",
    "for e in testf3:\n",
    "    a,b = os.path.split(e)\n",
    "    x = os.path.join(test_path,b)\n",
    "    move(e,x)\n",
    "\n",
    "print('Test Files Copied')\n",
    "print('Total Test Files:', len(os.listdir(test_path)) )"
   ]
  },
  {
   "cell_type": "code",
   "execution_count": null,
   "metadata": {},
   "outputs": [],
   "source": []
  },
  {
   "cell_type": "code",
   "execution_count": null,
   "metadata": {},
   "outputs": [],
   "source": []
  },
  {
   "cell_type": "code",
   "execution_count": null,
   "metadata": {},
   "outputs": [],
   "source": []
  },
  {
   "cell_type": "markdown",
   "metadata": {},
   "source": [
    "## **CHH**"
   ]
  },
  {
   "cell_type": "code",
   "execution_count": 246,
   "metadata": {},
   "outputs": [
    {
     "name": "stdout",
     "output_type": "stream",
     "text": [
      "('No. of Class 1 sample:', 42887)\n",
      "('No. of Class 2 sample:', 59172)\n",
      "('No. of Class 3 sample:', 57148)\n",
      "('No. of Class 4 sample:', 13104)\n"
     ]
    }
   ],
   "source": [
    "path1 = '/home/ictd/Desktop/Arpit/Satellite project/data/chh/1'\n",
    "path2 = '/home/ictd/Desktop/Arpit/Satellite project/data/chh/2'\n",
    "path3 = '/home/ictd/Desktop/Arpit/Satellite project/data/chh/3'\n",
    "path4 = '/home/ictd/Desktop/Arpit/Satellite project/data/chh/4'\n",
    "paths1 = os.listdir(path1)\n",
    "paths2 = os.listdir(path2)\n",
    "paths3 = os.listdir(path3)\n",
    "paths4 = os.listdir(path4)\n",
    "lp1 =[]\n",
    "for direc1 in paths1:\n",
    "    x=glob.glob(os.path.join(path1,direc1))\n",
    "    lp1.extend(x)\n",
    "lp2 =[]\n",
    "for direc1 in paths2:\n",
    "    x=glob.glob(os.path.join(path2,direc1))\n",
    "    lp2.extend(x)\n",
    "lp3 =[]\n",
    "for direc1 in paths3:\n",
    "    x=glob.glob(os.path.join(path3,direc1))\n",
    "    lp3.extend(x)\n",
    "lp4 =[]\n",
    "for direc1 in paths4:\n",
    "    x=glob.glob(os.path.join(path4,direc1))\n",
    "    lp4.extend(x)\n",
    "print('No. of Class 1 sample:',len(lp1))\n",
    "print('No. of Class 2 sample:',len(lp2))\n",
    "print('No. of Class 3 sample:',len(lp3))\n",
    "print('No. of Class 4 sample:',len(lp4))"
   ]
  },
  {
   "cell_type": "code",
   "execution_count": 247,
   "metadata": {},
   "outputs": [],
   "source": [
    "n1 = len(lp1)\n",
    "n2 = len(lp2)\n",
    "n3 = len(lp3)\n",
    "n4 = len(lp4)\n",
    "\n",
    "ir1 = np.arange(n1)\n",
    "ir1 = np.asarray(ir1,dtype=np.int32)\n",
    "random.shuffle(ir1)\n",
    "tl1 = int(0.8*n1)\n",
    "tf1 = ir1[:tl1]  #Trainging indexes\n",
    "test1 = ir1[tl1:]   #Test Indexes\n",
    "\n",
    "ir2 = np.arange(n2)\n",
    "ir2 = np.asarray(ir2,dtype=np.int32)\n",
    "random.shuffle(ir2)\n",
    "tl2 = int(0.8*n2)\n",
    "tf2 = ir2[:tl2]  #Training Indexes\n",
    "test2 = ir2[tl2:]    #Test Indexes\n",
    "\n",
    "ir3 = np.arange(n3)\n",
    "ir3 = np.asarray(ir3,dtype=np.int32)\n",
    "random.shuffle(ir3)\n",
    "tl3 = int(0.8*n3)\n",
    "tf3 = ir3[:tl3]     #Training Indexes\n",
    "test3 = ir3[tl3:]     #Test Indexes\n",
    "\n",
    "ir4 = np.arange(n4)\n",
    "ir4 = np.asarray(ir4,dtype=np.int32)\n",
    "random.shuffle(ir4)\n",
    "tl4 = int(0.8*n4)\n",
    "tf4 = ir4[:tl4]     #Training Indexes\n",
    "test4 = ir4[tl4:]     #Test Indexes"
   ]
  },
  {
   "cell_type": "code",
   "execution_count": 248,
   "metadata": {},
   "outputs": [
    {
     "name": "stdout",
     "output_type": "stream",
     "text": [
      "For Class 1:\n",
      "('Training Files are:', 34309)\n",
      "('Testing Files are:', 8578)\n",
      "---------------------------------\n",
      "For Class 2:\n",
      "('Training Files are:', 47337)\n",
      "('Testing Files are:', 11835)\n",
      "---------------------------------\n",
      "For Class 3:\n",
      "('Training Files are:', 45718)\n",
      "('Testing Files are:', 11430)\n",
      "---------------------------------\n",
      "For Class 4:\n",
      "('Training Files are:', 10483)\n",
      "('Testing Files are:', 2621)\n"
     ]
    }
   ],
   "source": [
    "print('For Class 1:')\n",
    "print('Training Files are:', len(tf1))\n",
    "print('Testing Files are:', len(test1))\n",
    "print('---------------------------------')\n",
    "print('For Class 2:')\n",
    "print('Training Files are:', len(tf2))\n",
    "print('Testing Files are:', len(test2))\n",
    "print('---------------------------------')\n",
    "print('For Class 3:')\n",
    "print('Training Files are:', len(tf3))\n",
    "print('Testing Files are:', len(test3))\n",
    "print('---------------------------------')\n",
    "print('For Class 4:')\n",
    "print('Training Files are:', len(tf4))\n",
    "print('Testing Files are:', len(test4))"
   ]
  },
  {
   "cell_type": "code",
   "execution_count": 249,
   "metadata": {},
   "outputs": [],
   "source": [
    "tfs1 = []\n",
    "for i in tf1:\n",
    "    x = lp1[i]\n",
    "    tfs1.append(x)\n",
    "\n",
    "tfs2 = []\n",
    "for i in tf2:\n",
    "    x = lp2[i]\n",
    "    tfs2.append(x)\n",
    "\n",
    "tfs3 = []\n",
    "for i in tf3:\n",
    "    x = lp3[i]\n",
    "    tfs3.append(x)\n",
    "\n",
    "tfs4 = []\n",
    "for i in tf4:\n",
    "    x = lp4[i]\n",
    "    tfs4.append(x)\n",
    "\n",
    "    \n",
    "testf1 = []\n",
    "for i in test1:\n",
    "    x = lp1[i]\n",
    "    testf1.append(x)   \n",
    "\n",
    "testf2 = []\n",
    "for i in test2:\n",
    "    x = lp2[i]\n",
    "    testf2.append(x)   \n",
    "    \n",
    "testf3 = []\n",
    "for i in test3:\n",
    "    x = lp3[i]\n",
    "    testf3.append(x)\n",
    "\n",
    "testf4 = []\n",
    "for i in test4:\n",
    "    x = lp4[i]\n",
    "    testf4.append(x)  "
   ]
  },
  {
   "cell_type": "code",
   "execution_count": 250,
   "metadata": {},
   "outputs": [
    {
     "name": "stdout",
     "output_type": "stream",
     "text": [
      "('Total Training Files:', 137847)\n",
      "('Total Test Files:', 34464)\n",
      "('Total Files:', 172311)\n"
     ]
    }
   ],
   "source": [
    "print('Total Training Files:', len(tfs1) + len(tfs2) + len(tfs3) + len(tfs4))\n",
    "print('Total Test Files:', len(testf1) + len(testf2) + len(testf3) + len(testf4))\n",
    "print('Total Files:',len(tfs1) + len(tfs2) + len(tfs3) + len(tfs4) + len(testf1) + len(testf2) + len(testf3) + len(testf4))"
   ]
  },
  {
   "cell_type": "code",
   "execution_count": 251,
   "metadata": {},
   "outputs": [],
   "source": [
    "train_path = '/home/ictd/Desktop/Arpit/Satellite project/data/chh/train'\n",
    "test_path = '/home/ictd/Desktop/Arpit/Satellite project/data/chh/test'"
   ]
  },
  {
   "cell_type": "code",
   "execution_count": 253,
   "metadata": {},
   "outputs": [
    {
     "name": "stdout",
     "output_type": "stream",
     "text": [
      "Done for 1\n",
      "Done for 2\n",
      "Done for 3\n",
      "Done for 4\n",
      "Train files moved\n",
      "('Total train files:', 137847)\n"
     ]
    }
   ],
   "source": [
    "for e in tfs1:\n",
    "    a,b = os.path.split(e)\n",
    "    x = os.path.join(train_path,b)\n",
    "    move(e,x)\n",
    "\n",
    "print('Done for 1')\n",
    "    \n",
    "for e in tfs2:\n",
    "    a,b = os.path.split(e)\n",
    "    x = os.path.join(train_path,b)\n",
    "    move(e,x)\n",
    "    \n",
    "print('Done for 2')\n",
    "    \n",
    "for e in tfs3:\n",
    "    a,b = os.path.split(e)\n",
    "    x = os.path.join(train_path,b)\n",
    "    move(e,x)\n",
    "\n",
    "print('Done for 3')\n",
    "\n",
    "for e in tfs4:\n",
    "    a,b = os.path.split(e)\n",
    "    x = os.path.join(train_path,b)\n",
    "    move(e,x)\n",
    "\n",
    "print('Done for 4')\n",
    "    \n",
    "print('Train files moved')\n",
    "print('Total train files:', len(os.listdir(train_path)) ) "
   ]
  },
  {
   "cell_type": "code",
   "execution_count": 252,
   "metadata": {},
   "outputs": [
    {
     "name": "stdout",
     "output_type": "stream",
     "text": [
      "Test Files Copied\n",
      "('Total Test Files:', 34464)\n"
     ]
    }
   ],
   "source": [
    "for e in testf1:\n",
    "    a,b = os.path.split(e)\n",
    "    x = os.path.join(test_path,b)\n",
    "    move(e,x)\n",
    "\n",
    "for e in testf2:\n",
    "    a,b = os.path.split(e)\n",
    "    x = os.path.join(test_path,b)\n",
    "    move(e,x)\n",
    "    \n",
    "for e in testf3:\n",
    "    a,b = os.path.split(e)\n",
    "    x = os.path.join(test_path,b)\n",
    "    move(e,x)\n",
    "    \n",
    "for e in testf4:\n",
    "    a,b = os.path.split(e)\n",
    "    x = os.path.join(test_path,b)\n",
    "    move(e,x)\n",
    "\n",
    "print('Test Files Copied')\n",
    "print('Total Test Files:', len(os.listdir(test_path)) )"
   ]
  },
  {
   "cell_type": "code",
   "execution_count": null,
   "metadata": {},
   "outputs": [],
   "source": []
  }
 ],
 "metadata": {
  "kernelspec": {
   "display_name": "Python 3",
   "language": "python",
   "name": "python3"
  },
  "language_info": {
   "codemirror_mode": {
    "name": "ipython",
    "version": 3
   },
   "file_extension": ".py",
   "mimetype": "text/x-python",
   "name": "python",
   "nbconvert_exporter": "python",
   "pygments_lexer": "ipython3",
   "version": "3.6.6"
  }
 },
 "nbformat": 4,
 "nbformat_minor": 2
}
