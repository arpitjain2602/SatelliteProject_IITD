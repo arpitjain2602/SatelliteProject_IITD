{
 "cells": [
  {
   "cell_type": "code",
   "execution_count": 21,
   "metadata": {},
   "outputs": [
    {
     "name": "stderr",
     "output_type": "stream",
     "text": [
      "Using TensorFlow backend.\n"
     ]
    }
   ],
   "source": [
    "import keras"
   ]
  },
  {
   "cell_type": "code",
   "execution_count": 33,
   "metadata": {},
   "outputs": [],
   "source": [
    "j=3"
   ]
  },
  {
   "cell_type": "code",
   "execution_count": 34,
   "metadata": {},
   "outputs": [],
   "source": [
    "a = '/home/cse/mtech/mcs172873/LANDSAT/InceptionV3/BF/test_results/Test_Results_BF-0{}.csv'.format(j)"
   ]
  },
  {
   "cell_type": "code",
   "execution_count": 35,
   "metadata": {},
   "outputs": [
    {
     "name": "stdout",
     "output_type": "stream",
     "text": [
      "/home/cse/mtech/mcs172873/LANDSAT/InceptionV3/BF/test_results/Test_Results_BF-03.csv\n"
     ]
    }
   ],
   "source": [
    "print(a)"
   ]
  },
  {
   "cell_type": "code",
   "execution_count": null,
   "metadata": {},
   "outputs": [],
   "source": []
  },
  {
   "cell_type": "code",
   "execution_count": 22,
   "metadata": {},
   "outputs": [],
   "source": [
    "from keras.applications.inception_resnet_v2 import InceptionResNetV2"
   ]
  },
  {
   "cell_type": "code",
   "execution_count": 1,
   "metadata": {},
   "outputs": [],
   "source": [
    "import os\n",
    "import glob"
   ]
  },
  {
   "cell_type": "code",
   "execution_count": 2,
   "metadata": {},
   "outputs": [],
   "source": [
    "direc = '/home/ictd/Desktop/Arpit/Satellite project/tifSingleSentinel/croppedImagesMaha'"
   ]
  },
  {
   "cell_type": "code",
   "execution_count": 3,
   "metadata": {},
   "outputs": [],
   "source": [
    "dirs1=os.listdir(direc)"
   ]
  },
  {
   "cell_type": "code",
   "execution_count": 4,
   "metadata": {},
   "outputs": [
    {
     "data": {
      "text/plain": [
       "54369"
      ]
     },
     "execution_count": 4,
     "metadata": {},
     "output_type": "execute_result"
    }
   ],
   "source": [
    "len(dirs1)"
   ]
  },
  {
   "cell_type": "code",
   "execution_count": 131,
   "metadata": {},
   "outputs": [],
   "source": [
    "dirs4 = [x for x in dirs1 if len(((x.split('@')[3]).split('.')[0]).split()) == 2]"
   ]
  },
  {
   "cell_type": "code",
   "execution_count": 132,
   "metadata": {},
   "outputs": [
    {
     "data": {
      "text/plain": [
       "0"
      ]
     },
     "execution_count": 132,
     "metadata": {},
     "output_type": "execute_result"
    }
   ],
   "source": [
    "len(dirs4)"
   ]
  },
  {
   "cell_type": "code",
   "execution_count": 109,
   "metadata": {},
   "outputs": [],
   "source": [
    "files1=[]\n",
    "for direc1 in dirs4:\n",
    "       file1=glob.glob(os.path.join(direc,direc1))\n",
    "       files1.extend(file1)"
   ]
  },
  {
   "cell_type": "code",
   "execution_count": 112,
   "metadata": {},
   "outputs": [],
   "source": [
    "for ff in files1:\n",
    "    os.remove(ff)"
   ]
  },
  {
   "cell_type": "markdown",
   "metadata": {},
   "source": [
    "**Removing duplicates**"
   ]
  },
  {
   "cell_type": "code",
   "execution_count": 272,
   "metadata": {},
   "outputs": [],
   "source": [
    "dirs5 = map(lambda x: x.split('@')[3].split('.')[0],dirs1)"
   ]
  },
  {
   "cell_type": "code",
   "execution_count": 273,
   "metadata": {},
   "outputs": [
    {
     "data": {
      "text/plain": [
       "54369"
      ]
     },
     "execution_count": 273,
     "metadata": {},
     "output_type": "execute_result"
    }
   ],
   "source": [
    "len(dirs5)"
   ]
  },
  {
   "cell_type": "code",
   "execution_count": 280,
   "metadata": {},
   "outputs": [],
   "source": [
    "import collections\n",
    "dup= [item for item, count in collections.Counter(dirs5).items() if count > 50]"
   ]
  },
  {
   "cell_type": "code",
   "execution_count": 282,
   "metadata": {},
   "outputs": [
    {
     "name": "stdout",
     "output_type": "stream",
     "text": [
      "['531729', '529661', '529663', '531970', '531898', '531900', '531901', '531902', '531903', '531908', '531909', '528274', '529639', '531571', '531950', '531957', '552446', '531718', '529655', '529654', '529656', '529650', '529658', '531969', '531962', '531963', '531960', '531961', '531967', '531965', '558165', '529809', '531764', '552461', '531877', '531878', '531565', '531946', '531947', '531948', '529640', '529649', '531919', '531914', '531913', '531912', '531910', '531892', '531897', '531895', '531926', '531920', '532051']\n"
     ]
    }
   ],
   "source": [
    "print((dup))"
   ]
  },
  {
   "cell_type": "code",
   "execution_count": null,
   "metadata": {},
   "outputs": [],
   "source": []
  },
  {
   "cell_type": "code",
   "execution_count": null,
   "metadata": {},
   "outputs": [],
   "source": []
  },
  {
   "cell_type": "markdown",
   "metadata": {},
   "source": [
    "**Evaluating the Data**"
   ]
  },
  {
   "cell_type": "code",
   "execution_count": 5,
   "metadata": {},
   "outputs": [],
   "source": [
    "image_pathOrissa=\"/home/ictd/Desktop/Arpit/Satellite project/tifSingleSentinel/croppedImagesOdisha\"\n",
    "image_pathMaha=\"/home/ictd/Desktop/Arpit/Satellite project/tifSingleSentinel/croppedImagesMaha\"\n",
    "image_pathKer=\"/home/ictd/Desktop/Arpit/Satellite project/tifSingleSentinel/croppedImagesKerela\"\n",
    "image_pathKar=\"/home/ictd/Desktop/Arpit/Satellite project/tifSingleSentinel/croppedImagesKarnataka\"\n",
    "image_pathGuj=\"/home/ictd/Desktop/Arpit/Satellite project/tifSingleSentinel/croppedImagesGujrat\"\n",
    "image_pathBihar=\"/home/ictd/Desktop/Arpit/Satellite project/tifSingleSentinel/croppedImagesBihar\"\n",
    "dirs1=os.listdir(image_pathOrissa)\n",
    "dirs2=os.listdir(image_pathMaha)\n",
    "dirs3=os.listdir(image_pathKer)\n",
    "dirs4=os.listdir(image_pathKar)\n",
    "dirs5=os.listdir(image_pathGuj)\n",
    "dirs6=os.listdir(image_pathBihar)\n",
    "files1=[]\n",
    "files2=[]\n",
    "files3=[]\n",
    "files4=[]\n",
    "files5=[]\n",
    "files6=[]\n",
    "for direc1 in dirs1:\n",
    "       file1=glob.glob(os.path.join(image_pathOrissa,direc1))\n",
    "       files1.extend(file1)\n",
    "for direc2 in dirs2:\n",
    "       file2=glob.glob(os.path.join(image_pathMaha,direc2))\n",
    "       files2.extend(file2)\n",
    "for direc3 in dirs3:\n",
    "       file3=glob.glob(os.path.join(image_pathKer,direc3))\n",
    "       files3.extend(file3)\n",
    "for direc4 in dirs4:\n",
    "       file4=glob.glob(os.path.join(image_pathKar,direc4))\n",
    "       files4.extend(file4)\n",
    "for direc5 in dirs5:\n",
    "       file5=glob.glob(os.path.join(image_pathGuj,direc5))\n",
    "       files5.extend(file5)\n",
    "for direc6 in dirs6:\n",
    "       file6=glob.glob(os.path.join(image_pathBihar,direc6))\n",
    "       files6.extend(file6)\n",
    "files=[]\n",
    "files=files1+files2+files3+files4+files5+files6"
   ]
  },
  {
   "cell_type": "code",
   "execution_count": 6,
   "metadata": {},
   "outputs": [
    {
     "name": "stdout",
     "output_type": "stream",
     "text": [
      "('Total Files:', 197950)\n",
      "406241\n"
     ]
    }
   ],
   "source": [
    "print('Total Files:',len(files))\n",
    "print(files[4].split('@')[3].split('.')[0].split()[0])"
   ]
  },
  {
   "cell_type": "code",
   "execution_count": 7,
   "metadata": {},
   "outputs": [],
   "source": [
    "files_code = map(lambda x: x.split('@')[3].split('.')[0].split()[0] , files)"
   ]
  },
  {
   "cell_type": "code",
   "execution_count": 8,
   "metadata": {},
   "outputs": [
    {
     "name": "stdout",
     "output_type": "stream",
     "text": [
      "197950\n"
     ]
    }
   ],
   "source": [
    "print(len(files_code))"
   ]
  },
  {
   "cell_type": "code",
   "execution_count": 9,
   "metadata": {},
   "outputs": [
    {
     "name": "stdout",
     "output_type": "stream",
     "text": [
      "185746\n"
     ]
    }
   ],
   "source": [
    "uniques = list(set(files_code))\n",
    "print(len(uniques))"
   ]
  },
  {
   "cell_type": "code",
   "execution_count": 58,
   "metadata": {},
   "outputs": [],
   "source": [
    "wotif = map(lambda x: x.split('.tif')[0], files)"
   ]
  },
  {
   "cell_type": "code",
   "execution_count": 66,
   "metadata": {},
   "outputs": [],
   "source": [
    "(a,b) = wotif[1][:-6], wotif[1][-6:]"
   ]
  },
  {
   "cell_type": "code",
   "execution_count": 78,
   "metadata": {},
   "outputs": [],
   "source": [
    "list_dict = []\n",
    "for e in wotif:\n",
    "    (a,b) = e[:-6], e[-6:]\n",
    "    list_dict.append((a,b))\n",
    "    "
   ]
  },
  {
   "cell_type": "code",
   "execution_count": null,
   "metadata": {},
   "outputs": [],
   "source": [
    "dup_list = []\n",
    "final_vcs = []\n",
    "i=1\n",
    "for ele in list_dict:\n",
    "    vc = ele[1]\n",
    "    print(i)\n",
    "    if (vc in dup_list):\n",
    "        continue\n",
    "    else:\n",
    "        dup_list.append(vc)\n",
    "        final_vcs.append(ele)\n",
    "    i=i+1"
   ]
  },
  {
   "cell_type": "code",
   "execution_count": 90,
   "metadata": {},
   "outputs": [
    {
     "data": {
      "text/plain": [
       "185746"
      ]
     },
     "execution_count": 90,
     "metadata": {},
     "output_type": "execute_result"
    }
   ],
   "source": [
    "len(final_vcs)"
   ]
  },
  {
   "cell_type": "code",
   "execution_count": 91,
   "metadata": {},
   "outputs": [
    {
     "data": {
      "text/plain": [
       "('/home/ictd/Desktop/Arpit/Satellite project/tifSingleSentinel/croppedImagesOdisha/CIOD@808000.0@OD-4604@',\n",
       " '388216')"
      ]
     },
     "execution_count": 91,
     "metadata": {},
     "output_type": "execute_result"
    }
   ],
   "source": [
    "final_vcs[0]"
   ]
  },
  {
   "cell_type": "code",
   "execution_count": 95,
   "metadata": {},
   "outputs": [],
   "source": [
    "file_paths = []\n",
    "for a,b in final_vcs:\n",
    "    x = a+b+'.tif'\n",
    "    file_paths.append(x)"
   ]
  },
  {
   "cell_type": "code",
   "execution_count": 98,
   "metadata": {},
   "outputs": [
    {
     "data": {
      "text/plain": [
       "185746"
      ]
     },
     "execution_count": 98,
     "metadata": {},
     "output_type": "execute_result"
    }
   ],
   "source": [
    "len(file_paths)"
   ]
  },
  {
   "cell_type": "code",
   "execution_count": 101,
   "metadata": {},
   "outputs": [],
   "source": [
    "file_new = map(lambda x: x.replace('tifSingle','tif'), file_paths)"
   ]
  },
  {
   "cell_type": "code",
   "execution_count": null,
   "metadata": {},
   "outputs": [],
   "source": [
    "file_new"
   ]
  },
  {
   "cell_type": "code",
   "execution_count": null,
   "metadata": {},
   "outputs": [],
   "source": [
    "for i in range(185746):\n",
    "    print(file_new[i])\n",
    "    print(file_paths[i])\n",
    "    print('---')"
   ]
  },
  {
   "cell_type": "code",
   "execution_count": 105,
   "metadata": {},
   "outputs": [],
   "source": [
    "from shutil import copyfile"
   ]
  },
  {
   "cell_type": "code",
   "execution_count": null,
   "metadata": {},
   "outputs": [],
   "source": [
    "for i in range(185746):\n",
    "    print(i)\n",
    "    copyfile(file_paths[i], file_new[i])"
   ]
  },
  {
   "cell_type": "code",
   "execution_count": null,
   "metadata": {},
   "outputs": [],
   "source": []
  },
  {
   "cell_type": "code",
   "execution_count": null,
   "metadata": {},
   "outputs": [],
   "source": []
  },
  {
   "cell_type": "code",
   "execution_count": null,
   "metadata": {},
   "outputs": [],
   "source": []
  },
  {
   "cell_type": "code",
   "execution_count": null,
   "metadata": {},
   "outputs": [],
   "source": []
  },
  {
   "cell_type": "code",
   "execution_count": 10,
   "metadata": {},
   "outputs": [],
   "source": [
    "import pandas as pd\n",
    "import numpy as np"
   ]
  },
  {
   "cell_type": "code",
   "execution_count": 11,
   "metadata": {},
   "outputs": [],
   "source": [
    "df=pd.read_csv('/home/ictd/Desktop/Arpit/Satellite project/Vill.csv')"
   ]
  },
  {
   "cell_type": "code",
   "execution_count": 312,
   "metadata": {},
   "outputs": [],
   "source": [
    "arr = np.array(uniques, dtype='int')"
   ]
  },
  {
   "cell_type": "code",
   "execution_count": 314,
   "metadata": {},
   "outputs": [],
   "source": [
    "np.savetxt('/home/ictd/Desktop/Arpit/Satellite project/abc.csv',arr)"
   ]
  },
  {
   "cell_type": "code",
   "execution_count": null,
   "metadata": {},
   "outputs": [],
   "source": []
  },
  {
   "cell_type": "code",
   "execution_count": null,
   "metadata": {},
   "outputs": [],
   "source": []
  },
  {
   "cell_type": "markdown",
   "metadata": {},
   "source": [
    "**for landsat**"
   ]
  },
  {
   "cell_type": "code",
   "execution_count": 2,
   "metadata": {},
   "outputs": [],
   "source": [
    "import pandas as pd\n",
    "import numpy as np\n",
    "import os\n",
    "import glob"
   ]
  },
  {
   "cell_type": "code",
   "execution_count": 3,
   "metadata": {},
   "outputs": [],
   "source": [
    "image_pathOrissa=\"/home/ictd/Desktop/Arpit/Satellite project/data/landsat/croppedImagesOddisa\"\n",
    "image_pathMaha=\"/home/ictd/Desktop/Arpit/Satellite project/data/landsat/croppedImagesMaha\"\n",
    "image_pathKer=\"/home/ictd/Desktop/Arpit/Satellite project/data/landsat/croppedImagesKerela\"\n",
    "image_pathKar=\"/home/ictd/Desktop/Arpit/Satellite project/data/landsat/croppedImagesKarnataka\"\n",
    "image_pathGuj=\"/home/ictd/Desktop/Arpit/Satellite project/data/landsat/croppedImagesGuj\"\n",
    "image_pathBihar=\"/home/ictd/Desktop/Arpit/Satellite project/data/landsat/croppedImagesBihar\"\n",
    "dirs1=os.listdir(image_pathOrissa)\n",
    "dirs2=os.listdir(image_pathMaha)\n",
    "dirs3=os.listdir(image_pathKer)\n",
    "dirs4=os.listdir(image_pathKar)\n",
    "dirs5=os.listdir(image_pathGuj)\n",
    "dirs6=os.listdir(image_pathBihar)\n",
    "files1=[]\n",
    "files2=[]\n",
    "files3=[]\n",
    "files4=[]\n",
    "files5=[]\n",
    "files6=[]\n",
    "for direc1 in dirs1:\n",
    "       file1=glob.glob(os.path.join(image_pathOrissa,direc1))\n",
    "       files1.extend(file1)\n",
    "for direc2 in dirs2:\n",
    "       file2=glob.glob(os.path.join(image_pathMaha,direc2))\n",
    "       files2.extend(file2)\n",
    "for direc3 in dirs3:\n",
    "       file3=glob.glob(os.path.join(image_pathKer,direc3))\n",
    "       files3.extend(file3)\n",
    "for direc4 in dirs4:\n",
    "       file4=glob.glob(os.path.join(image_pathKar,direc4))\n",
    "       files4.extend(file4)\n",
    "for direc5 in dirs5:\n",
    "       file5=glob.glob(os.path.join(image_pathGuj,direc5))\n",
    "       files5.extend(file5)\n",
    "for direc6 in dirs6:\n",
    "       file6=glob.glob(os.path.join(image_pathBihar,direc6))\n",
    "       files6.extend(file6)\n",
    "files=[]\n",
    "files=files1+files2+files3+files4+files5+files6"
   ]
  },
  {
   "cell_type": "code",
   "execution_count": 16,
   "metadata": {},
   "outputs": [
    {
     "name": "stdout",
     "output_type": "stream",
     "text": [
      "178760\n"
     ]
    },
    {
     "data": {
      "text/plain": [
       "'407377'"
      ]
     },
     "execution_count": 16,
     "metadata": {},
     "output_type": "execute_result"
    }
   ],
   "source": [
    "print(len(files))\n",
    "files[1].split('@')[3].split('.')[0]"
   ]
  },
  {
   "cell_type": "code",
   "execution_count": 17,
   "metadata": {},
   "outputs": [],
   "source": [
    "fvc = map(lambda x: x.split('@')[3].split('.')[0],files)"
   ]
  },
  {
   "cell_type": "code",
   "execution_count": 18,
   "metadata": {},
   "outputs": [
    {
     "data": {
      "text/plain": [
       "178760"
      ]
     },
     "execution_count": 18,
     "metadata": {},
     "output_type": "execute_result"
    }
   ],
   "source": [
    "len(fvc)"
   ]
  },
  {
   "cell_type": "markdown",
   "metadata": {},
   "source": [
    "**no duplicates in landsat**"
   ]
  },
  {
   "cell_type": "code",
   "execution_count": null,
   "metadata": {},
   "outputs": [],
   "source": []
  },
  {
   "cell_type": "code",
   "execution_count": null,
   "metadata": {},
   "outputs": [],
   "source": []
  },
  {
   "cell_type": "code",
   "execution_count": null,
   "metadata": {},
   "outputs": [],
   "source": []
  },
  {
   "cell_type": "code",
   "execution_count": null,
   "metadata": {},
   "outputs": [],
   "source": []
  },
  {
   "cell_type": "code",
   "execution_count": null,
   "metadata": {},
   "outputs": [],
   "source": []
  },
  {
   "cell_type": "code",
   "execution_count": null,
   "metadata": {},
   "outputs": [],
   "source": []
  },
  {
   "cell_type": "code",
   "execution_count": null,
   "metadata": {},
   "outputs": [],
   "source": []
  }
 ],
 "metadata": {
  "kernelspec": {
   "display_name": "Python 3",
   "language": "python",
   "name": "python3"
  },
  "language_info": {
   "codemirror_mode": {
    "name": "ipython",
    "version": 3
   },
   "file_extension": ".py",
   "mimetype": "text/x-python",
   "name": "python",
   "nbconvert_exporter": "python",
   "pygments_lexer": "ipython3",
   "version": "3.6.6"
  }
 },
 "nbformat": 4,
 "nbformat_minor": 2
}
