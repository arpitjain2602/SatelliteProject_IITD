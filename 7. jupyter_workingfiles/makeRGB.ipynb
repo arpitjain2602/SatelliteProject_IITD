{
 "cells": [
  {
   "cell_type": "code",
   "execution_count": 10,
   "metadata": {},
   "outputs": [],
   "source": [
    "from libtiff import TIFF\n",
    "import sys\n",
    "import numpy as np\n",
    "from PIL import Image\n",
    "from os import listdir\n",
    "from os.path import isfile, join\n",
    "import pickle\n",
    "import h5py\n",
    "import scipy.misc"
   ]
  },
  {
   "cell_type": "code",
   "execution_count": 13,
   "metadata": {},
   "outputs": [],
   "source": [
    "inputFolder='/home/ictd/Desktop/Arpit/Satellite project/data/landsat/croppedImagesKarnataka/'\n",
    "outputFolder='/home/ictd/Desktop/Arpit/Satellite project/data/landsat/karnataka/'"
   ]
  },
  {
   "cell_type": "code",
   "execution_count": 14,
   "metadata": {},
   "outputs": [
    {
     "name": "stderr",
     "output_type": "stream",
     "text": [
      "/usr/local/lib/python2.7/dist-packages/ipykernel_launcher.py:34: DeprecationWarning: `imsave` is deprecated!\n",
      "`imsave` is deprecated in SciPy 1.0.0, and will be removed in 1.2.0.\n",
      "Use ``imageio.imwrite`` instead.\n"
     ]
    }
   ],
   "source": [
    "onlyfiles = [f for f in listdir(inputFolder) if isfile(join(inputFolder, f))]\n",
    "\n",
    "resizeDim=224\n",
    "i=0\n",
    "\n",
    "for currImageName in onlyfiles:\n",
    "\t#print (i)\n",
    "\ti=i+1\n",
    "\t# currImageName='kerela-0000000000-0000000000@10400.0@KL-113@627160.tif'\n",
    "\tdestImageName=currImageName.split('@')[3]\n",
    "\ttif = TIFF.open(inputFolder+currImageName, mode='r')\n",
    "\timage = tif.read_image()\n",
    "\tdataAll = np.array(image)\n",
    "\t#print (destImageName[:-4])\n",
    "\n",
    "\tif(dataAll.shape[0]>resizeDim or dataAll.shape[1]>resizeDim):\n",
    "\t\tcontinue\n",
    "\n",
    "\tdata=np.delete(dataAll,[11,12],axis=2)\n",
    "\n",
    "\tband2=data[:,:,1]\n",
    "\tband3=data[:,:,2]\n",
    "\tband4=data[:,:,3]\n",
    "\n",
    "\tcombinedData=np.dstack((band4,band3,band2))\n",
    "\n",
    "\tleft=(resizeDim-combinedData.shape[0])/2\n",
    "\tright=resizeDim-combinedData.shape[0]-left\n",
    "\tup=(resizeDim-combinedData.shape[1])/2\n",
    "\tdown=resizeDim-combinedData.shape[1]-up\n",
    "\n",
    "\tdata1=np.lib.pad(combinedData,[(left,right),(up,down),(0,0)],'constant')\n",
    "\n",
    "\tscipy.misc.imsave(outputFolder+destImageName[:-4]+'.png', data1)"
   ]
  },
  {
   "cell_type": "code",
   "execution_count": null,
   "metadata": {},
   "outputs": [],
   "source": []
  }
 ],
 "metadata": {
  "kernelspec": {
   "display_name": "Python 2",
   "language": "python",
   "name": "python2"
  },
  "language_info": {
   "codemirror_mode": {
    "name": "ipython",
    "version": 2
   },
   "file_extension": ".py",
   "mimetype": "text/x-python",
   "name": "python",
   "nbconvert_exporter": "python",
   "pygments_lexer": "ipython2",
   "version": "2.7.12"
  }
 },
 "nbformat": 4,
 "nbformat_minor": 2
}
