{
 "cells": [
  {
   "cell_type": "code",
   "execution_count": 1,
   "metadata": {},
   "outputs": [],
   "source": [
    "import numpy as np\n",
    "import pylab"
   ]
  },
  {
   "cell_type": "code",
   "execution_count": 2,
   "metadata": {},
   "outputs": [],
   "source": [
    "def Hbeta(D=np.array([]), beta=1.0):\n",
    "    \"\"\"\n",
    "        Compute the perplexity and the P-row for a specific value of the\n",
    "        precision of a Gaussian distribution.\n",
    "    \"\"\"\n",
    "\n",
    "    # Compute P-row and corresponding perplexity\n",
    "    P = np.exp(-D.copy() * beta)\n",
    "    sumP = sum(P)\n",
    "    H = np.log(sumP) + beta * np.sum(D * P) / sumP\n",
    "    P = P / sumP\n",
    "    return H, P"
   ]
  },
  {
   "cell_type": "code",
   "execution_count": 3,
   "metadata": {},
   "outputs": [],
   "source": [
    "def x2p(X=np.array([]), tol=1e-5, perplexity=30.0):\n",
    "    \"\"\"\n",
    "        Performs a binary search to get P-values in such a way that each\n",
    "        conditional Gaussian has the same perplexity.\n",
    "    \"\"\"\n",
    "\n",
    "    # Initialize some variables\n",
    "    print(\"Computing pairwise distances...\")\n",
    "    (n, d) = X.shape\n",
    "    sum_X = np.sum(np.square(X), 1)\n",
    "    D = np.add(np.add(-2 * np.dot(X, X.T), sum_X).T, sum_X)\n",
    "    P = np.zeros((n, n))\n",
    "    beta = np.ones((n, 1))\n",
    "    logU = np.log(perplexity)\n",
    "\n",
    "    # Loop over all datapoints\n",
    "    for i in range(n):\n",
    "\n",
    "        # Print progress\n",
    "        if i % 500 == 0:\n",
    "            print(\"Computing P-values for point %d of %d...\" % (i, n))\n",
    "\n",
    "        # Compute the Gaussian kernel and entropy for the current precision\n",
    "        betamin = -np.inf\n",
    "        betamax = np.inf\n",
    "        Di = D[i, np.concatenate((np.r_[0:i], np.r_[i+1:n]))]\n",
    "        (H, thisP) = Hbeta(Di, beta[i])\n",
    "\n",
    "        # Evaluate whether the perplexity is within tolerance\n",
    "        Hdiff = H - logU\n",
    "        tries = 0\n",
    "        while np.abs(Hdiff) > tol and tries < 50:\n",
    "\n",
    "            # If not, increase or decrease precision\n",
    "            if Hdiff > 0:\n",
    "                betamin = beta[i].copy()\n",
    "                if betamax == np.inf or betamax == -np.inf:\n",
    "                    beta[i] = beta[i] * 2.\n",
    "                else:\n",
    "                    beta[i] = (beta[i] + betamax) / 2.\n",
    "            else:\n",
    "                betamax = beta[i].copy()\n",
    "                if betamin == np.inf or betamin == -np.inf:\n",
    "                    beta[i] = beta[i] / 2.\n",
    "                else:\n",
    "                    beta[i] = (beta[i] + betamin) / 2.\n",
    "\n",
    "            # Recompute the values\n",
    "            (H, thisP) = Hbeta(Di, beta[i])\n",
    "            Hdiff = H - logU\n",
    "            tries += 1\n",
    "\n",
    "        # Set the final row of P\n",
    "        P[i, np.concatenate((np.r_[0:i], np.r_[i+1:n]))] = thisP\n",
    "\n",
    "    # Return final P-matrix\n",
    "    print(\"Mean value of sigma: %f\" % np.mean(np.sqrt(1 / beta)))\n",
    "    return P"
   ]
  },
  {
   "cell_type": "code",
   "execution_count": 4,
   "metadata": {},
   "outputs": [],
   "source": [
    "def pca(X=np.array([]), no_dims=50):\n",
    "    \"\"\"\n",
    "        Runs PCA on the NxD array X in order to reduce its dimensionality to\n",
    "        no_dims dimensions.\n",
    "    \"\"\"\n",
    "\n",
    "    print(\"Preprocessing the data using PCA...\")\n",
    "    (n, d) = X.shape\n",
    "    X = X - np.tile(np.mean(X, 0), (n, 1))\n",
    "    (l, M) = np.linalg.eig(np.dot(X.T, X))\n",
    "    Y = np.dot(X, M[:, 0:no_dims])\n",
    "    return Y"
   ]
  },
  {
   "cell_type": "code",
   "execution_count": 5,
   "metadata": {},
   "outputs": [],
   "source": [
    "def tsne(X=np.array([]), no_dims=2, initial_dims=50, perplexity=30.0):\n",
    "    \"\"\"\n",
    "        Runs t-SNE on the dataset in the NxD array X to reduce its\n",
    "        dimensionality to no_dims dimensions. The syntaxis of the function is\n",
    "        `Y = tsne.tsne(X, no_dims, perplexity), where X is an NxD NumPy array.\n",
    "    \"\"\"\n",
    "\n",
    "    # Check inputs\n",
    "    if isinstance(no_dims, float):\n",
    "        print(\"Error: array X should have type float.\")\n",
    "        return -1\n",
    "    if round(no_dims) != no_dims:\n",
    "        print(\"Error: number of dimensions should be an integer.\")\n",
    "        return -1\n",
    "\n",
    "    # Initialize variables\n",
    "    X = pca(X, initial_dims).real\n",
    "    (n, d) = X.shape\n",
    "    max_iter = 1000\n",
    "    initial_momentum = 0.5\n",
    "    final_momentum = 0.8\n",
    "    eta = 500\n",
    "    min_gain = 0.01\n",
    "    Y = np.random.randn(n, no_dims)\n",
    "    dY = np.zeros((n, no_dims))\n",
    "    iY = np.zeros((n, no_dims))\n",
    "    gains = np.ones((n, no_dims))\n",
    "\n",
    "    # Compute P-values\n",
    "    P = x2p(X, 1e-5, perplexity)\n",
    "    P = P + np.transpose(P)\n",
    "    P = P / np.sum(P)\n",
    "    P = P * 4.\t\t\t\t\t\t\t\t\t# early exaggeration\n",
    "    P = np.maximum(P, 1e-12)\n",
    "\n",
    "    # Run iterations\n",
    "    for iter in range(max_iter):\n",
    "\n",
    "        # Compute pairwise affinities\n",
    "        sum_Y = np.sum(np.square(Y), 1)\n",
    "        num = -2. * np.dot(Y, Y.T)\n",
    "        num = 1. / (1. + np.add(np.add(num, sum_Y).T, sum_Y))\n",
    "        num[range(n), range(n)] = 0.\n",
    "        Q = num / np.sum(num)\n",
    "        Q = np.maximum(Q, 1e-12)\n",
    "\n",
    "        # Compute gradient\n",
    "        PQ = P - Q\n",
    "        for i in range(n):\n",
    "            dY[i, :] = np.sum(np.tile(PQ[:, i] * num[:, i], (no_dims, 1)).T * (Y[i, :] - Y), 0)\n",
    "\n",
    "        # Perform the update\n",
    "        if iter < 20:\n",
    "            momentum = initial_momentum\n",
    "        else:\n",
    "            momentum = final_momentum\n",
    "        gains = (gains + 0.2) * ((dY > 0.) != (iY > 0.)) + \\\n",
    "                (gains * 0.8) * ((dY > 0.) == (iY > 0.))\n",
    "        gains[gains < min_gain] = min_gain\n",
    "        iY = momentum * iY - eta * (gains * dY)\n",
    "        Y = Y + iY\n",
    "        Y = Y - np.tile(np.mean(Y, 0), (n, 1))\n",
    "\n",
    "        # Compute current value of cost function\n",
    "        if (iter + 1) % 10 == 0:\n",
    "            C = np.sum(P * np.log(P / Q))\n",
    "            print(\"Iteration %d: error is %f\" % (iter + 1, C))\n",
    "\n",
    "        # Stop lying about P-values\n",
    "        if iter == 100:\n",
    "            P = P / 4.\n",
    "\n",
    "    # Return solution\n",
    "    return Y"
   ]
  },
  {
   "cell_type": "code",
   "execution_count": 6,
   "metadata": {},
   "outputs": [],
   "source": [
    "X=np.loadtxt('/home/ictd/Downloads/tsne_python/tsne_python/mnist2500_X.txt')"
   ]
  },
  {
   "cell_type": "code",
   "execution_count": 9,
   "metadata": {},
   "outputs": [],
   "source": [
    "labels = np.loadtxt('/home/ictd/Downloads/tsne_python/tsne_python/mnist2500_labels.txt')"
   ]
  },
  {
   "cell_type": "code",
   "execution_count": 11,
   "metadata": {},
   "outputs": [
    {
     "name": "stdout",
     "output_type": "stream",
     "text": [
      "Preprocessing the data using PCA...\n",
      "Computing pairwise distances...\n",
      "Computing P-values for point 0 of 2500...\n",
      "Computing P-values for point 500 of 2500...\n",
      "Computing P-values for point 1000 of 2500...\n",
      "Computing P-values for point 1500 of 2500...\n",
      "Computing P-values for point 2000 of 2500...\n",
      "Mean value of sigma: 2.386597\n",
      "Iteration 10: error is 23.443523\n",
      "Iteration 20: error is 20.743621\n",
      "Iteration 30: error is 17.973796\n",
      "Iteration 40: error is 16.805143\n",
      "Iteration 50: error is 16.417840\n",
      "Iteration 60: error is 16.306240\n",
      "Iteration 70: error is 16.191399\n",
      "Iteration 80: error is 16.103448\n",
      "Iteration 90: error is 16.012959\n",
      "Iteration 100: error is 15.951325\n",
      "Iteration 110: error is 2.329165\n",
      "Iteration 120: error is 2.097638\n",
      "Iteration 130: error is 1.914143\n",
      "Iteration 140: error is 1.772772\n",
      "Iteration 150: error is 1.663859\n",
      "Iteration 160: error is 1.578384\n",
      "Iteration 170: error is 1.509808\n",
      "Iteration 180: error is 1.453394\n",
      "Iteration 190: error is 1.406649\n",
      "Iteration 200: error is 1.367391\n",
      "Iteration 210: error is 1.334136\n",
      "Iteration 220: error is 1.305748\n",
      "Iteration 230: error is 1.281339\n",
      "Iteration 240: error is 1.260115\n",
      "Iteration 250: error is 1.241444\n",
      "Iteration 260: error is 1.224865\n",
      "Iteration 270: error is 1.210009\n",
      "Iteration 280: error is 1.196654\n",
      "Iteration 290: error is 1.184664\n",
      "Iteration 300: error is 1.173859\n",
      "Iteration 310: error is 1.164051\n",
      "Iteration 320: error is 1.155088\n",
      "Iteration 330: error is 1.146880\n",
      "Iteration 340: error is 1.139324\n",
      "Iteration 350: error is 1.132326\n",
      "Iteration 360: error is 1.125899\n",
      "Iteration 370: error is 1.119933\n",
      "Iteration 380: error is 1.114377\n",
      "Iteration 390: error is 1.109248\n",
      "Iteration 400: error is 1.104510\n",
      "Iteration 410: error is 1.100095\n",
      "Iteration 420: error is 1.095948\n",
      "Iteration 430: error is 1.092057\n",
      "Iteration 440: error is 1.088401\n",
      "Iteration 450: error is 1.084947\n",
      "Iteration 460: error is 1.081684\n",
      "Iteration 470: error is 1.078611\n",
      "Iteration 480: error is 1.075702\n",
      "Iteration 490: error is 1.072942\n",
      "Iteration 500: error is 1.070327\n",
      "Iteration 510: error is 1.067854\n",
      "Iteration 520: error is 1.065499\n",
      "Iteration 530: error is 1.063257\n",
      "Iteration 540: error is 1.061124\n",
      "Iteration 550: error is 1.059102\n",
      "Iteration 560: error is 1.057174\n",
      "Iteration 570: error is 1.055332\n",
      "Iteration 580: error is 1.053570\n",
      "Iteration 590: error is 1.051882\n",
      "Iteration 600: error is 1.050266\n",
      "Iteration 610: error is 1.048714\n",
      "Iteration 620: error is 1.047222\n",
      "Iteration 630: error is 1.045787\n",
      "Iteration 640: error is 1.044405\n",
      "Iteration 650: error is 1.043066\n",
      "Iteration 660: error is 1.041765\n",
      "Iteration 670: error is 1.040509\n",
      "Iteration 680: error is 1.039294\n",
      "Iteration 690: error is 1.038084\n",
      "Iteration 700: error is 1.036871\n",
      "Iteration 710: error is 1.035721\n",
      "Iteration 720: error is 1.034608\n",
      "Iteration 730: error is 1.033519\n",
      "Iteration 740: error is 1.032461\n",
      "Iteration 750: error is 1.031441\n",
      "Iteration 760: error is 1.030469\n",
      "Iteration 770: error is 1.029556\n",
      "Iteration 780: error is 1.028700\n",
      "Iteration 790: error is 1.027883\n",
      "Iteration 800: error is 1.027094\n",
      "Iteration 810: error is 1.026331\n",
      "Iteration 820: error is 1.025595\n",
      "Iteration 830: error is 1.024886\n",
      "Iteration 840: error is 1.024200\n",
      "Iteration 850: error is 1.023534\n",
      "Iteration 860: error is 1.022886\n",
      "Iteration 870: error is 1.022259\n",
      "Iteration 880: error is 1.021651\n",
      "Iteration 890: error is 1.021059\n",
      "Iteration 900: error is 1.020481\n",
      "Iteration 910: error is 1.019922\n",
      "Iteration 920: error is 1.019374\n",
      "Iteration 930: error is 1.018853\n",
      "Iteration 940: error is 1.018348\n",
      "Iteration 950: error is 1.017855\n",
      "Iteration 960: error is 1.017373\n",
      "Iteration 970: error is 1.016906\n",
      "Iteration 980: error is 1.016451\n",
      "Iteration 990: error is 1.016007\n",
      "Iteration 1000: error is 1.015573\n"
     ]
    }
   ],
   "source": [
    "Y = tsne(X, 2, 50, 20.0)"
   ]
  },
  {
   "cell_type": "code",
   "execution_count": 13,
   "metadata": {},
   "outputs": [
    {
     "data": {
      "text/plain": [
       "(2500, 2)"
      ]
     },
     "execution_count": 13,
     "metadata": {},
     "output_type": "execute_result"
    }
   ],
   "source": [
    "Y.shapee"
   ]
  },
  {
   "cell_type": "code",
   "execution_count": 14,
   "metadata": {},
   "outputs": [
    {
     "data": {
      "text/plain": [
       "<matplotlib.collections.PathCollection at 0x7f4bd2c55f10>"
      ]
     },
     "execution_count": 14,
     "metadata": {},
     "output_type": "execute_result"
    },
    {
     "data": {
      "image/png": "[encoded data removed]",
      "text/plain": [
       "<Figure size 432x288 with 1 Axes>"
      ]
     },
     "metadata": {},
     "output_type": "display_data"
    }
   ],
   "source": [
    "pylab.scatter(Y[:, 0], Y[:, 1], 20, labels)"
   ]
  },
  {
   "cell_type": "code",
   "execution_count": 24,
   "metadata": {},
   "outputs": [
    {
     "data": {
      "text/plain": [
       "5.0"
      ]
     },
     "execution_count": 24,
     "metadata": {},
     "output_type": "execute_result"
    }
   ],
   "source": [
    "labels[0]"
   ]
  },
  {
   "cell_type": "code",
   "execution_count": null,
   "metadata": {},
   "outputs": [],
   "source": []
  },
  {
   "cell_type": "code",
   "execution_count": null,
   "metadata": {},
   "outputs": [],
   "source": []
  },
  {
   "cell_type": "code",
   "execution_count": null,
   "metadata": {},
   "outputs": [],
   "source": []
  }
 ],
 "metadata": {
  "kernelspec": {
   "display_name": "Python 2",
   "language": "python",
   "name": "python2"
  },
  "language_info": {
   "codemirror_mode": {
    "name": "ipython",
    "version": 2
   },
   "file_extension": ".py",
   "mimetype": "text/x-python",
   "name": "python",
   "nbconvert_exporter": "python",
   "pygments_lexer": "ipython2",
   "version": "2.7.12"
  }
 },
 "nbformat": 4,
 "nbformat_minor": 2
}
